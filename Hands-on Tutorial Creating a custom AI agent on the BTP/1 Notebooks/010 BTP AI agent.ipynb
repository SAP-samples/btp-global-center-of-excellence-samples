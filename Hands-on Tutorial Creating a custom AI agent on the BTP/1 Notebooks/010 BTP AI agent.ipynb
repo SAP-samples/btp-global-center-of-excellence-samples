{
 "cells": [
  {
   "cell_type": "code",
   "execution_count": null,
   "id": "8ea5a3db-a0b4-4718-96d4-52f9b740b819",
   "metadata": {},
   "outputs": [],
   "source": [
    "#!pip install langchain_core"
   ]
  },
  {
   "cell_type": "code",
   "execution_count": null,
   "id": "32b23c3c-1e88-494e-9f63-6ee6c2369b59",
   "metadata": {},
   "outputs": [],
   "source": [
    "#!pip install langgraph"
   ]
  },
  {
   "cell_type": "code",
   "execution_count": null,
   "id": "513bb2ad-6b96-4dc2-a1f4-ee9f77d0c520",
   "metadata": {},
   "outputs": [],
   "source": [
    "#!pip install \"generative-ai-hub-sdk[all]\" "
   ]
  },
  {
   "cell_type": "markdown",
   "id": "77bd4845-1984-4879-9582-6b5765137560",
   "metadata": {},
   "source": [
    "# AI agent leveraging SAP Generative AI Hub"
   ]
  },
  {
   "cell_type": "markdown",
   "id": "8e21eb2f-2eb5-4648-b0cc-163bb840643f",
   "metadata": {},
   "source": [
    "### Get credentials for supporting systems"
   ]
  },
  {
   "cell_type": "markdown",
   "id": "165ec77c-a3a7-4375-a0a2-bb7f5df43441",
   "metadata": {},
   "source": [
    "Read all credentials"
   ]
  },
  {
   "cell_type": "code",
   "execution_count": null,
   "id": "06b01b15-402a-4505-badd-e1d181f81ee6",
   "metadata": {},
   "outputs": [],
   "source": [
    "import json\n",
    "with open('./credentials.json', 'r') as creds:\n",
    "  credentials = json.load(creds)"
   ]
  },
  {
   "cell_type": "markdown",
   "id": "a146f5ae-40d8-4f1b-90c9-1454741149b8",
   "metadata": {},
   "source": [
    "Credentials for SAP AI Core (to access Large Language Models on the SAP Generative AI Hub)"
   ]
  },
  {
   "cell_type": "code",
   "execution_count": null,
   "id": "637043c3-2e14-4eba-b828-c5ca2a746247",
   "metadata": {},
   "outputs": [],
   "source": [
    "import os\n",
    "os.environ[\"AICORE_CLIENT_ID\"]      = credentials[\"SAP_AI_CORE\"][\"AICORE_CLIENT_ID\"]\n",
    "os.environ[\"AICORE_CLIENT_SECRET\"]  = credentials[\"SAP_AI_CORE\"][\"AICORE_CLIENT_SECRET\"]\n",
    "os.environ[\"AICORE_AUTH_URL\"]       = credentials[\"SAP_AI_CORE\"][\"AICORE_AUTH_URL\"]\n",
    "os.environ[\"AICORE_RESOURCE_GROUP\"] = credentials[\"SAP_AI_CORE\"][\"AICORE_RESOURCE_GROUP\"]\n",
    "os.environ[\"AICORE_BASE_URL\"]       = credentials[\"SAP_AI_CORE\"][\"AICORE_BASE_URL\"]   "
   ]
  },
  {
   "cell_type": "markdown",
   "id": "a72220ca-120e-495e-b86e-10f3fd86dc3b",
   "metadata": {},
   "source": [
    "Credentials for SMTP server (to send emails)"
   ]
  },
  {
   "cell_type": "code",
   "execution_count": null,
   "id": "4a499809-55f7-4cb4-a2aa-09763d3a52d4",
   "metadata": {},
   "outputs": [],
   "source": [
    "smtp_server   = credentials[\"SMTP\"][\"SMTP_SERVER\"]\n",
    "smtp_port     = credentials[\"SMTP\"][\"SMTP_PORT\"]\n",
    "smtp_user     = credentials[\"SMTP\"][\"SMTP_USER\"]\n",
    "smtp_password = credentials[\"SMTP\"][\"SMTP_PASSWORD\"]"
   ]
  },
  {
   "cell_type": "markdown",
   "id": "c706f797-4cba-4fc2-888f-90463e265f85",
   "metadata": {},
   "source": [
    "### Define the tools the AI agent can leverage"
   ]
  },
  {
   "cell_type": "markdown",
   "id": "6825252d-7a45-48fb-a79b-2289517dceae",
   "metadata": {},
   "source": [
    "Each tool is provided as an independent function. The comments in the functions will be used by the AI agent to understand the functionality of each tool, the parameters it might require and which output it returns."
   ]
  },
  {
   "cell_type": "code",
   "execution_count": null,
   "id": "adeb6e57-dd24-46bc-9e08-050cdb3834ae",
   "metadata": {},
   "outputs": [],
   "source": [
    "import random\n",
    "def get_invoice_status(invoice_id: str) -> str:\n",
    "   \"\"\"Returns an invoice's status, ie whether it has been paid or not.\n",
    "\n",
    "   Args:\n",
    "      invoice_id: The invoide id\n",
    "   \"\"\"\n",
    "\n",
    "   # This function mocks retrieving the invoice status from a live system\n",
    "   # See SAP's API documentation for the real / live API that can provide this information from your system, ie the InvoiceClearingStatus on\n",
    "   # https://help.sap.com/docs/SAP_S4HANA_ON-PREMISE/19d48293097f4a2589433856b034dfa5/cb3caf09bd6749c59f0765981032b74e.html?locale=en-US\n",
    "   options = ['Paid', 'Overdue', 'Unpaid, not due yet']\n",
    "   invoice_status = random.choice(options)\n",
    "   response = f\"The status of invoice {invoice_id} is: {invoice_status}.\" \n",
    "    \n",
    "   return response    "
   ]
  },
  {
   "cell_type": "code",
   "execution_count": null,
   "id": "d999bc06-7b33-44db-9d6e-fa5f5f61776d",
   "metadata": {},
   "outputs": [],
   "source": [
    "def get_email_address(name: str) -> str:\n",
    "   \"\"\"Returns the person's email address\n",
    "\n",
    "   Args:\n",
    "      name: The name of the person whose email address is returned\n",
    "   \"\"\"\n",
    "\n",
    "   # This function mocks retrieving an email address from a live system\n",
    "   dict = {}\n",
    "   dict['Ewald'] = 'enteryourownemail@yourcompany.com.xyz'\n",
    "   dict['Stefan'] = 'enteryourownemail@yourcompany.com.xyz'\n",
    "   dict['Fabian'] = 'enteryourownemail@yourcompany.com.xyz'\n",
    "\n",
    "   if name in dict.keys():\n",
    "      response = dict[name]\n",
    "   else:\n",
    "      response = dict['Andreas']\n",
    "   return response    "
   ]
  },
  {
   "cell_type": "code",
   "execution_count": null,
   "id": "b4989ef0-4727-46d4-9208-f72c93549ad3",
   "metadata": {},
   "outputs": [],
   "source": [
    "import smtplib, ssl\n",
    "from email.mime.text import MIMEText\n",
    "def send_email(recipient_name: str, email_address: str, email_text: str) -> str:\n",
    "   \"\"\"Sends emails. Returns a status update.\n",
    "\n",
    "   Args:\n",
    "      recipient_name: The name of the email recipient\n",
    "      email_address: The recipient's email address\n",
    "      email_text: The email's text that will be send\n",
    "   \"\"\"\n",
    "    \n",
    "   # This function uses SMTP credentials to send an email directly from Python\n",
    "   # For productive use you may want to leverage a BTP component, for instance the Alert Notification service\n",
    "   # https://help.sap.com/docs/alert-notification/sap-alert-notification-for-sap-btp/email-action-type?locale=en-US\n",
    "    \n",
    "   # Prepare email content\n",
    "   subject = 'Email from your SAP BTP AI Agent'\n",
    "   content = email_text\n",
    "   msg = MIMEText(content, 'plain')\n",
    "   msg['Subject'] =  subject\n",
    "   msg['From']   = smtp_user \n",
    "\n",
    "   # Send the email\n",
    "   context = ssl.create_default_context()  \n",
    "   with smtplib.SMTP_SSL(smtp_server, smtp_port, context=context) as server:\n",
    "      server.login(smtp_user, smtp_password)\n",
    "      server.sendmail(from_addr=smtp_user, to_addrs=email_address, msg=msg.as_string())\n",
    "\n",
    "   return f\"I sent the email to {recipient_name} ({email_address}): \\n{email_text}\""
   ]
  },
  {
   "cell_type": "code",
   "execution_count": null,
   "id": "f0dbef94-47b3-46aa-a595-ae63b7add435",
   "metadata": {},
   "outputs": [],
   "source": [
    "### TODO Requires the implementation of the FAQ assistant as described in:\n",
    "### https://community.sap.com/t5/artificial-intelligence-and-machine-learning-blogs/hands-on-tutorial-creating-an-faq-assistant-as-tool-for-a-btp-ai-agent/ba-p/14027300\n",
    "\n",
    "import requests\n",
    "def answer_SAP_question(text: str) -> str:\n",
    "   \"\"\"Responds to questions about the company SAP\n",
    "\n",
    "   Args:\n",
    "      text: The question about SAP\n",
    "   \"\"\"\n",
    "\n",
    "   # Forward the incoming question to the AI assistant's REST-API\n",
    "   backend_api = \"https://ENTERYOURURLFROMTHEAIASSISTANT/\"\n",
    "   user_input = text\n",
    "   paylod = {'user_request': user_input}\n",
    "   headers = {'Accept' : 'application/json', 'Content-Type' : 'application/json'}\n",
    "   r = requests.get(backend_api, json=paylod, headers=headers, verify=False)\n",
    "   response = r.json()\n",
    "\n",
    "   # Obtain the response and response log\n",
    "   faq_response = response['faq_response']\n",
    "   faq_response_log = response['faq_response_log']\n",
    "\n",
    "   # Return the response    \n",
    "   return faq_response"
   ]
  },
  {
   "cell_type": "code",
   "execution_count": null,
   "id": "99feda81-5436-422c-9712-c2253081e607",
   "metadata": {},
   "outputs": [],
   "source": [
    "import requests\n",
    "from bs4 import BeautifulSoup\n",
    "def get_text_from_link(link: str) -> str:\n",
    "   \"\"\"Returns the text of the given website link\n",
    "\n",
    "   Args:\n",
    "      link: The link of the webiste whose text is to be returned\n",
    "   \"\"\"\n",
    "    \n",
    "   # Header to get automated access to SAP's website content\n",
    "   headers = {\n",
    "      'referer': 'https://www.scrapingcourse.com/ecommerce/',\n",
    "      'accept-language': 'en-US,en;q=0.9',\n",
    "      'content-type': 'application/json',\n",
    "      'accept-encoding': 'gzip, deflate, br',\n",
    "      'sec-ch-device-memory': '8',\n",
    "      'sec-ch-ua': '\"Google Chrome\";v=\"125\", \"Chromium\";v=\"125\", \"Not.A/Brand\";v=\"24\"',\n",
    "      'sec-ch-ua-platform': \"Windows\",\n",
    "      'sec-ch-ua-platform-version': '\"10.0.0\"',\n",
    "      'sec-ch-viewport-width': '792'\n",
    "   }\n",
    "   # Obtain the website content\n",
    "   response = requests.get(link, headers=headers)\n",
    "\n",
    "   # Simple parsing to get the website's text\n",
    "   soup = BeautifulSoup(response.content, 'html.parser')\n",
    "   link_text = soup.body.get_text()\n",
    "   link_text = link_text.replace('\\n', '')\n",
    "   link_text = link_text.replace('Javascript must be enabled for the correct page display', '')\n",
    "\n",
    "   return link_text"
   ]
  },
  {
   "cell_type": "code",
   "execution_count": null,
   "id": "35fcf682-472c-45eb-90ae-5a6256389bfb",
   "metadata": {},
   "outputs": [],
   "source": [
    "import requests\n",
    "from datetime import datetime\n",
    "def get_lunch_menu() -> str:\n",
    "   \"\"\"Returns today's menu of the SAP canteen in Zurich\n",
    "   \"\"\"\n",
    "    \n",
    "   # Scrape the canteen's website\n",
    "   response = requests.get(\"https://circle.sv-restaurant.ch/de/menuplan/chreis-14/\")\n",
    "   soup = BeautifulSoup(response.content, 'html.parser')\n",
    "    \n",
    "   # Get current day of week\n",
    "   dt = datetime.now()\n",
    "   weekday_current = dt.weekday()\n",
    "    \n",
    "   # If called on weekend, use Monday instead\n",
    "   if weekday_current < 5:\n",
    "       weekday_menu = weekday_current\n",
    "   else:\n",
    "       weekday_menu = 0\n",
    "    \n",
    "   # Get date for which menu will be returned\n",
    "   dates_raw = soup.find_all(class_='date')\n",
    "   dates = []\n",
    "   for day in dates_raw:\n",
    "       dates.append(day.text)\n",
    "   date = dates[0] # Past dates are removed from the restaurant page\n",
    "    \n",
    "   # Get menus for that date\n",
    "   menus = []\n",
    "   menus_raw = dates_raw = soup.find_all(id='menu-plan-tab' + str(weekday_menu))\n",
    "   menus_all_raw = soup.find(id='menu-plan-tab1')\n",
    "   menus_all = menus_all_raw.find_all(class_='menu-title')\n",
    "   for menu in menus_all:\n",
    "       if menu.text not in ['Lunch auf der Terrasse']:\n",
    "           menus.append(menu.text)\n",
    "           \n",
    "   # Prepare the response with the above information\n",
    "   menu_flowtext = ''\n",
    "   for i in range(len(menus)):\n",
    "       menu_flowtext += \" \" + str(i+1) + \") \" + menus[i]\n",
    "   menu_flowtext = menu_flowtext.lstrip()    \n",
    "   response = f\"On {weekday_menu}, the {date}, Chreis 14 serves {menu_flowtext}.\"\n",
    "\n",
    "   return response"
   ]
  },
  {
   "cell_type": "code",
   "execution_count": null,
   "id": "65c068d5-3297-4507-af81-770fd76b0bb4",
   "metadata": {},
   "outputs": [],
   "source": [
    "import requests\n",
    "def get_live_tv_arte() -> str:\n",
    "   \"\"\"Returns what is currently shown on the TV stastion ARTE\n",
    "   \"\"\"\n",
    "    \n",
    "   response = requests.get('https://api.arte.tv/api/player/v2/config/de/LIVE')\n",
    "   data = response.json()\n",
    "   title = data['data']['attributes']['metadata']['title']\n",
    "   description = data['data']['attributes']['metadata']['description']\n",
    "\n",
    "   return title + ': ' + description"
   ]
  },
  {
   "cell_type": "markdown",
   "id": "f486377b-84f6-443b-8794-82edebf00ff9",
   "metadata": {},
   "source": [
    "Collect the names of the functions the AI agent can leverage in a list"
   ]
  },
  {
   "cell_type": "code",
   "execution_count": null,
   "id": "37bcb5eb-f790-4b36-a4db-4c0b96f8f3ce",
   "metadata": {},
   "outputs": [],
   "source": [
    "tools = [get_invoice_status, get_email_address, send_email, answer_SAP_question, get_text_from_link, get_lunch_menu, get_live_tv_arte]"
   ]
  },
  {
   "cell_type": "markdown",
   "id": "33133f10-8f0b-43e5-a206-ddd85a21e8cb",
   "metadata": {},
   "source": [
    "### Create the AI agent"
   ]
  },
  {
   "cell_type": "code",
   "execution_count": null,
   "id": "c6ac6675-a56d-4a43-980b-985001b1b9d3",
   "metadata": {},
   "outputs": [],
   "source": [
    "from langchain_core.messages import SystemMessage\n",
    "from langgraph.graph import START, StateGraph, MessagesState\n",
    "from langgraph.prebuilt import tools_condition, ToolNode\n",
    "from gen_ai_hub.proxy.langchain.init_models import init_llm\n",
    "import urllib3\n",
    "urllib3.disable_warnings()"
   ]
  },
  {
   "cell_type": "markdown",
   "id": "8ae156da-b9d2-4d3c-83b8-7f9f9f3027e0",
   "metadata": {},
   "source": [
    "Initialise the Large Language Model and make the list of tools available to the AI agent"
   ]
  },
  {
   "cell_type": "code",
   "execution_count": null,
   "id": "740da618-df41-4319-a249-3a8f0536399d",
   "metadata": {},
   "outputs": [],
   "source": [
    "llm = init_llm('anthropic--claude-3.5-sonnet', max_tokens=300)\n",
    "llm_with_tools = llm.bind_tools(tools)"
   ]
  },
  {
   "cell_type": "markdown",
   "id": "75255108-962e-4b23-a349-ebb3d003e104",
   "metadata": {},
   "source": [
    "Configure the AI agent's behaviour with a system message"
   ]
  },
  {
   "cell_type": "code",
   "execution_count": null,
   "id": "f43cddc7-71fe-41f7-98c1-e528f443d4a7",
   "metadata": {},
   "outputs": [],
   "source": [
    "sys_msg = SystemMessage(content=\"You are a helfpul assistant tasked with answering questions about different topics. Your name is 'SAP BTP AI Agent'. Keep your answers short. After giving a response, do not ask for additional requests. Instead of referring to a link on your response call the function get_text_from_link to get the information from a given link yourself. Only use information that is provided to you by the different tools you are given. When sending email include a greeting and a salutation.\")"
   ]
  },
  {
   "cell_type": "markdown",
   "id": "ea4c2a02-63e2-4236-b802-4b62e8a58657",
   "metadata": {},
   "source": [
    "Define the Assistant node, which leverages the Large Language model, the bound tools and the system message as basis of the AI agent."
   ]
  },
  {
   "cell_type": "code",
   "execution_count": null,
   "id": "52607e48-abbd-4c58-8fac-c59d9955ecc5",
   "metadata": {},
   "outputs": [],
   "source": [
    "def assistant(state: MessagesState):\n",
    "   return {\"messages\": [llm_with_tools.invoke([sys_msg] + state[\"messages\"])]}"
   ]
  },
  {
   "cell_type": "markdown",
   "id": "f931a468-04fb-4709-ad34-46a973d8b031",
   "metadata": {},
   "source": [
    "Build and compile the graph, which defines the AI agent's capabilities. For full flexibility all tools are connected directly to the initial assistant node. Alternatively tools could be specifically assigned and dedicated as subcomponents to other tools. "
   ]
  },
  {
   "cell_type": "code",
   "execution_count": null,
   "id": "50e44833-761b-4f27-9de6-e92dea0618e7",
   "metadata": {},
   "outputs": [],
   "source": [
    "builder = StateGraph(MessagesState)\n",
    "builder.add_node(\"assistant\", assistant)\n",
    "builder.add_node(\"tools\", ToolNode(tools))\n",
    "builder.add_edge(START, \"assistant\")\n",
    "builder.add_conditional_edges(\n",
    "   \"assistant\",\n",
    "   # If the latest message (result) from assistant is a tool call -> tools_condition routes to Tools\n",
    "   # If the latest message (result) from assistant is not a tool call -> tools_condition routes to END\n",
    "   tools_condition,\n",
    ")\n",
    "builder.add_edge(\"tools\", \"assistant\")\n",
    "graph = builder.compile()"
   ]
  },
  {
   "cell_type": "markdown",
   "id": "eb4c3aed-090a-4ba9-8fb1-08a37597d3ed",
   "metadata": {},
   "source": [
    "Visualise the graph"
   ]
  },
  {
   "cell_type": "code",
   "execution_count": null,
   "id": "313cc2e8-f9a5-4733-a2b9-70a79f1891cd",
   "metadata": {
    "scrolled": true
   },
   "outputs": [],
   "source": [
    "from IPython.display import Image, display\n",
    "display(Image(graph.get_graph().draw_mermaid_png()))"
   ]
  },
  {
   "cell_type": "markdown",
   "id": "8ede8941-b991-493a-b85a-c4d225481213",
   "metadata": {},
   "source": [
    "### Use the graph with user input"
   ]
  },
  {
   "cell_type": "markdown",
   "id": "14a0acf8-40b0-4f1b-9ff8-f29b201293a8",
   "metadata": {},
   "source": [
    "Trigger the graph and receive the initial detailed log"
   ]
  },
  {
   "cell_type": "code",
   "execution_count": null,
   "id": "493b82f3-6ba4-4516-91b9-6c10380aa2c5",
   "metadata": {},
   "outputs": [],
   "source": [
    "user_input = \"Has invoice 42 been paid?\" \n",
    "#user_input = \"Email Andreas the status of invoice 43\" \n",
    "#user_input = \"Who is the boss at SAP?\" \n",
    "#user_input = \"Should I go for lunch or watch tv?\"\n",
    "agent_outcome = graph.invoke({\"messages\": [(\"user\", user_input)]})\n",
    "print(agent_outcome['messages'][-1].to_json()['kwargs']['content'])"
   ]
  },
  {
   "cell_type": "markdown",
   "id": "16655c44-be63-43e3-bfe0-cfed8d028124",
   "metadata": {},
   "source": [
    "Retrieve most important information from the detailed log"
   ]
  },
  {
   "cell_type": "code",
   "execution_count": null,
   "id": "2af433f9-7075-4283-9859-1105bddb470b",
   "metadata": {},
   "outputs": [],
   "source": [
    "messages_extract = []\n",
    "for msg in agent_outcome['messages']:\n",
    "    msg_actor = type(msg).__name__\n",
    "    msg_text = msg.content\n",
    "    if msg_actor == 'AIMessage':\n",
    "        if msg_text == '':\n",
    "           msg_text = msg.tool_calls\n",
    "    if msg_actor == 'ToolMessage':\n",
    "        msg_actor = msg_actor + ' (' + msg.name + ')'\n",
    "    messages_extract.append([msg_actor, msg_text])\n",
    "print(str(messages_extract).replace('],', '],\\n'))"
   ]
  },
  {
   "cell_type": "code",
   "execution_count": null,
   "id": "a0c740cd-bf2a-4b4c-8be1-b31f3d3b0157",
   "metadata": {},
   "outputs": [],
   "source": []
  }
 ],
 "metadata": {
  "kernelspec": {
   "display_name": "btpai2",
   "language": "python",
   "name": "btpai2"
  },
  "language_info": {
   "codemirror_mode": {
    "name": "ipython",
    "version": 3
   },
   "file_extension": ".py",
   "mimetype": "text/x-python",
   "name": "python",
   "nbconvert_exporter": "python",
   "pygments_lexer": "ipython3",
   "version": "3.12.9"
  }
 },
 "nbformat": 4,
 "nbformat_minor": 5
}
