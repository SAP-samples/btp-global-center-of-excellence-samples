{
 "cells": [
  {
   "cell_type": "markdown",
   "metadata": {},
   "source": [
    "Import necessary dependencies."
   ]
  },
  {
   "cell_type": "code",
   "execution_count": 2,
   "metadata": {},
   "outputs": [],
   "source": [
    "import uuid\n",
    "from typing import cast, Literal\n",
    "from IPython.core.display_functions import display\n",
    "from gen_ai_hub.proxy.langchain import init_llm\n",
    "from langchain_core.messages import AIMessage, ToolMessage\n",
    "from langchain_core.prompts import ChatPromptTemplate, MessagesPlaceholder\n",
    "from langchain_core.runnables import RunnableConfig\n",
    "from langgraph.checkpoint.memory import MemorySaver\n",
    "from langgraph.constants import START, END\n",
    "from langgraph.graph import StateGraph\n",
    "from langgraph.prebuilt import ToolNode\n",
    "from langgraph.prebuilt.chat_agent_executor import AgentState\n",
    "from langgraph.types import interrupt, Command, Send\n",
    "from pydantic import Field, BaseModel"
   ]
  },
  {
   "cell_type": "markdown",
   "metadata": {},
   "source": [
    "First, we need to initialize the large language model the agent will use to perform actions and respond to the users request. Here we use gpt-4o as the underlying language model, a maximum token count of 1024 and a temperature of zero to minimize uncertainty. A temperature of zero will lead to consistent result. However, the model output is not absolutely deterministic as the underlying caluclations are inherently undeterministic.\n",
    "> **Note:** In order to initialize the language model the relevant environment variables need to be set (see Setup).\n",
    "\n",
    "After initializing the LLM, we need give the agent access to the necessary tools.\n",
    "We import three functions. `get_records`, `post_records`, and `get_today` from the timesheet_tools module. These functions interact with the SuccessFactors Employee Central API:\n",
    "- `get_records`: Retrieves existing timesheet entries.\n",
    "- `post_records`: Submits new timesheet entries.\n",
    "- `get_today`: Fetches the current date.\n",
    "\n",
    "We bind the tools to the LLM. This allows the model to specify tool calls when it deems relevant.\n",
    "For a more detailed view on the tools see the appendix.\n"
   ]
  },
  {
   "cell_type": "code",
   "execution_count": 4,
   "metadata": {},
   "outputs": [],
   "source": [
    "llm = init_llm('gpt-4o', max_tokens=1024, temperature=0)\n",
    "\n",
    "from time_tools import get_records, post_records, get_today\n",
    "\n",
    "agent_tools = [get_records, post_records, get_today]\n",
    "agent_llm = llm.bind_tools(agent_tools)"
   ]
  },
  {
   "cell_type": "markdown",
   "metadata": {},
   "source": [
    "In order to ensure consistent and useful behaviour we need to define a well structured system prompt next. \n",
    "Generally, you should:\n",
    "  1. Define the role and persona.\n",
    "  2. Establish context and objectives\n",
    "  3. Outline clear instructions and constraints\n",
    "  4. Provide examples of ideal responses (Optional)\n",
    "\n",
    "\n",
    "By utilizing few-shot prompting model performance can be hugely improved. It also makes sense to encourage iterative clarification."
   ]
  },
  {
   "cell_type": "code",
   "execution_count": null,
   "metadata": {},
   "outputs": [],
   "source": [
    "system_prompt =\"\"\"\n",
    "Role and Objective:\n",
    "\n",
    "  - You are a helpful AI Agent dedicated to assisting users with their timesheet management.\n",
    "  - Your primary tasks include retrieving and posting timesheet data based on user requests.\n",
    "\n",
    "Responsibilities:\n",
    "\n",
    "  - Logging Work Time: Only log actual work time. Do not include any breaks.\n",
    "    - User: Today I worked from 6 to 16 with a half hour break at 12. -> You should: Log time from 6 to 12 and from 12:30 to 16.\n",
    "  - Data Handling: When posting records, execute as many post_records calls in parallel as possible using the provided information.\n",
    "  - Automatic Confirmation: When a post_records call is made, the user is automatically asked for confirmation over a GUI; do not prompt for confirmation.\n",
    "\n",
    "Interaction Guidelines:\n",
    "\n",
    "  - The user's most recent input always takes precedence over older input.\n",
    "  - Language Consistency: Always respond in the same language as the user.\n",
    "  - Clarity and Accuracy:\n",
    "    - If any part of the user’s request is ambiguous (for example, missing dates or unclear work times), ask clarifying questions rather than making assumptions.\n",
    "    - Ensure all necessary details are provided before proceeding with any action.\n",
    "\"\"\"\n",
    "\n",
    "prompt = ChatPromptTemplate.from_messages([\n",
    "    ('system', system_prompt),\n",
    "    MessagesPlaceholder(variable_name='msg')\n",
    "])"
   ]
  },
  {
   "cell_type": "markdown",
   "metadata": {},
   "source": [
    "Now we come to actually building our agent.\n",
    "As previously outlined, our agent consists of three nodes:\n",
    "\n",
    "- the agent node: executing LLM calls,\n",
    "- the review node: prompting the user for confirmation before mutative action\n",
    "- the tool node: executing tools specified in the agent's response\n",
    "  \n",
    "When a node is called it is passed the graph state. We use the prebuilt AgentState which defines a variable messages by subclassing TypedDict. This is simply a list of messages which is passed to the language model at every invocation."
   ]
  },
  {
   "cell_type": "code",
   "execution_count": 6,
   "metadata": {},
   "outputs": [],
   "source": [
    "def agent(state: AgentState, config: RunnableConfig):\n",
    "    model_input = prompt.invoke({'msg': state['messages']})\n",
    "    response = cast(AIMessage, agent_llm.invoke(model_input, config))\n",
    "    response.name = \"agent\"\n",
    "    return {\"messages\": [response]}\n"
   ]
  },
  {
   "cell_type": "markdown",
   "metadata": {},
   "source": [
    "Next we define the review node. For simplicity, we use only text input for verification. A more robust approach (used in the actual demo) can be found in the appendix. Here we use an additional language model for verificication. \n",
    "We use a workaround to get structured output from our model as of now structured_output is not supported. For this we bind a tool the model should use to structure its response."
   ]
  },
  {
   "cell_type": "code",
   "execution_count": 7,
   "metadata": {},
   "outputs": [],
   "source": [
    "\n",
    "class UserAffirmation(BaseModel):\n",
    "    \"\"\"Always use this tool to structure your response.\"\"\"\n",
    "    user_affirmation: bool = Field(description=\"Whether the user confirmed the action.\")\n",
    "    explanation: str = Field(description=\"An explanation of your decision.\")\n",
    "\n",
    "verification_llm = llm.bind_tools([UserAffirmation])\n"
   ]
  },
  {
   "cell_type": "markdown",
   "metadata": {},
   "source": [
    "When control is passed to the review node, the post requests from the agent's response are fetched. If no post request is present, execution is resumed with the tools node. This is done by returning a Send object which routes execution. Otherwise the user is asked for confirmation with an interrupt. In contrast to Python's interrupt, execution is not resumed from the interrupt point, but rather the last node is executed again from top to bottom. This can be a common pitfall. When the user has supplied a response, we call a language model to process the user's input and retrieve the structured response. If the user approves we continue execution with the tool node. Otherwise, we update the state by appending a Tool Message and resume execution with the agent node. It is strictly necessary to append a Tool Message as most model providers require every tool call to be accompanied by a corresponding Tool Message."
   ]
  },
  {
   "cell_type": "code",
   "execution_count": 8,
   "metadata": {},
   "outputs": [],
   "source": [
    "from typing import Union\n",
    "\n",
    "\n",
    "def human_review(state: AgentState) -> Command[Literal[\"agent\", \"tools\"]]:\n",
    "    last_message = state[\"messages\"][-1]\n",
    "    post_calls = [tool_call for tool_call in last_message.tool_calls if tool_call['name'] == 'post_records']\n",
    "\n",
    "    if len(post_calls) > 0:\n",
    "        confirmation_messages = [post_call[\"args\"][\"confirmation_messages\"] for post_call in post_calls]\n",
    "        user_review = interrupt({\"task\": \"Review the action.\",\n",
    "                           \"action\": confirmation_messages})\n",
    "        \n",
    "        output = verification_llm.invoke(\n",
    "            [('user', user_review), ('system', 'Verify whether the user wants to continue with the action.')])\n",
    "        should_continue = output.tool_calls[0]['args']['user_affirmation']\n",
    "        print(f\"Model explanation: {output.tool_calls[0]['args']['explanation']}\")\n",
    "        if should_continue:\n",
    "            return Send(node='tools', arg=state)\n",
    "        else:\n",
    "            return Command(update={\"messages\": [ToolMessage('User did not confirm action.', tool_call_id=post_call['id']) for post_call in post_calls]}, goto='agent')\n",
    "\n",
    "\n",
    "    else:\n",
    "        return Send(node='tools', arg=state)\n"
   ]
  },
  {
   "cell_type": "markdown",
   "metadata": {},
   "source": [
    "For the tools node we use the prebuilt ToolNode. It retrieves the tool calls from the last AIMessage and executes them. It provides a tool message for every tool call and appends it to the message history."
   ]
  },
  {
   "cell_type": "code",
   "execution_count": 9,
   "metadata": {},
   "outputs": [],
   "source": [
    "tool_node = ToolNode(agent_tools)"
   ]
  },
  {
   "cell_type": "markdown",
   "metadata": {},
   "source": [
    "Now we build our graph by adding the nodes and edges. Edges define what nodes to execute next."
   ]
  },
  {
   "cell_type": "code",
   "execution_count": null,
   "metadata": {},
   "outputs": [
    {
     "data": {
      "image/png": "[encoded data removed]",
      "text/plain": [
       "<langgraph.graph.state.CompiledStateGraph object at 0x0000018A9413DFA0>"
      ]
     },
     "metadata": {},
     "output_type": "display_data"
    },
    {
     "name": "stdout",
     "output_type": "stream",
     "text": [
      "%%{init: {'flowchart': {'curve': 'linear'}}}%%\n",
      "graph TD;\n",
      "\t__start__(<p>__start__</p>)\n",
      "\tagent([agent]):::last\n",
      "\ttools(tools)\n",
      "\thuman_review(human_review)\n",
      "\t__start__ --> agent;\n",
      "\ttools --> agent;\n",
      "\thuman_review -.-> agent;\n",
      "\thuman_review -.-> tools;\n",
      "\tclassDef default fill:#f2f0ff,line-height:1.2\n",
      "\tclassDef first fill-opacity:0\n",
      "\tclassDef last fill:#bfb6fc\n",
      "\n"
     ]
    }
   ],
   "source": [
    "\n",
    "workflow = StateGraph(AgentState)\n",
    "\n",
    "workflow.add_node('agent', agent)\n",
    "workflow.add_node('tools', tool_node)\n",
    "workflow.add_node('human_review', human_review)\n",
    "\n",
    "workflow.add_edge(START, \"agent\")\n",
    "workflow.add_edge(\"tools\", \"agent\")\n",
    "\n",
    "\n",
    "display(workflow.compile())"
   ]
  },
  {
   "cell_type": "markdown",
   "metadata": {},
   "source": [
    "Conditional edges define what node to execute next based on a condition. We add a conditional edge which routes the execution from the agent node either to the review node or the end node depending on whether the language model executed a tool call. "
   ]
  },
  {
   "cell_type": "code",
   "execution_count": null,
   "metadata": {},
   "outputs": [
    {
     "name": "stderr",
     "output_type": "stream",
     "text": [
      "Adding an edge to a graph that has already been compiled. This will not be reflected in the compiled graph.\n"
     ]
    },
    {
     "data": {
      "image/png": "[encoded data removed]",
      "text/plain": [
       "<langgraph.graph.state.CompiledStateGraph object at 0x0000018A93040FB0>"
      ]
     },
     "metadata": {},
     "output_type": "display_data"
    },
    {
     "name": "stdout",
     "output_type": "stream",
     "text": [
      "%%{init: {'flowchart': {'curve': 'linear'}}}%%\n",
      "graph TD;\n",
      "\t__start__([<p>__start__</p>]):::first\n",
      "\tagent(agent)\n",
      "\ttools(tools)\n",
      "\thuman_review(human_review)\n",
      "\t__end__([<p>__end__</p>]):::last\n",
      "\t__start__ --> agent;\n",
      "\ttools --> agent;\n",
      "\tagent -. &nbsp;tool call&nbsp; .-> human_review;\n",
      "\tagent -.-> __end__;\n",
      "\thuman_review -.-> agent;\n",
      "\thuman_review -.-> tools;\n",
      "\tclassDef default fill:#f2f0ff,line-height:1.2\n",
      "\tclassDef first fill-opacity:0\n",
      "\tclassDef last fill:#bfb6fc\n",
      "\n"
     ]
    }
   ],
   "source": [
    "def should_continue(state: AgentState) -> Literal[\"tools\", \"__end__\"]:\n",
    "    last_message = state[\"messages\"][-1]\n",
    "    if hasattr(last_message, \"tool_calls\") and len(last_message.tool_calls) > 0:\n",
    "        return \"tool call\"\n",
    "    return \"__end__\"\n",
    "\n",
    "workflow.add_conditional_edges(source=\"agent\", path=should_continue, path_map={\"tool call\": \"human_review\", \"__end__\": END})\n",
    "\n",
    "\n",
    "display(workflow.compile())"
   ]
  },
  {
   "cell_type": "markdown",
   "metadata": {},
   "source": [
    "Finally, we compile our graph. When compiling we add a checkpointer to achieve thread level persistence. With a checkpointer specified at compilation, a snapshot of the graph state is saved at every superstep. This is crucial for human-in-the-loop interactions as we need to resume execution after an interrupt is called. \n",
    "\n"
   ]
  },
  {
   "cell_type": "code",
   "execution_count": 10,
   "metadata": {},
   "outputs": [
    {
     "data": {
      "image/png": "[encoded data removed]",
      "text/plain": [
       "<langgraph.graph.state.CompiledStateGraph object at 0x000001BAC32787D0>"
      ]
     },
     "metadata": {},
     "output_type": "display_data"
    }
   ],
   "source": [
    "\n",
    "checkpointer = MemorySaver()\n",
    "timesheet_agent = workflow.compile(checkpointer=checkpointer)\n",
    "display(timesheet_agent)\n"
   ]
  },
  {
   "cell_type": "code",
   "execution_count": 11,
   "metadata": {},
   "outputs": [],
   "source": [
    "def process_output(stream):\n",
    "    for token in stream: \n",
    "        (key, content), = token.items()\n",
    "        if key == \"__interrupt__\":\n",
    "           print(content[0])\n",
    "           return True \n",
    "        if content is not None:\n",
    "           content['messages'][-1].pretty_print()\n",
    "    print(\"\\n\")\n",
    "    return False\n"
   ]
  },
  {
   "cell_type": "markdown",
   "metadata": {},
   "source": [
    "Now we can stream the output of our agent. We hand over a dictionary containing the user's input and a config with our thread id. Each thread represents an individual session betweeen the graph and the user. So, if we want to continue our conversation, we need to pass the same thread id to the graph."
   ]
  },
  {
   "cell_type": "code",
   "execution_count": 12,
   "metadata": {},
   "outputs": [
    {
     "name": "stdout",
     "output_type": "stream",
     "text": [
      "==================================\u001b[1m Ai Message \u001b[0m==================================\n",
      "Name: agent\n",
      "\n",
      "To log your work time accurately, I will exclude the half-hour break from your total work hours. \n",
      "\n",
      "Your work hours are:\n",
      "- From 06:00 to 12:00 (6 hours)\n",
      "- From 12:30 to 18:00 (5.5 hours)\n",
      "\n",
      "Total work hours: 11.5 hours\n",
      "\n",
      "I will now log these work hours for today. Let me first retrieve today's date.\n",
      "Tool Calls:\n",
      "  get_today (call_rHtgYYzDZ5aTvTwyzf4oCmk1)\n",
      " Call ID: call_rHtgYYzDZ5aTvTwyzf4oCmk1\n",
      "  Args:\n",
      "=================================\u001b[1m Tool Message \u001b[0m=================================\n",
      "Name: get_today\n",
      "\n",
      "2025-03-11\n",
      "==================================\u001b[1m Ai Message \u001b[0m==================================\n",
      "Name: agent\n",
      "Tool Calls:\n",
      "  post_records (call_uHlGJYSAiPqzwWkdBnoFudoh)\n",
      " Call ID: call_uHlGJYSAiPqzwWkdBnoFudoh\n",
      "  Args:\n",
      "    data: {'startDate': '2025-03-11', 'startTime': 'PT06H00M00S', 'endTime': 'PT12H00M00S'}\n",
      "    confirmation_messages: Would you like to log your work hours from 06:00 to 12:00 on March 11th 2025?\n",
      "  post_records (call_0KBLAkU10fyGTnUxPjRlFSdm)\n",
      " Call ID: call_0KBLAkU10fyGTnUxPjRlFSdm\n",
      "  Args:\n",
      "    data: {'startDate': '2025-03-11', 'startTime': 'PT12H30M00S', 'endTime': 'PT18H00M00S'}\n",
      "    confirmation_messages: Would you like to log your work hours from 12:30 to 18:00 on March 11th 2025?\n",
      "Interrupt(value={'task': 'Review the action.', 'action': ['Would you like to log your work hours from 06:00 to 12:00 on March 11th 2025?', 'Would you like to log your work hours from 12:30 to 18:00 on March 11th 2025?']}, resumable=True, ns=['human_review:8ca39563-52d9-eb3c-ae84-461fce829650'], when='during')\n",
      "Model explanation: The user has confirmed the action by saying 'Sure.'\n",
      "=================================\u001b[1m Tool Message \u001b[0m=================================\n",
      "Name: post_records\n",
      "\n",
      "Entity created succesfully.\n",
      "==================================\u001b[1m Ai Message \u001b[0m==================================\n",
      "Name: agent\n",
      "\n",
      "Your work hours for today, March 11th, 2025, have been successfully logged:\n",
      "- From 06:00 to 12:00\n",
      "- From 12:30 to 18:00\n",
      "\n",
      "If you need any further assistance, feel free to ask!\n",
      "\n",
      "\n"
     ]
    },
    {
     "data": {
      "text/plain": [
       "False"
      ]
     },
     "execution_count": 12,
     "metadata": {},
     "output_type": "execute_result"
    }
   ],
   "source": [
    "\n",
    "config = {\"configurable\": {\"thread_id\": str(uuid.uuid1())}}\n",
    "\n",
    "user_input = {'messages': ['user', 'Today I worked from 6 to 6 with a half hour break at 12.']}\n",
    "process_output(timesheet_agent.stream(user_input, config, stream_mode='updates'))\n",
    "\n",
    "user_input = Command(resume='Sure.')\n",
    "process_output(timesheet_agent.stream(user_input, config, stream_mode='updates'))\n",
    "\n",
    "\n"
   ]
  },
  {
   "cell_type": "markdown",
   "metadata": {},
   "source": [
    "Now you can try interacting with the agent."
   ]
  },
  {
   "cell_type": "code",
   "execution_count": 13,
   "metadata": {},
   "outputs": [
    {
     "name": "stdout",
     "output_type": "stream",
     "text": [
      "Type to interact with the agent (type q to quit):\n",
      "\n",
      "worked from 10 to 11\n",
      "==================================\u001b[1m Ai Message \u001b[0m==================================\n",
      "Name: agent\n",
      "\n",
      "Please provide the date on which you worked from 10:00 to 11:00. This will help me log your work time accurately.\n",
      "\n",
      "\n",
      "yesterday\n",
      "==================================\u001b[1m Ai Message \u001b[0m==================================\n",
      "Name: agent\n",
      "Tool Calls:\n",
      "  get_today (call_dtYYuTiZKB6TI8OIhtQSyMbZ)\n",
      " Call ID: call_dtYYuTiZKB6TI8OIhtQSyMbZ\n",
      "  Args:\n",
      "=================================\u001b[1m Tool Message \u001b[0m=================================\n",
      "Name: get_today\n",
      "\n",
      "2025-03-11\n",
      "==================================\u001b[1m Ai Message \u001b[0m==================================\n",
      "Name: agent\n",
      "\n",
      "I will log your work time from 10:00 to 11:00 on 2025-03-10 (yesterday).\n",
      "\n",
      "Proceeding to post the record.\n",
      "Tool Calls:\n",
      "  post_records (call_P6bfNYrinCaR4tjLdetMNEjP)\n",
      " Call ID: call_P6bfNYrinCaR4tjLdetMNEjP\n",
      "  Args:\n",
      "    data: {'startDate': '2025-03-10', 'startTime': 'PT10H00M00S', 'endTime': 'PT11H00M00S'}\n",
      "    confirmation_messages: Would you like to log your work hours from 10:00 to 11:00 on March 10th, 2025?\n",
      "Interrupt(value={'task': 'Review the action.', 'action': ['Would you like to log your work hours from 10:00 to 11:00 on March 10th, 2025?']}, resumable=True, ns=['human_review:df9ecd8c-58e2-6c66-825c-92fb3bd13fcf'], when='during')\n",
      "sounds good\n",
      "Model explanation: The user confirmed that the action sounds good.\n",
      "=================================\u001b[1m Tool Message \u001b[0m=================================\n",
      "Name: post_records\n",
      "\n",
      "Entity created succesfully.\n",
      "==================================\u001b[1m Ai Message \u001b[0m==================================\n",
      "Name: agent\n",
      "\n",
      "Your work time from 10:00 to 11:00 on March 10th, 2025 has been successfully logged. If you need any further assistance, feel free to ask!\n",
      "\n",
      "\n"
     ]
    }
   ],
   "source": [
    "\n",
    "config = {\"configurable\": {\"thread_id\": str(uuid.uuid1())}}\n",
    "interrupted = False\n",
    "\n",
    "print(\"Type to interact with the agent (type q to quit):\\n\")\n",
    "while True:\n",
    "    user_input = input()\n",
    "    if user_input.lower() == 'q':\n",
    "        break\n",
    "    print(user_input)\n",
    "\n",
    "    if interrupted:\n",
    "        interrupted = False\n",
    "        user_input = Command(resume=user_input)\n",
    "    else:\n",
    "        user_input = {'messages': ['user', user_input]}\n",
    "\n",
    "    interrupted = process_output(timesheet_agent.stream(user_input, config, stream_mode=\"updates\"))\n",
    "      \n",
    "\n"
   ]
  }
 ],
 "metadata": {
  "kernelspec": {
   "display_name": "Python 3",
   "language": "python",
   "name": "python3"
  },
  "language_info": {
   "codemirror_mode": {
    "name": "ipython",
    "version": 3
   },
   "file_extension": ".py",
   "mimetype": "text/x-python",
   "name": "python",
   "nbconvert_exporter": "python",
   "pygments_lexer": "ipython3",
   "version": "3.12.4"
  }
 },
 "nbformat": 4,
 "nbformat_minor": 2
}
