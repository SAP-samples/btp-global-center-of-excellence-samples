{
 "cells": [
  {
   "cell_type": "markdown",
   "id": "c8e40c81-009f-476c-a60e-624f31246da2",
   "metadata": {},
   "source": [
    "# Upload Questions and Answer to SAP HANA Cloud"
   ]
  },
  {
   "cell_type": "markdown",
   "id": "a0943260-a031-4fc4-827d-bea046658c0d",
   "metadata": {},
   "source": [
    "### Get credentials for SAP HANA Cloud"
   ]
  },
  {
   "cell_type": "code",
   "execution_count": 1,
   "id": "56da3dc3-fa2b-4d6b-a418-6ed64ee0946c",
   "metadata": {},
   "outputs": [],
   "source": [
    "import json\n",
    "with open('./credentials.json', 'r') as creds:\n",
    "  credentials = json.load(creds)"
   ]
  },
  {
   "cell_type": "code",
   "execution_count": 2,
   "id": "97d0177f-a0dd-4215-8d2f-b359b985e755",
   "metadata": {},
   "outputs": [],
   "source": [
    "SAP_HANA_CLOUD_ADDRESS  = credentials[\"SAP_HANA_CLOUD\"][\"HANA_ADDRESS\"]\n",
    "SAP_HANA_CLOUD_PORT     = credentials[\"SAP_HANA_CLOUD\"][\"HANA_PORT\"]\n",
    "SAP_HANA_CLOUD_USER     = credentials[\"SAP_HANA_CLOUD\"][\"HANA_USER\"]\n",
    "SAP_HANA_CLOUD_PASSWORD = credentials[\"SAP_HANA_CLOUD\"][\"HANA_PASSWORD\"]"
   ]
  },
  {
   "cell_type": "markdown",
   "id": "c06140f2-290a-4641-b0ed-f8a59d1f85b3",
   "metadata": {},
   "source": [
    "### Logon to SAP HANA Cloud with those credentials"
   ]
  },
  {
   "cell_type": "code",
   "execution_count": 3,
   "id": "4de417e2-9100-4af8-a9cb-6172eee74dca",
   "metadata": {},
   "outputs": [
    {
     "data": {
      "text/plain": [
       "True"
      ]
     },
     "execution_count": 3,
     "metadata": {},
     "output_type": "execute_result"
    }
   ],
   "source": [
    "import hana_ml.dataframe as dataframe\n",
    "conn = dataframe.ConnectionContext(\n",
    "                                   address  = SAP_HANA_CLOUD_ADDRESS,\n",
    "                                   port     = SAP_HANA_CLOUD_PORT,\n",
    "                                   user     = SAP_HANA_CLOUD_USER,\n",
    "                                   password = SAP_HANA_CLOUD_PASSWORD, \n",
    "                                  )\n",
    "conn.connection.isconnected()"
   ]
  },
  {
   "cell_type": "markdown",
   "id": "1229333b-868a-4fd6-8b4d-c1cbe7fc3fb3",
   "metadata": {},
   "source": [
    "### Upload Questions as table"
   ]
  },
  {
   "cell_type": "markdown",
   "id": "80767317-cf5d-4ae7-aee9-2398e1029ff7",
   "metadata": {},
   "source": [
    "Load data from Excel to pandas"
   ]
  },
  {
   "cell_type": "code",
   "execution_count": 4,
   "id": "79098c1f-5d88-4ee2-8c4b-0302515bd166",
   "metadata": {},
   "outputs": [
    {
     "data": {
      "text/html": [
       "<div>\n",
       "<style scoped>\n",
       "    .dataframe tbody tr th:only-of-type {\n",
       "        vertical-align: middle;\n",
       "    }\n",
       "\n",
       "    .dataframe tbody tr th {\n",
       "        vertical-align: top;\n",
       "    }\n",
       "\n",
       "    .dataframe thead th {\n",
       "        text-align: right;\n",
       "    }\n",
       "</style>\n",
       "<table border=\"1\" class=\"dataframe\">\n",
       "  <thead>\n",
       "    <tr style=\"text-align: right;\">\n",
       "      <th></th>\n",
       "      <th>AID</th>\n",
       "      <th>QID</th>\n",
       "      <th>QUESTION</th>\n",
       "      <th>QUESTION_VECTOR</th>\n",
       "    </tr>\n",
       "  </thead>\n",
       "  <tbody>\n",
       "    <tr>\n",
       "      <th>0</th>\n",
       "      <td>1000</td>\n",
       "      <td>1</td>\n",
       "      <td>When was SAP founded?</td>\n",
       "      <td>NaN</td>\n",
       "    </tr>\n",
       "    <tr>\n",
       "      <th>1</th>\n",
       "      <td>1001</td>\n",
       "      <td>1</td>\n",
       "      <td>What does the acronym \"SAP\" stand for?</td>\n",
       "      <td>NaN</td>\n",
       "    </tr>\n",
       "    <tr>\n",
       "      <th>2</th>\n",
       "      <td>1002</td>\n",
       "      <td>1</td>\n",
       "      <td>What is SAP’s vision and mission?</td>\n",
       "      <td>NaN</td>\n",
       "    </tr>\n",
       "    <tr>\n",
       "      <th>3</th>\n",
       "      <td>1003</td>\n",
       "      <td>1</td>\n",
       "      <td>What is the business outlook for the current f...</td>\n",
       "      <td>NaN</td>\n",
       "    </tr>\n",
       "    <tr>\n",
       "      <th>4</th>\n",
       "      <td>1004</td>\n",
       "      <td>1</td>\n",
       "      <td>Are you planning to grow organically or throug...</td>\n",
       "      <td>NaN</td>\n",
       "    </tr>\n",
       "  </tbody>\n",
       "</table>\n",
       "</div>"
      ],
      "text/plain": [
       "    AID  QID                                           QUESTION   \n",
       "0  1000    1                              When was SAP founded?  \\\n",
       "1  1001    1             What does the acronym \"SAP\" stand for?   \n",
       "2  1002    1                  What is SAP’s vision and mission?   \n",
       "3  1003    1  What is the business outlook for the current f...   \n",
       "4  1004    1  Are you planning to grow organically or throug...   \n",
       "\n",
       "   QUESTION_VECTOR  \n",
       "0              NaN  \n",
       "1              NaN  \n",
       "2              NaN  \n",
       "3              NaN  \n",
       "4              NaN  "
      ]
     },
     "execution_count": 4,
     "metadata": {},
     "output_type": "execute_result"
    }
   ],
   "source": [
    "#!pip install openpyxl\n",
    "import pandas as pd\n",
    "df_data= pd.read_excel ('FAQ_QUESTIONS.xlsx') \n",
    "df_data.head(5)"
   ]
  },
  {
   "cell_type": "markdown",
   "id": "8a295e00-9067-401f-af65-69d3fe8d76c2",
   "metadata": {},
   "source": [
    "Upload data to SAP HANA as table. The vector column will be filled later"
   ]
  },
  {
   "cell_type": "code",
   "execution_count": 5,
   "id": "15d7b762-c56d-4066-8162-58a999e39859",
   "metadata": {},
   "outputs": [
    {
     "name": "stderr",
     "output_type": "stream",
     "text": [
      "100%|████████████████████████████████████████████████████████████████████████████████████| 1/1 [00:00<00:00, 20.50it/s]\n"
     ]
    }
   ],
   "source": [
    "import hana_ml.dataframe as dataframe\n",
    "df_remote = dataframe.create_dataframe_from_pandas(connection_context=conn, \n",
    "                                                   pandas_df=df_data, \n",
    "                                                   table_name='FAQ_QUESTIONS',\n",
    "                                                   force=True,\n",
    "                                                   replace=False,\n",
    "                                                   table_structure = {'QUESTION_VECTOR': 'REAL_VECTOR(1536)'})"
   ]
  },
  {
   "cell_type": "code",
   "execution_count": 6,
   "id": "87753150-0dfa-427d-a4f1-35ff5c3a1afc",
   "metadata": {},
   "outputs": [
    {
     "data": {
      "text/html": [
       "<div>\n",
       "<style scoped>\n",
       "    .dataframe tbody tr th:only-of-type {\n",
       "        vertical-align: middle;\n",
       "    }\n",
       "\n",
       "    .dataframe tbody tr th {\n",
       "        vertical-align: top;\n",
       "    }\n",
       "\n",
       "    .dataframe thead th {\n",
       "        text-align: right;\n",
       "    }\n",
       "</style>\n",
       "<table border=\"1\" class=\"dataframe\">\n",
       "  <thead>\n",
       "    <tr style=\"text-align: right;\">\n",
       "      <th></th>\n",
       "      <th>AID</th>\n",
       "      <th>QID</th>\n",
       "      <th>QUESTION</th>\n",
       "      <th>QUESTION_VECTOR</th>\n",
       "    </tr>\n",
       "  </thead>\n",
       "  <tbody>\n",
       "    <tr>\n",
       "      <th>0</th>\n",
       "      <td>1000</td>\n",
       "      <td>1</td>\n",
       "      <td>When was SAP founded?</td>\n",
       "      <td>None</td>\n",
       "    </tr>\n",
       "    <tr>\n",
       "      <th>1</th>\n",
       "      <td>1001</td>\n",
       "      <td>1</td>\n",
       "      <td>What does the acronym \"SAP\" stand for?</td>\n",
       "      <td>None</td>\n",
       "    </tr>\n",
       "    <tr>\n",
       "      <th>2</th>\n",
       "      <td>1002</td>\n",
       "      <td>1</td>\n",
       "      <td>What is SAP’s vision and mission?</td>\n",
       "      <td>None</td>\n",
       "    </tr>\n",
       "    <tr>\n",
       "      <th>3</th>\n",
       "      <td>1003</td>\n",
       "      <td>1</td>\n",
       "      <td>What is the business outlook for the current f...</td>\n",
       "      <td>None</td>\n",
       "    </tr>\n",
       "    <tr>\n",
       "      <th>4</th>\n",
       "      <td>1004</td>\n",
       "      <td>1</td>\n",
       "      <td>Are you planning to grow organically or throug...</td>\n",
       "      <td>None</td>\n",
       "    </tr>\n",
       "  </tbody>\n",
       "</table>\n",
       "</div>"
      ],
      "text/plain": [
       "    AID  QID                                           QUESTION   \n",
       "0  1000    1                              When was SAP founded?  \\\n",
       "1  1001    1             What does the acronym \"SAP\" stand for?   \n",
       "2  1002    1                  What is SAP’s vision and mission?   \n",
       "3  1003    1  What is the business outlook for the current f...   \n",
       "4  1004    1  Are you planning to grow organically or throug...   \n",
       "\n",
       "  QUESTION_VECTOR  \n",
       "0            None  \n",
       "1            None  \n",
       "2            None  \n",
       "3            None  \n",
       "4            None  "
      ]
     },
     "execution_count": 6,
     "metadata": {},
     "output_type": "execute_result"
    }
   ],
   "source": [
    "df_remote.head(5).collect()"
   ]
  },
  {
   "cell_type": "markdown",
   "id": "78259364-b13f-4f7e-a608-e3470da0e0de",
   "metadata": {},
   "source": [
    "### Upload Answers as table"
   ]
  },
  {
   "cell_type": "code",
   "execution_count": 7,
   "id": "f2a2b827-d9e2-42f0-9b33-0b603356fdc1",
   "metadata": {},
   "outputs": [
    {
     "data": {
      "text/html": [
       "<div>\n",
       "<style scoped>\n",
       "    .dataframe tbody tr th:only-of-type {\n",
       "        vertical-align: middle;\n",
       "    }\n",
       "\n",
       "    .dataframe tbody tr th {\n",
       "        vertical-align: top;\n",
       "    }\n",
       "\n",
       "    .dataframe thead th {\n",
       "        text-align: right;\n",
       "    }\n",
       "</style>\n",
       "<table border=\"1\" class=\"dataframe\">\n",
       "  <thead>\n",
       "    <tr style=\"text-align: right;\">\n",
       "      <th></th>\n",
       "      <th>AID</th>\n",
       "      <th>ANSWER</th>\n",
       "    </tr>\n",
       "  </thead>\n",
       "  <tbody>\n",
       "    <tr>\n",
       "      <th>0</th>\n",
       "      <td>1000</td>\n",
       "      <td>In 1972, five former IBM employees founded the...</td>\n",
       "    </tr>\n",
       "    <tr>\n",
       "      <th>1</th>\n",
       "      <td>1001</td>\n",
       "      <td>\"SAP\" stands for Systems, Applications, and Pr...</td>\n",
       "    </tr>\n",
       "    <tr>\n",
       "      <th>2</th>\n",
       "      <td>1002</td>\n",
       "      <td>In the digital era, data is the “new currency”...</td>\n",
       "    </tr>\n",
       "    <tr>\n",
       "      <th>3</th>\n",
       "      <td>1003</td>\n",
       "      <td>The outlook and mid-term ambition can be found...</td>\n",
       "    </tr>\n",
       "    <tr>\n",
       "      <th>4</th>\n",
       "      <td>1004</td>\n",
       "      <td>Organic growth remains the primary driver of o...</td>\n",
       "    </tr>\n",
       "  </tbody>\n",
       "</table>\n",
       "</div>"
      ],
      "text/plain": [
       "    AID                                             ANSWER\n",
       "0  1000  In 1972, five former IBM employees founded the...\n",
       "1  1001  \"SAP\" stands for Systems, Applications, and Pr...\n",
       "2  1002  In the digital era, data is the “new currency”...\n",
       "3  1003  The outlook and mid-term ambition can be found...\n",
       "4  1004  Organic growth remains the primary driver of o..."
      ]
     },
     "execution_count": 7,
     "metadata": {},
     "output_type": "execute_result"
    }
   ],
   "source": [
    "import pandas as pd\n",
    "df_data= pd.read_excel ('FAQ_ANSWERS.xlsx') \n",
    "df_data.head(5)"
   ]
  },
  {
   "cell_type": "markdown",
   "id": "2048321a-3ef2-4b60-afc2-54120a632d66",
   "metadata": {},
   "source": [
    "Upload data to SAP HANA as table. "
   ]
  },
  {
   "cell_type": "code",
   "execution_count": 8,
   "id": "f6ddfcfc-690f-4a4c-b95f-e5817bf5037a",
   "metadata": {},
   "outputs": [
    {
     "name": "stderr",
     "output_type": "stream",
     "text": [
      "100%|████████████████████████████████████████████████████████████████████████████████████| 1/1 [00:00<00:00, 29.01it/s]\n"
     ]
    }
   ],
   "source": [
    "import hana_ml.dataframe as dataframe\n",
    "df_remote = dataframe.create_dataframe_from_pandas(connection_context=conn, \n",
    "                                                   pandas_df=df_data, \n",
    "                                                   table_name='FAQ_ANSWERS',\n",
    "                                                   force=True,\n",
    "                                                   replace=False)"
   ]
  },
  {
   "cell_type": "code",
   "execution_count": 9,
   "id": "87d76be3-e9e9-473a-b2c2-7d1fcf08caab",
   "metadata": {},
   "outputs": [
    {
     "data": {
      "text/html": [
       "<div>\n",
       "<style scoped>\n",
       "    .dataframe tbody tr th:only-of-type {\n",
       "        vertical-align: middle;\n",
       "    }\n",
       "\n",
       "    .dataframe tbody tr th {\n",
       "        vertical-align: top;\n",
       "    }\n",
       "\n",
       "    .dataframe thead th {\n",
       "        text-align: right;\n",
       "    }\n",
       "</style>\n",
       "<table border=\"1\" class=\"dataframe\">\n",
       "  <thead>\n",
       "    <tr style=\"text-align: right;\">\n",
       "      <th></th>\n",
       "      <th>AID</th>\n",
       "      <th>ANSWER</th>\n",
       "    </tr>\n",
       "  </thead>\n",
       "  <tbody>\n",
       "    <tr>\n",
       "      <th>0</th>\n",
       "      <td>1000</td>\n",
       "      <td>In 1972, five former IBM employees founded the...</td>\n",
       "    </tr>\n",
       "    <tr>\n",
       "      <th>1</th>\n",
       "      <td>1001</td>\n",
       "      <td>\"SAP\" stands for Systems, Applications, and Pr...</td>\n",
       "    </tr>\n",
       "    <tr>\n",
       "      <th>2</th>\n",
       "      <td>1002</td>\n",
       "      <td>In the digital era, data is the “new currency”...</td>\n",
       "    </tr>\n",
       "    <tr>\n",
       "      <th>3</th>\n",
       "      <td>1003</td>\n",
       "      <td>The outlook and mid-term ambition can be found...</td>\n",
       "    </tr>\n",
       "    <tr>\n",
       "      <th>4</th>\n",
       "      <td>1004</td>\n",
       "      <td>Organic growth remains the primary driver of o...</td>\n",
       "    </tr>\n",
       "  </tbody>\n",
       "</table>\n",
       "</div>"
      ],
      "text/plain": [
       "    AID                                             ANSWER\n",
       "0  1000  In 1972, five former IBM employees founded the...\n",
       "1  1001  \"SAP\" stands for Systems, Applications, and Pr...\n",
       "2  1002  In the digital era, data is the “new currency”...\n",
       "3  1003  The outlook and mid-term ambition can be found...\n",
       "4  1004  Organic growth remains the primary driver of o..."
      ]
     },
     "execution_count": 9,
     "metadata": {},
     "output_type": "execute_result"
    }
   ],
   "source": [
    "df_remote.head(5).collect()"
   ]
  },
  {
   "cell_type": "code",
   "execution_count": null,
   "id": "1ac540ce-1ac1-4382-89f2-ea5394aff20f",
   "metadata": {},
   "outputs": [],
   "source": []
  }
 ],
 "metadata": {
  "kernelspec": {
   "display_name": "dsbook",
   "language": "python",
   "name": "dsbook"
  },
  "language_info": {
   "codemirror_mode": {
    "name": "ipython",
    "version": 3
   },
   "file_extension": ".py",
   "mimetype": "text/x-python",
   "name": "python",
   "nbconvert_exporter": "python",
   "pygments_lexer": "ipython3",
   "version": "3.9.18"
  }
 },
 "nbformat": 4,
 "nbformat_minor": 5
}
