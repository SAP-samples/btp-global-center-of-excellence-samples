{
 "cells": [
  {
   "cell_type": "markdown",
   "id": "c8e40c81-009f-476c-a60e-624f31246da2",
   "metadata": {
    "tags": []
   },
   "source": [
    "# Create embeddings of new Questions and store the vector in SAP HANA Cloud"
   ]
  },
  {
   "cell_type": "markdown",
   "id": "389bf4c5-e352-413c-b25e-4c45201de616",
   "metadata": {
    "tags": []
   },
   "source": [
    "### Get credentials for SAP HANA Cloud"
   ]
  },
  {
   "cell_type": "code",
   "execution_count": 1,
   "id": "06b01b15-402a-4505-badd-e1d181f81ee6",
   "metadata": {},
   "outputs": [],
   "source": [
    "import json\n",
    "with open('./credentials.json', 'r') as creds:\n",
    "  credentials = json.load(creds)"
   ]
  },
  {
   "cell_type": "code",
   "execution_count": 2,
   "id": "63350ba9-b6b4-4601-810b-d8e6bdce1c0d",
   "metadata": {},
   "outputs": [],
   "source": [
    "SAP_HANA_CLOUD_ADDRESS  = credentials[\"SAP_HANA_CLOUD\"][\"HANA_ADDRESS\"]\n",
    "SAP_HANA_CLOUD_PORT     = credentials[\"SAP_HANA_CLOUD\"][\"HANA_PORT\"]\n",
    "SAP_HANA_CLOUD_USER     = credentials[\"SAP_HANA_CLOUD\"][\"HANA_USER\"]\n",
    "SAP_HANA_CLOUD_PASSWORD = credentials[\"SAP_HANA_CLOUD\"][\"HANA_PASSWORD\"]"
   ]
  },
  {
   "cell_type": "markdown",
   "id": "8e21eb2f-2eb5-4648-b0cc-163bb840643f",
   "metadata": {},
   "source": [
    "### Get credentials for SAP AI Core"
   ]
  },
  {
   "cell_type": "code",
   "execution_count": 3,
   "id": "637043c3-2e14-4eba-b828-c5ca2a746247",
   "metadata": {},
   "outputs": [],
   "source": [
    "import os\n",
    "os.environ[\"AICORE_CLIENT_ID\"]      = credentials[\"SAP_AI_CORE\"][\"AICORE_CLIENT_ID\"]\n",
    "os.environ[\"AICORE_CLIENT_SECRET\"]  = credentials[\"SAP_AI_CORE\"][\"AICORE_CLIENT_SECRET\"]\n",
    "os.environ[\"AICORE_AUTH_URL\"]       = credentials[\"SAP_AI_CORE\"][\"AICORE_AUTH_URL\"]\n",
    "os.environ[\"AICORE_RESOURCE_GROUP\"] = credentials[\"SAP_AI_CORE\"][\"AICORE_RESOURCE_GROUP\"]\n",
    "os.environ[\"AICORE_BASE_URL\"]       = credentials[\"SAP_AI_CORE\"][\"AICORE_BASE_URL\"]   "
   ]
  },
  {
   "cell_type": "markdown",
   "id": "be641a0a-8d45-4d8b-9410-94871d9fff19",
   "metadata": {},
   "source": [
    "### Logon to SAP HANA Cloud"
   ]
  },
  {
   "cell_type": "code",
   "execution_count": 4,
   "id": "b23b166a-0ff6-45bf-b34f-cbac84dc7e56",
   "metadata": {},
   "outputs": [
    {
     "data": {
      "text/plain": [
       "True"
      ]
     },
     "execution_count": 4,
     "metadata": {},
     "output_type": "execute_result"
    }
   ],
   "source": [
    "import hana_ml.dataframe as dataframe\n",
    "conn = dataframe.ConnectionContext(\n",
    "                                   address  = SAP_HANA_CLOUD_ADDRESS,\n",
    "                                   port     = SAP_HANA_CLOUD_PORT,\n",
    "                                   user     = SAP_HANA_CLOUD_USER,\n",
    "                                   password = SAP_HANA_CLOUD_PASSWORD, \n",
    "                                  )\n",
    "conn.connection.isconnected()"
   ]
  },
  {
   "cell_type": "markdown",
   "id": "b25cad15-c224-4ea3-9a60-473ba38a57a2",
   "metadata": {},
   "source": [
    "### Go through all Questions, that have no embeddings saved"
   ]
  },
  {
   "cell_type": "code",
   "execution_count": 5,
   "id": "eea5a748-2f28-4f35-b056-0fa593824a90",
   "metadata": {},
   "outputs": [],
   "source": [
    "df_remote_toprocess = conn.sql('''SELECT \"AID\", \"QID\", \"QUESTION\" FROM FAQ_QUESTIONS WHERE QUESTION_VECTOR IS NULL ORDER BY \"AID\", \"QID\" ''')"
   ]
  },
  {
   "cell_type": "markdown",
   "id": "27050fcb-2e82-4f1c-98ef-b90c303e10f2",
   "metadata": {},
   "source": [
    "Display the first questions that need to be encoded"
   ]
  },
  {
   "cell_type": "code",
   "execution_count": 6,
   "id": "ca3d9c07-6e24-4e87-80ed-b05cf9400155",
   "metadata": {},
   "outputs": [
    {
     "data": {
      "text/html": [
       "<div>\n",
       "<style scoped>\n",
       "    .dataframe tbody tr th:only-of-type {\n",
       "        vertical-align: middle;\n",
       "    }\n",
       "\n",
       "    .dataframe tbody tr th {\n",
       "        vertical-align: top;\n",
       "    }\n",
       "\n",
       "    .dataframe thead th {\n",
       "        text-align: right;\n",
       "    }\n",
       "</style>\n",
       "<table border=\"1\" class=\"dataframe\">\n",
       "  <thead>\n",
       "    <tr style=\"text-align: right;\">\n",
       "      <th></th>\n",
       "      <th>AID</th>\n",
       "      <th>QID</th>\n",
       "      <th>QUESTION</th>\n",
       "    </tr>\n",
       "  </thead>\n",
       "  <tbody>\n",
       "    <tr>\n",
       "      <th>0</th>\n",
       "      <td>1000</td>\n",
       "      <td>1</td>\n",
       "      <td>When was SAP founded?</td>\n",
       "    </tr>\n",
       "    <tr>\n",
       "      <th>1</th>\n",
       "      <td>1001</td>\n",
       "      <td>1</td>\n",
       "      <td>What does the acronym \"SAP\" stand for?</td>\n",
       "    </tr>\n",
       "    <tr>\n",
       "      <th>2</th>\n",
       "      <td>1002</td>\n",
       "      <td>1</td>\n",
       "      <td>What is SAP’s vision and mission?</td>\n",
       "    </tr>\n",
       "    <tr>\n",
       "      <th>3</th>\n",
       "      <td>1003</td>\n",
       "      <td>1</td>\n",
       "      <td>What is the business outlook for the current f...</td>\n",
       "    </tr>\n",
       "    <tr>\n",
       "      <th>4</th>\n",
       "      <td>1004</td>\n",
       "      <td>1</td>\n",
       "      <td>Are you planning to grow organically or throug...</td>\n",
       "    </tr>\n",
       "  </tbody>\n",
       "</table>\n",
       "</div>"
      ],
      "text/plain": [
       "    AID  QID                                           QUESTION\n",
       "0  1000    1                              When was SAP founded?\n",
       "1  1001    1             What does the acronym \"SAP\" stand for?\n",
       "2  1002    1                  What is SAP’s vision and mission?\n",
       "3  1003    1  What is the business outlook for the current f...\n",
       "4  1004    1  Are you planning to grow organically or throug..."
      ]
     },
     "execution_count": 6,
     "metadata": {},
     "output_type": "execute_result"
    }
   ],
   "source": [
    "df_remote_toprocess.head(5).collect()"
   ]
  },
  {
   "cell_type": "markdown",
   "id": "aba32e05-3e4c-410c-9fae-050a7ad6db3f",
   "metadata": {},
   "source": [
    "How many questions need to be encoded"
   ]
  },
  {
   "cell_type": "code",
   "execution_count": 7,
   "id": "07c0b24e-9767-409c-b36f-fa157f3104a5",
   "metadata": {},
   "outputs": [
    {
     "data": {
      "text/plain": [
       "24"
      ]
     },
     "execution_count": 7,
     "metadata": {},
     "output_type": "execute_result"
    }
   ],
   "source": [
    "df_remote_toprocess.count()"
   ]
  },
  {
   "cell_type": "markdown",
   "id": "c9443cee-0bfd-439c-a180-23e880b90bcd",
   "metadata": {},
   "source": [
    "### Specify embeddings engine "
   ]
  },
  {
   "cell_type": "code",
   "execution_count": 8,
   "id": "5e07e748-38fd-474c-a71e-e23c418524d2",
   "metadata": {},
   "outputs": [],
   "source": [
    "from gen_ai_hub.proxy.langchain.openai import OpenAIEmbeddings\n",
    "embedding = OpenAIEmbeddings(proxy_model_name='text-embedding-ada-002')"
   ]
  },
  {
   "cell_type": "markdown",
   "id": "aa55a564-20c7-459e-9fb1-7e08641dca47",
   "metadata": {},
   "source": [
    "### Create embeddings for the above questions and store them in the table"
   ]
  },
  {
   "cell_type": "code",
   "execution_count": 9,
   "id": "30ec8829-7cf0-426e-8a51-38ab12ec2a13",
   "metadata": {},
   "outputs": [
    {
     "name": "stdout",
     "output_type": "stream",
     "text": [
      "1000-1: [0.017259458564609514, -0.017521175116587108, 0.022659065838184236, -0.004883063162897415, -0.018444\n",
      "1001-1: [0.017259458564609514, -0.017521175116587108, 0.022659065838184236, -0.004883063162897415, -0.018444\n",
      "1002-1: [0.017259458564609514, -0.017521175116587108, 0.022659065838184236, -0.004883063162897415, -0.018444\n",
      "1003-1: [0.017259458564609514, -0.017521175116587108, 0.022659065838184236, -0.004883063162897415, -0.018444\n",
      "1004-1: [0.015408079651989546, -0.01377206071993299, 0.024191622895430708, 0.0016184182164437407, -0.0322644\n",
      "1005-1: [0.017259458564609514, -0.017521175116587108, 0.022659065838184236, -0.004883063162897415, -0.018444\n",
      "1006-1: [0.017259458564609514, -0.017521175116587108, 0.022659065838184236, -0.004883063162897415, -0.018444\n",
      "1007-1: [0.017259458564609514, -0.017521175116587108, 0.022659065838184236, -0.004883063162897415, -0.018444\n",
      "1008-1: [0.006315371411562854, -0.006675501713100856, 0.0037126135158026888, -0.008178225948679044, -0.03250\n",
      "1009-1: [0.002507893531586836, -0.01821573772959024, 0.01684632664194961, -0.01215674414901457, -0.012098608\n",
      "1010-1: [0.017259458564609514, -0.017521175116587108, 0.022659065838184236, -0.004883063162897415, -0.018444\n",
      "1011-1: [0.017259458564609514, -0.017521175116587108, 0.022659065838184236, -0.004883063162897415, -0.018444\n",
      "1012-1: [0.0010112966350788676, -0.013290856885996299, 8.465186642527902e-05, -0.015627782699091885, -0.0268\n",
      "1013-1: [0.017259458564609514, -0.017521175116587108, 0.022659065838184236, -0.004883063162897415, -0.018444\n",
      "1014-1: [0.006315371411562854, -0.006675501713100856, 0.0037126135158026888, -0.008178225948679044, -0.03250\n",
      "1015-1: [0.0010112966350788676, -0.013290856885996299, 8.465186642527902e-05, -0.015627782699091885, -0.0268\n",
      "1016-1: [0.017259458564609514, -0.017521175116587108, 0.022659065838184236, -0.004883063162897415, -0.018444\n",
      "1017-1: [0.017259458564609514, -0.017521175116587108, 0.022659065838184236, -0.004883063162897415, -0.018444\n",
      "1018-1: [0.017259458564609514, -0.017521175116587108, 0.022659065838184236, -0.004883063162897415, -0.018444\n",
      "1019-1: [0.017259458564609514, -0.017521175116587108, 0.022659065838184236, -0.004883063162897415, -0.018444\n",
      "1020-1: [0.006315371411562854, -0.006675501713100856, 0.0037126135158026888, -0.008178225948679044, -0.03250\n",
      "1021-1: [0.0010112966350788676, -0.013290856885996299, 8.465186642527902e-05, -0.015627782699091885, -0.0268\n",
      "1022-1: [0.017259458564609514, -0.017521175116587108, 0.022659065838184236, -0.004883063162897415, -0.018444\n",
      "1023-1: [0.0010112966350788676, -0.013290856885996299, 8.465186642527902e-05, -0.015627782699091885, -0.0268\n"
     ]
    }
   ],
   "source": [
    "dbapi_cursor = conn.connection.cursor()\n",
    "rowids_toprocess = df_remote_toprocess.select(\"AID\", \"QID\", \"QUESTION\").collect()\n",
    "for index, row_toprocess in rowids_toprocess.iterrows(): \n",
    "    my_embedding = embedding.embed_documents(row_toprocess['QUESTION']) \n",
    "    my_embedding_str = str(my_embedding[0])\n",
    "    my_aid = row_toprocess['AID']\n",
    "    my_qid = row_toprocess['QID']\n",
    "    print(str(my_aid) + '-' + str(my_qid) + ': ' + str(my_embedding_str[:100]))\n",
    "    dbapi_cursor.execute(f\"\"\"UPDATE \"FAQ_QUESTIONS\" SET \"QUESTION_VECTOR\" = TO_REAL_VECTOR('{my_embedding_str}') \n",
    "                             WHERE \"AID\" = {my_aid} AND \"QID\" = {my_qid};\"\"\")  "
   ]
  },
  {
   "cell_type": "code",
   "execution_count": 10,
   "id": "d5fd1b73-4abb-46f7-8206-f337bf12fc13",
   "metadata": {},
   "outputs": [
    {
     "data": {
      "text/html": [
       "<div>\n",
       "<style scoped>\n",
       "    .dataframe tbody tr th:only-of-type {\n",
       "        vertical-align: middle;\n",
       "    }\n",
       "\n",
       "    .dataframe tbody tr th {\n",
       "        vertical-align: top;\n",
       "    }\n",
       "\n",
       "    .dataframe thead th {\n",
       "        text-align: right;\n",
       "    }\n",
       "</style>\n",
       "<table border=\"1\" class=\"dataframe\">\n",
       "  <thead>\n",
       "    <tr style=\"text-align: right;\">\n",
       "      <th></th>\n",
       "      <th>AID</th>\n",
       "      <th>QID</th>\n",
       "      <th>QUESTION</th>\n",
       "      <th>QUESTION_VECTOR</th>\n",
       "    </tr>\n",
       "  </thead>\n",
       "  <tbody>\n",
       "    <tr>\n",
       "      <th>0</th>\n",
       "      <td>1000</td>\n",
       "      <td>1</td>\n",
       "      <td>When was SAP founded?</td>\n",
       "      <td>[0, 6, 0, 0, 181, 99, 141, 60, 145, 136, 143, ...</td>\n",
       "    </tr>\n",
       "    <tr>\n",
       "      <th>1</th>\n",
       "      <td>1001</td>\n",
       "      <td>1</td>\n",
       "      <td>What does the acronym \"SAP\" stand for?</td>\n",
       "      <td>[0, 6, 0, 0, 181, 99, 141, 60, 145, 136, 143, ...</td>\n",
       "    </tr>\n",
       "    <tr>\n",
       "      <th>2</th>\n",
       "      <td>1002</td>\n",
       "      <td>1</td>\n",
       "      <td>What is SAP’s vision and mission?</td>\n",
       "      <td>[0, 6, 0, 0, 181, 99, 141, 60, 145, 136, 143, ...</td>\n",
       "    </tr>\n",
       "    <tr>\n",
       "      <th>3</th>\n",
       "      <td>1003</td>\n",
       "      <td>1</td>\n",
       "      <td>What is the business outlook for the current f...</td>\n",
       "      <td>[0, 6, 0, 0, 181, 99, 141, 60, 145, 136, 143, ...</td>\n",
       "    </tr>\n",
       "    <tr>\n",
       "      <th>4</th>\n",
       "      <td>1004</td>\n",
       "      <td>1</td>\n",
       "      <td>Are you planning to grow organically or throug...</td>\n",
       "      <td>[0, 6, 0, 0, 44, 114, 124, 60, 54, 164, 97, 18...</td>\n",
       "    </tr>\n",
       "  </tbody>\n",
       "</table>\n",
       "</div>"
      ],
      "text/plain": [
       "    AID  QID                                           QUESTION   \n",
       "0  1000    1                              When was SAP founded?  \\\n",
       "1  1001    1             What does the acronym \"SAP\" stand for?   \n",
       "2  1002    1                  What is SAP’s vision and mission?   \n",
       "3  1003    1  What is the business outlook for the current f...   \n",
       "4  1004    1  Are you planning to grow organically or throug...   \n",
       "\n",
       "                                     QUESTION_VECTOR  \n",
       "0  [0, 6, 0, 0, 181, 99, 141, 60, 145, 136, 143, ...  \n",
       "1  [0, 6, 0, 0, 181, 99, 141, 60, 145, 136, 143, ...  \n",
       "2  [0, 6, 0, 0, 181, 99, 141, 60, 145, 136, 143, ...  \n",
       "3  [0, 6, 0, 0, 181, 99, 141, 60, 145, 136, 143, ...  \n",
       "4  [0, 6, 0, 0, 44, 114, 124, 60, 54, 164, 97, 18...  "
      ]
     },
     "execution_count": 10,
     "metadata": {},
     "output_type": "execute_result"
    }
   ],
   "source": [
    "df_remote = conn.table('FAQ_QUESTIONS').sort(['AID', 'QID'])\n",
    "df_remote.head(5).collect()"
   ]
  },
  {
   "cell_type": "code",
   "execution_count": null,
   "id": "0fa5d421-f854-472e-b131-b638d9b8fe08",
   "metadata": {},
   "outputs": [],
   "source": []
  }
 ],
 "metadata": {
  "kernelspec": {
   "display_name": "sandbox",
   "language": "python",
   "name": "sandbox"
  },
  "language_info": {
   "codemirror_mode": {
    "name": "ipython",
    "version": 3
   },
   "file_extension": ".py",
   "mimetype": "text/x-python",
   "name": "python",
   "nbconvert_exporter": "python",
   "pygments_lexer": "ipython3",
   "version": "3.9.18"
  }
 },
 "nbformat": 4,
 "nbformat_minor": 5
}
