{
 "cells": [
  {
   "cell_type": "markdown",
   "id": "c8e40c81-009f-476c-a60e-624f31246da2",
   "metadata": {},
   "source": [
    "# Ask a Question"
   ]
  },
  {
   "cell_type": "markdown",
   "id": "389bf4c5-e352-413c-b25e-4c45201de616",
   "metadata": {},
   "source": [
    "### Get credentials for SAP HANA Cloud"
   ]
  },
  {
   "cell_type": "code",
   "execution_count": 1,
   "id": "06b01b15-402a-4505-badd-e1d181f81ee6",
   "metadata": {},
   "outputs": [],
   "source": [
    "import json\n",
    "with open('./credentials.json', 'r') as creds:\n",
    "  credentials = json.load(creds)"
   ]
  },
  {
   "cell_type": "code",
   "execution_count": 2,
   "id": "63350ba9-b6b4-4601-810b-d8e6bdce1c0d",
   "metadata": {},
   "outputs": [],
   "source": [
    "import os\n",
    "SAP_HANA_CLOUD_ADDRESS  = credentials[\"SAP_HANA_CLOUD\"][\"HANA_ADDRESS\"]\n",
    "SAP_HANA_CLOUD_PORT     = credentials[\"SAP_HANA_CLOUD\"][\"HANA_PORT\"]\n",
    "SAP_HANA_CLOUD_USER     = credentials[\"SAP_HANA_CLOUD\"][\"HANA_USER\"]\n",
    "SAP_HANA_CLOUD_PASSWORD = credentials[\"SAP_HANA_CLOUD\"][\"HANA_PASSWORD\"]"
   ]
  },
  {
   "cell_type": "markdown",
   "id": "8e21eb2f-2eb5-4648-b0cc-163bb840643f",
   "metadata": {},
   "source": [
    "### Get credentials for SAP AI Core"
   ]
  },
  {
   "cell_type": "code",
   "execution_count": 3,
   "id": "637043c3-2e14-4eba-b828-c5ca2a746247",
   "metadata": {},
   "outputs": [],
   "source": [
    "import os\n",
    "os.environ[\"AICORE_CLIENT_ID\"]      = credentials[\"SAP_AI_CORE\"][\"AICORE_CLIENT_ID\"]\n",
    "os.environ[\"AICORE_CLIENT_SECRET\"]  = credentials[\"SAP_AI_CORE\"][\"AICORE_CLIENT_SECRET\"]\n",
    "os.environ[\"AICORE_AUTH_URL\"]       = credentials[\"SAP_AI_CORE\"][\"AICORE_AUTH_URL\"]\n",
    "os.environ[\"AICORE_RESOURCE_GROUP\"] = credentials[\"SAP_AI_CORE\"][\"AICORE_RESOURCE_GROUP\"]\n",
    "os.environ[\"AICORE_BASE_URL\"]       = credentials[\"SAP_AI_CORE\"][\"AICORE_BASE_URL\"]   "
   ]
  },
  {
   "cell_type": "markdown",
   "id": "be641a0a-8d45-4d8b-9410-94871d9fff19",
   "metadata": {},
   "source": [
    "### Logon to SAP HANA Cloud"
   ]
  },
  {
   "cell_type": "code",
   "execution_count": 4,
   "id": "b23b166a-0ff6-45bf-b34f-cbac84dc7e56",
   "metadata": {},
   "outputs": [
    {
     "data": {
      "text/plain": [
       "True"
      ]
     },
     "execution_count": 4,
     "metadata": {},
     "output_type": "execute_result"
    }
   ],
   "source": [
    "import hana_ml.dataframe as dataframe\n",
    "conn = dataframe.ConnectionContext(\n",
    "                                   address  = SAP_HANA_CLOUD_ADDRESS,\n",
    "                                   port     = SAP_HANA_CLOUD_PORT,\n",
    "                                   user     = SAP_HANA_CLOUD_USER,\n",
    "                                   password = SAP_HANA_CLOUD_PASSWORD, \n",
    "                                  )\n",
    "conn.connection.isconnected()"
   ]
  },
  {
   "cell_type": "markdown",
   "id": "b25cad15-c224-4ea3-9a60-473ba38a57a2",
   "metadata": {},
   "source": [
    "### Get embedding of user's question"
   ]
  },
  {
   "cell_type": "code",
   "execution_count": 5,
   "id": "4c790d72-c1e0-4730-9998-dd591a22445f",
   "metadata": {},
   "outputs": [],
   "source": [
    "from gen_ai_hub.proxy.langchain.openai import OpenAIEmbeddings\n",
    "embedding = OpenAIEmbeddings(proxy_model_name='text-embedding-ada-002')"
   ]
  },
  {
   "cell_type": "code",
   "execution_count": 6,
   "id": "df5f3dbd-b020-42f9-8faa-9c5d69d72fd1",
   "metadata": {},
   "outputs": [
    {
     "data": {
      "text/plain": [
       "[0.017259458564609514,\n",
       " -0.017521175116587108,\n",
       " 0.022659065838184236,\n",
       " -0.004883063162897415,\n",
       " -0.018444067385173575,\n",
       " -0.00615720514734767,\n",
       " -0.016625831370531377,\n",
       " -0.036337153143861226,\n",
       " 0.01640543946499509,\n",
       " 1.1931629495305239e-05]"
      ]
     },
     "execution_count": 6,
     "metadata": {},
     "output_type": "execute_result"
    }
   ],
   "source": [
    "user_question = 'What is the meaning of the letters SAP?'\n",
    "user_question_embedding = embedding.embed_documents((user_question)) \n",
    "user_question_embedding[0][:10]"
   ]
  },
  {
   "cell_type": "markdown",
   "id": "056864fe-7512-4f97-a959-e945ab0926ee",
   "metadata": {},
   "source": [
    "### Get closest match of available questions from SAP HANA Cloud"
   ]
  },
  {
   "cell_type": "markdown",
   "id": "f8778374-1d40-465a-9372-b9b6149fdba5",
   "metadata": {},
   "source": [
    "Use SAP HANA Cloud's vector engine to compare the user question's vector with the existing questions' vectors"
   ]
  },
  {
   "cell_type": "code",
   "execution_count": 7,
   "id": "0638cbcf-b3bd-4b89-9eb3-15c62aee07c9",
   "metadata": {},
   "outputs": [
    {
     "data": {
      "text/html": [
       "<div>\n",
       "<style scoped>\n",
       "    .dataframe tbody tr th:only-of-type {\n",
       "        vertical-align: middle;\n",
       "    }\n",
       "\n",
       "    .dataframe tbody tr th {\n",
       "        vertical-align: top;\n",
       "    }\n",
       "\n",
       "    .dataframe thead th {\n",
       "        text-align: right;\n",
       "    }\n",
       "</style>\n",
       "<table border=\"1\" class=\"dataframe\">\n",
       "  <thead>\n",
       "    <tr style=\"text-align: right;\">\n",
       "      <th></th>\n",
       "      <th>AID</th>\n",
       "      <th>QID</th>\n",
       "      <th>QUESTION</th>\n",
       "      <th>SIMILARITY</th>\n",
       "    </tr>\n",
       "  </thead>\n",
       "  <tbody>\n",
       "    <tr>\n",
       "      <th>0</th>\n",
       "      <td>1000</td>\n",
       "      <td>1</td>\n",
       "      <td>When was SAP founded?</td>\n",
       "      <td>1.000000</td>\n",
       "    </tr>\n",
       "    <tr>\n",
       "      <th>1</th>\n",
       "      <td>1001</td>\n",
       "      <td>1</td>\n",
       "      <td>What does the acronym \"SAP\" stand for?</td>\n",
       "      <td>1.000000</td>\n",
       "    </tr>\n",
       "    <tr>\n",
       "      <th>2</th>\n",
       "      <td>1002</td>\n",
       "      <td>1</td>\n",
       "      <td>What is SAP’s vision and mission?</td>\n",
       "      <td>1.000000</td>\n",
       "    </tr>\n",
       "    <tr>\n",
       "      <th>3</th>\n",
       "      <td>1003</td>\n",
       "      <td>1</td>\n",
       "      <td>What is the business outlook for the current f...</td>\n",
       "      <td>1.000000</td>\n",
       "    </tr>\n",
       "    <tr>\n",
       "      <th>4</th>\n",
       "      <td>1005</td>\n",
       "      <td>1</td>\n",
       "      <td>Where can I find information about the SAP Exe...</td>\n",
       "      <td>1.000000</td>\n",
       "    </tr>\n",
       "    <tr>\n",
       "      <th>5</th>\n",
       "      <td>1006</td>\n",
       "      <td>1</td>\n",
       "      <td>Why was SAP AG converted into an SE?</td>\n",
       "      <td>1.000000</td>\n",
       "    </tr>\n",
       "    <tr>\n",
       "      <th>6</th>\n",
       "      <td>1007</td>\n",
       "      <td>1</td>\n",
       "      <td>What is SAP's current headcount?</td>\n",
       "      <td>1.000000</td>\n",
       "    </tr>\n",
       "    <tr>\n",
       "      <th>7</th>\n",
       "      <td>1010</td>\n",
       "      <td>1</td>\n",
       "      <td>Why is SAP focusing on sustainability?</td>\n",
       "      <td>1.000000</td>\n",
       "    </tr>\n",
       "    <tr>\n",
       "      <th>8</th>\n",
       "      <td>1011</td>\n",
       "      <td>1</td>\n",
       "      <td>What is SAP Cloud for Sustainable Enterprises?</td>\n",
       "      <td>1.000000</td>\n",
       "    </tr>\n",
       "    <tr>\n",
       "      <th>9</th>\n",
       "      <td>1013</td>\n",
       "      <td>1</td>\n",
       "      <td>What is the impact of SAP Sustainability solut...</td>\n",
       "      <td>1.000000</td>\n",
       "    </tr>\n",
       "    <tr>\n",
       "      <th>10</th>\n",
       "      <td>1016</td>\n",
       "      <td>1</td>\n",
       "      <td>What's it like to work at SAP?</td>\n",
       "      <td>1.000000</td>\n",
       "    </tr>\n",
       "    <tr>\n",
       "      <th>11</th>\n",
       "      <td>1017</td>\n",
       "      <td>1</td>\n",
       "      <td>What employee benefits does SAP offer?</td>\n",
       "      <td>1.000000</td>\n",
       "    </tr>\n",
       "    <tr>\n",
       "      <th>12</th>\n",
       "      <td>1018</td>\n",
       "      <td>1</td>\n",
       "      <td>What career development opportunities does SAP...</td>\n",
       "      <td>1.000000</td>\n",
       "    </tr>\n",
       "    <tr>\n",
       "      <th>13</th>\n",
       "      <td>1019</td>\n",
       "      <td>1</td>\n",
       "      <td>What can I expect in terms of career progressi...</td>\n",
       "      <td>1.000000</td>\n",
       "    </tr>\n",
       "    <tr>\n",
       "      <th>14</th>\n",
       "      <td>1022</td>\n",
       "      <td>1</td>\n",
       "      <td>Where can I receive SAP training to prepare fo...</td>\n",
       "      <td>1.000000</td>\n",
       "    </tr>\n",
       "    <tr>\n",
       "      <th>15</th>\n",
       "      <td>1012</td>\n",
       "      <td>1</td>\n",
       "      <td>How do SAP Sustainability solutions help creat...</td>\n",
       "      <td>0.865482</td>\n",
       "    </tr>\n",
       "    <tr>\n",
       "      <th>16</th>\n",
       "      <td>1015</td>\n",
       "      <td>1</td>\n",
       "      <td>How much can SAP Sustainability solutions redu...</td>\n",
       "      <td>0.865482</td>\n",
       "    </tr>\n",
       "    <tr>\n",
       "      <th>17</th>\n",
       "      <td>1021</td>\n",
       "      <td>1</td>\n",
       "      <td>How does SAP approach work-life balance?</td>\n",
       "      <td>0.865482</td>\n",
       "    </tr>\n",
       "    <tr>\n",
       "      <th>18</th>\n",
       "      <td>1023</td>\n",
       "      <td>1</td>\n",
       "      <td>Hello</td>\n",
       "      <td>0.865482</td>\n",
       "    </tr>\n",
       "    <tr>\n",
       "      <th>19</th>\n",
       "      <td>1008</td>\n",
       "      <td>1</td>\n",
       "      <td>Do SAP employees participate in the company's ...</td>\n",
       "      <td>0.859096</td>\n",
       "    </tr>\n",
       "  </tbody>\n",
       "</table>\n",
       "</div>"
      ],
      "text/plain": [
       "     AID  QID                                           QUESTION  SIMILARITY\n",
       "0   1000    1                              When was SAP founded?    1.000000\n",
       "1   1001    1             What does the acronym \"SAP\" stand for?    1.000000\n",
       "2   1002    1                  What is SAP’s vision and mission?    1.000000\n",
       "3   1003    1  What is the business outlook for the current f...    1.000000\n",
       "4   1005    1  Where can I find information about the SAP Exe...    1.000000\n",
       "5   1006    1               Why was SAP AG converted into an SE?    1.000000\n",
       "6   1007    1                   What is SAP's current headcount?    1.000000\n",
       "7   1010    1             Why is SAP focusing on sustainability?    1.000000\n",
       "8   1011    1     What is SAP Cloud for Sustainable Enterprises?    1.000000\n",
       "9   1013    1  What is the impact of SAP Sustainability solut...    1.000000\n",
       "10  1016    1                     What's it like to work at SAP?    1.000000\n",
       "11  1017    1             What employee benefits does SAP offer?    1.000000\n",
       "12  1018    1  What career development opportunities does SAP...    1.000000\n",
       "13  1019    1  What can I expect in terms of career progressi...    1.000000\n",
       "14  1022    1  Where can I receive SAP training to prepare fo...    1.000000\n",
       "15  1012    1  How do SAP Sustainability solutions help creat...    0.865482\n",
       "16  1015    1  How much can SAP Sustainability solutions redu...    0.865482\n",
       "17  1021    1           How does SAP approach work-life balance?    0.865482\n",
       "18  1023    1                                              Hello    0.865482\n",
       "19  1008    1  Do SAP employees participate in the company's ...    0.859096"
      ]
     },
     "execution_count": 7,
     "metadata": {},
     "output_type": "execute_result"
    }
   ],
   "source": [
    "user_question_embedding_str = str(user_question_embedding[0])\n",
    "sql = f'''SELECT TOP 200 \"AID\", \"QID\", \"QUESTION\", COSINE_SIMILARITY(\"QUESTION_VECTOR\", TO_REAL_VECTOR('{user_question_embedding_str}')) AS SIMILARITY\n",
    "        FROM FAQ_QUESTIONS ORDER BY \"SIMILARITY\" DESC, \"AID\", \"QID\" '''\n",
    "df_remote = conn.sql(sql)\n",
    "df_remote.head(20).collect()"
   ]
  },
  {
   "cell_type": "markdown",
   "id": "305bf491-b4e1-49be-a111-c983b70379d6",
   "metadata": {},
   "source": [
    "### Prepare the above response as input for GPT to find the best match (Retrieval Augmented Generation)"
   ]
  },
  {
   "cell_type": "markdown",
   "id": "6ceb9a21-0b0e-4be0-b85d-d0b1ce663828",
   "metadata": {},
   "source": [
    "Select at least the best n candidates, or more in case more have high similarity. <font color='red'>Test which values of n seems most suitable for your data</font>"
   ]
  },
  {
   "cell_type": "code",
   "execution_count": 8,
   "id": "3ee9f17e-5d8b-4f0d-b23b-408f7b99def3",
   "metadata": {},
   "outputs": [
    {
     "data": {
      "text/plain": [
       "15"
      ]
     },
     "execution_count": 8,
     "metadata": {},
     "output_type": "execute_result"
    }
   ],
   "source": [
    "top_n = max(df_remote.filter('SIMILARITY > 0.95').count(), 10)\n",
    "top_n"
   ]
  },
  {
   "cell_type": "markdown",
   "id": "bf3a5ec7-2158-4717-9b90-aefa6c392599",
   "metadata": {},
   "source": [
    "Download the selected Questions as Pandas DataFrame for processing"
   ]
  },
  {
   "cell_type": "code",
   "execution_count": 9,
   "id": "4e7576ff-4327-4354-8c83-7c6440189628",
   "metadata": {},
   "outputs": [
    {
     "data": {
      "text/html": [
       "<div>\n",
       "<style scoped>\n",
       "    .dataframe tbody tr th:only-of-type {\n",
       "        vertical-align: middle;\n",
       "    }\n",
       "\n",
       "    .dataframe tbody tr th {\n",
       "        vertical-align: top;\n",
       "    }\n",
       "\n",
       "    .dataframe thead th {\n",
       "        text-align: right;\n",
       "    }\n",
       "</style>\n",
       "<table border=\"1\" class=\"dataframe\">\n",
       "  <thead>\n",
       "    <tr style=\"text-align: right;\">\n",
       "      <th></th>\n",
       "      <th>AID</th>\n",
       "      <th>QID</th>\n",
       "      <th>QUESTION</th>\n",
       "    </tr>\n",
       "  </thead>\n",
       "  <tbody>\n",
       "    <tr>\n",
       "      <th>0</th>\n",
       "      <td>1000</td>\n",
       "      <td>1</td>\n",
       "      <td>When was SAP founded?</td>\n",
       "    </tr>\n",
       "    <tr>\n",
       "      <th>1</th>\n",
       "      <td>1001</td>\n",
       "      <td>1</td>\n",
       "      <td>What does the acronym \"SAP\" stand for?</td>\n",
       "    </tr>\n",
       "    <tr>\n",
       "      <th>2</th>\n",
       "      <td>1002</td>\n",
       "      <td>1</td>\n",
       "      <td>What is SAP’s vision and mission?</td>\n",
       "    </tr>\n",
       "    <tr>\n",
       "      <th>3</th>\n",
       "      <td>1003</td>\n",
       "      <td>1</td>\n",
       "      <td>What is the business outlook for the current f...</td>\n",
       "    </tr>\n",
       "    <tr>\n",
       "      <th>4</th>\n",
       "      <td>1005</td>\n",
       "      <td>1</td>\n",
       "      <td>Where can I find information about the SAP Exe...</td>\n",
       "    </tr>\n",
       "    <tr>\n",
       "      <th>5</th>\n",
       "      <td>1006</td>\n",
       "      <td>1</td>\n",
       "      <td>Why was SAP AG converted into an SE?</td>\n",
       "    </tr>\n",
       "    <tr>\n",
       "      <th>6</th>\n",
       "      <td>1007</td>\n",
       "      <td>1</td>\n",
       "      <td>What is SAP's current headcount?</td>\n",
       "    </tr>\n",
       "    <tr>\n",
       "      <th>7</th>\n",
       "      <td>1010</td>\n",
       "      <td>1</td>\n",
       "      <td>Why is SAP focusing on sustainability?</td>\n",
       "    </tr>\n",
       "    <tr>\n",
       "      <th>8</th>\n",
       "      <td>1011</td>\n",
       "      <td>1</td>\n",
       "      <td>What is SAP Cloud for Sustainable Enterprises?</td>\n",
       "    </tr>\n",
       "    <tr>\n",
       "      <th>9</th>\n",
       "      <td>1013</td>\n",
       "      <td>1</td>\n",
       "      <td>What is the impact of SAP Sustainability solut...</td>\n",
       "    </tr>\n",
       "    <tr>\n",
       "      <th>10</th>\n",
       "      <td>1016</td>\n",
       "      <td>1</td>\n",
       "      <td>What's it like to work at SAP?</td>\n",
       "    </tr>\n",
       "    <tr>\n",
       "      <th>11</th>\n",
       "      <td>1017</td>\n",
       "      <td>1</td>\n",
       "      <td>What employee benefits does SAP offer?</td>\n",
       "    </tr>\n",
       "    <tr>\n",
       "      <th>12</th>\n",
       "      <td>1018</td>\n",
       "      <td>1</td>\n",
       "      <td>What career development opportunities does SAP...</td>\n",
       "    </tr>\n",
       "    <tr>\n",
       "      <th>13</th>\n",
       "      <td>1019</td>\n",
       "      <td>1</td>\n",
       "      <td>What can I expect in terms of career progressi...</td>\n",
       "    </tr>\n",
       "    <tr>\n",
       "      <th>14</th>\n",
       "      <td>1022</td>\n",
       "      <td>1</td>\n",
       "      <td>Where can I receive SAP training to prepare fo...</td>\n",
       "    </tr>\n",
       "  </tbody>\n",
       "</table>\n",
       "</div>"
      ],
      "text/plain": [
       "     AID  QID                                           QUESTION\n",
       "0   1000    1                              When was SAP founded?\n",
       "1   1001    1             What does the acronym \"SAP\" stand for?\n",
       "2   1002    1                  What is SAP’s vision and mission?\n",
       "3   1003    1  What is the business outlook for the current f...\n",
       "4   1005    1  Where can I find information about the SAP Exe...\n",
       "5   1006    1               Why was SAP AG converted into an SE?\n",
       "6   1007    1                   What is SAP's current headcount?\n",
       "7   1010    1             Why is SAP focusing on sustainability?\n",
       "8   1011    1     What is SAP Cloud for Sustainable Enterprises?\n",
       "9   1013    1  What is the impact of SAP Sustainability solut...\n",
       "10  1016    1                     What's it like to work at SAP?\n",
       "11  1017    1             What employee benefits does SAP offer?\n",
       "12  1018    1  What career development opportunities does SAP...\n",
       "13  1019    1  What can I expect in terms of career progressi...\n",
       "14  1022    1  Where can I receive SAP training to prepare fo..."
      ]
     },
     "execution_count": 9,
     "metadata": {},
     "output_type": "execute_result"
    }
   ],
   "source": [
    "df_data = df_remote.head(top_n).select('AID', 'QID', 'QUESTION').collect()\n",
    "df_data"
   ]
  },
  {
   "cell_type": "markdown",
   "id": "76811a14-2da7-439f-ab31-35d1073d3bb2",
   "metadata": {},
   "source": [
    "Create a ROW-ID out of the AID and QID, which will simplify the identification of the selected Question and its corresponding Answer"
   ]
  },
  {
   "cell_type": "code",
   "execution_count": 10,
   "id": "dea40b69-6647-4519-85db-b28397584aee",
   "metadata": {},
   "outputs": [
    {
     "data": {
      "text/html": [
       "<div>\n",
       "<style scoped>\n",
       "    .dataframe tbody tr th:only-of-type {\n",
       "        vertical-align: middle;\n",
       "    }\n",
       "\n",
       "    .dataframe tbody tr th {\n",
       "        vertical-align: top;\n",
       "    }\n",
       "\n",
       "    .dataframe thead th {\n",
       "        text-align: right;\n",
       "    }\n",
       "</style>\n",
       "<table border=\"1\" class=\"dataframe\">\n",
       "  <thead>\n",
       "    <tr style=\"text-align: right;\">\n",
       "      <th></th>\n",
       "      <th>ROWID</th>\n",
       "      <th>QUESTION</th>\n",
       "    </tr>\n",
       "  </thead>\n",
       "  <tbody>\n",
       "    <tr>\n",
       "      <th>0</th>\n",
       "      <td>1000-1:</td>\n",
       "      <td>When was SAP founded?</td>\n",
       "    </tr>\n",
       "    <tr>\n",
       "      <th>1</th>\n",
       "      <td>1001-1:</td>\n",
       "      <td>What does the acronym \"SAP\" stand for?</td>\n",
       "    </tr>\n",
       "    <tr>\n",
       "      <th>2</th>\n",
       "      <td>1002-1:</td>\n",
       "      <td>What is SAP’s vision and mission?</td>\n",
       "    </tr>\n",
       "    <tr>\n",
       "      <th>3</th>\n",
       "      <td>1003-1:</td>\n",
       "      <td>What is the business outlook for the current f...</td>\n",
       "    </tr>\n",
       "    <tr>\n",
       "      <th>4</th>\n",
       "      <td>1005-1:</td>\n",
       "      <td>Where can I find information about the SAP Exe...</td>\n",
       "    </tr>\n",
       "    <tr>\n",
       "      <th>5</th>\n",
       "      <td>1006-1:</td>\n",
       "      <td>Why was SAP AG converted into an SE?</td>\n",
       "    </tr>\n",
       "    <tr>\n",
       "      <th>6</th>\n",
       "      <td>1007-1:</td>\n",
       "      <td>What is SAP's current headcount?</td>\n",
       "    </tr>\n",
       "    <tr>\n",
       "      <th>7</th>\n",
       "      <td>1010-1:</td>\n",
       "      <td>Why is SAP focusing on sustainability?</td>\n",
       "    </tr>\n",
       "    <tr>\n",
       "      <th>8</th>\n",
       "      <td>1011-1:</td>\n",
       "      <td>What is SAP Cloud for Sustainable Enterprises?</td>\n",
       "    </tr>\n",
       "    <tr>\n",
       "      <th>9</th>\n",
       "      <td>1013-1:</td>\n",
       "      <td>What is the impact of SAP Sustainability solut...</td>\n",
       "    </tr>\n",
       "    <tr>\n",
       "      <th>10</th>\n",
       "      <td>1016-1:</td>\n",
       "      <td>What's it like to work at SAP?</td>\n",
       "    </tr>\n",
       "    <tr>\n",
       "      <th>11</th>\n",
       "      <td>1017-1:</td>\n",
       "      <td>What employee benefits does SAP offer?</td>\n",
       "    </tr>\n",
       "    <tr>\n",
       "      <th>12</th>\n",
       "      <td>1018-1:</td>\n",
       "      <td>What career development opportunities does SAP...</td>\n",
       "    </tr>\n",
       "    <tr>\n",
       "      <th>13</th>\n",
       "      <td>1019-1:</td>\n",
       "      <td>What can I expect in terms of career progressi...</td>\n",
       "    </tr>\n",
       "    <tr>\n",
       "      <th>14</th>\n",
       "      <td>1022-1:</td>\n",
       "      <td>Where can I receive SAP training to prepare fo...</td>\n",
       "    </tr>\n",
       "  </tbody>\n",
       "</table>\n",
       "</div>"
      ],
      "text/plain": [
       "       ROWID                                           QUESTION\n",
       "0   1000-1:                               When was SAP founded?\n",
       "1   1001-1:              What does the acronym \"SAP\" stand for?\n",
       "2   1002-1:                   What is SAP’s vision and mission?\n",
       "3   1003-1:   What is the business outlook for the current f...\n",
       "4   1005-1:   Where can I find information about the SAP Exe...\n",
       "5   1006-1:                Why was SAP AG converted into an SE?\n",
       "6   1007-1:                    What is SAP's current headcount?\n",
       "7   1010-1:              Why is SAP focusing on sustainability?\n",
       "8   1011-1:      What is SAP Cloud for Sustainable Enterprises?\n",
       "9   1013-1:   What is the impact of SAP Sustainability solut...\n",
       "10  1016-1:                      What's it like to work at SAP?\n",
       "11  1017-1:              What employee benefits does SAP offer?\n",
       "12  1018-1:   What career development opportunities does SAP...\n",
       "13  1019-1:   What can I expect in terms of career progressi...\n",
       "14  1022-1:   Where can I receive SAP training to prepare fo..."
      ]
     },
     "execution_count": 10,
     "metadata": {},
     "output_type": "execute_result"
    }
   ],
   "source": [
    "df_data['ROWID'] = df_data['AID'].astype(str) + '-' + df_data['QID'].astype(str) + ': '\n",
    "df_data = df_data[['ROWID', 'QUESTION']]\n",
    "df_data"
   ]
  },
  {
   "cell_type": "markdown",
   "id": "7150c09b-8815-48ba-bb2b-8d5f6aa28406",
   "metadata": {},
   "source": [
    "Turn the above Pandas dataframe into block of text, for use with the Large Language Model"
   ]
  },
  {
   "cell_type": "code",
   "execution_count": 11,
   "id": "d0a9c543-9fa7-4a72-99bc-a2acc952026c",
   "metadata": {},
   "outputs": [
    {
     "name": "stdout",
     "output_type": "stream",
     "text": [
      "1000-1:                                                                 When was SAP founded?\n",
      "1001-1:                                                What does the acronym \"SAP\" stand for?\n",
      "1002-1:                                                     What is SAP’s vision and mission?\n",
      "1003-1:  What is the business outlook for the current fiscal year and your mid-term ambition?\n",
      "1005-1:                           Where can I find information about the SAP Executive Board?\n",
      "1006-1:                                                  Why was SAP AG converted into an SE?\n",
      "1007-1:                                                      What is SAP's current headcount?\n",
      "1010-1:                                                Why is SAP focusing on sustainability?\n",
      "1011-1:                                        What is SAP Cloud for Sustainable Enterprises?\n",
      "1013-1:                                   What is the impact of SAP Sustainability solutions?\n",
      "1016-1:                                                        What's it like to work at SAP?\n",
      "1017-1:                                                What employee benefits does SAP offer?\n",
      "1018-1:                                 What career development opportunities does SAP offer?\n",
      "1019-1:                              What can I expect in terms of career progression at SAP?\n",
      "1022-1:                    Where can I receive SAP training to prepare for a career with SAP?\n"
     ]
    }
   ],
   "source": [
    "candiates_str = df_data.to_string(header=False,\n",
    "                                  index=False,\n",
    "                                  index_names=False)\n",
    "print(candiates_str)"
   ]
  },
  {
   "cell_type": "markdown",
   "id": "dd521455-fd16-47a0-8be4-d6b195562611",
   "metadata": {},
   "source": [
    "### Get best match through Large Language Model"
   ]
  },
  {
   "cell_type": "markdown",
   "id": "679951a7-c6b7-4442-85cd-b5ac6b671e09",
   "metadata": {},
   "source": [
    "Specify which Large Language Model to use (must be deployed on the Generative AI Hub)"
   ]
  },
  {
   "cell_type": "code",
   "execution_count": 12,
   "id": "cce72453-c110-4c6c-8813-99b297218836",
   "metadata": {},
   "outputs": [],
   "source": [
    "AI_CORE_MODEL_NAME  = 'gpt-4-32k'"
   ]
  },
  {
   "cell_type": "markdown",
   "id": "ba585d65-da8a-4216-ab6e-5979502f57ab",
   "metadata": {},
   "source": [
    "Prepare the prompt for the Large Language Model"
   ]
  },
  {
   "cell_type": "code",
   "execution_count": 13,
   "id": "edcea736-cc31-48c0-92dd-a8720b9d36a9",
   "metadata": {},
   "outputs": [
    {
     "name": "stdout",
     "output_type": "stream",
     "text": [
      "\n",
      "Task: which of the following candidate questions is closest to this one?\n",
      "What is the meaning of the letters SAP?\n",
      "Only return the ID of the selected question, not the question itself\n",
      "\n",
      "-----------------------------------\n",
      "\n",
      "Candidate questions. Each question starts with the ID, followed by a :, followed by the question\n",
      "1000-1:                                                                 When was SAP founded?\n",
      "1001-1:                                                What does the acronym \"SAP\" stand for?\n",
      "1002-1:                                                     What is SAP’s vision and mission?\n",
      "1003-1:  What is the business outlook for the current fiscal year and your mid-term ambition?\n",
      "1005-1:                           Where can I find information about the SAP Executive Board?\n",
      "1006-1:                                                  Why was SAP AG converted into an SE?\n",
      "1007-1:                                                      What is SAP's current headcount?\n",
      "1010-1:                                                Why is SAP focusing on sustainability?\n",
      "1011-1:                                        What is SAP Cloud for Sustainable Enterprises?\n",
      "1013-1:                                   What is the impact of SAP Sustainability solutions?\n",
      "1016-1:                                                        What's it like to work at SAP?\n",
      "1017-1:                                                What employee benefits does SAP offer?\n",
      "1018-1:                                 What career development opportunities does SAP offer?\n",
      "1019-1:                              What can I expect in terms of career progression at SAP?\n",
      "1022-1:                    Where can I receive SAP training to prepare for a career with SAP?\n",
      "\n"
     ]
    }
   ],
   "source": [
    "llm_prompt = f'''\n",
    "Task: which of the following candidate questions is closest to this one?\n",
    "{user_question}\n",
    "Only return the ID of the selected question, not the question itself\n",
    "\n",
    "-----------------------------------\n",
    "\n",
    "Candidate questions. Each question starts with the ID, followed by a :, followed by the question\n",
    "{candiates_str}\n",
    "'''\n",
    "print(llm_prompt)"
   ]
  },
  {
   "cell_type": "markdown",
   "id": "c7be594e-c842-4f58-ae8e-eefe8f6b5525",
   "metadata": {},
   "source": [
    "Send the prompt to the Large Language Model and display the full response"
   ]
  },
  {
   "cell_type": "code",
   "execution_count": 14,
   "id": "42addfeb-fb5f-4b67-811a-afa225b2a273",
   "metadata": {},
   "outputs": [
    {
     "name": "stdout",
     "output_type": "stream",
     "text": [
      "ChatCompletion(id='chatcmpl-99tGtzim3cx5FJSyKBNZiX1Mm0H94', choices=[Choice(finish_reason='stop', index=0, logprobs=None, message=ChatCompletionMessage(content='1001-1', role='assistant', function_call=None, tool_calls=None), content_filter_results={'hate': {'filtered': False, 'severity': 'safe'}, 'self_harm': {'filtered': False, 'severity': 'safe'}, 'sexual': {'filtered': False, 'severity': 'safe'}, 'violence': {'filtered': False, 'severity': 'safe'}})], created=1712144443, model='gpt-4-32k', object='chat.completion', system_fingerprint=None, usage=CompletionUsage(completion_tokens=4, prompt_tokens=298, total_tokens=302), prompt_filter_results=[{'content_filter_results': {'hate': {'filtered': False, 'severity': 'safe'}, 'jailbreak': {'detected': False, 'filtered': False}, 'self_harm': {'filtered': False, 'severity': 'safe'}, 'sexual': {'filtered': False, 'severity': 'safe'}, 'violence': {'filtered': False, 'severity': 'safe'}}, 'prompt_index': 0}])\n"
     ]
    }
   ],
   "source": [
    "from gen_ai_hub.proxy.native.openai import chat\n",
    "messages = [{\"role\": \"system\", \"content\": llm_prompt}\n",
    "           ]\n",
    "kwargs = dict(model_name=AI_CORE_MODEL_NAME, messages=messages)\n",
    "response = chat.completions.create(**kwargs)\n",
    "print(response)"
   ]
  },
  {
   "cell_type": "markdown",
   "id": "dc19ffd9-1c8d-466c-b0ea-c15dbe26f9c3",
   "metadata": {},
   "source": [
    "Extract the ROWID that was selected by the Large Language Model"
   ]
  },
  {
   "cell_type": "code",
   "execution_count": 15,
   "id": "b96abdeb-1a9e-47ad-a584-e25a2ff1d0bf",
   "metadata": {},
   "outputs": [
    {
     "data": {
      "text/plain": [
       "'1001-1'"
      ]
     },
     "execution_count": 15,
     "metadata": {},
     "output_type": "execute_result"
    }
   ],
   "source": [
    "llm_response = response.choices[0].message.content\n",
    "llm_response"
   ]
  },
  {
   "cell_type": "markdown",
   "id": "28ce72b5-f6d2-47ae-ac04-86421756dc2a",
   "metadata": {},
   "source": [
    "# Get the pre-defined Answer that belongs to the selected Question from the FAQ"
   ]
  },
  {
   "cell_type": "code",
   "execution_count": 16,
   "id": "9a79a941-7ade-45ee-b64b-13031c050544",
   "metadata": {},
   "outputs": [
    {
     "data": {
      "text/plain": [
       "'\"SAP\" stands for Systems, Applications, and Products in Data Processing.'"
      ]
     },
     "execution_count": 16,
     "metadata": {},
     "output_type": "execute_result"
    }
   ],
   "source": [
    "aid = qid = None\n",
    "if len(llm_response.split('-')) == 2:\n",
    "   aid, qid = llm_response.split('-')\n",
    "\n",
    "   # From HANA Cloud get the question from the FAQ that matches the user request best\n",
    "   df_remote = conn.table('FAQ_QUESTIONS').filter(f''' \"AID\" = '{aid}' AND \"QID\" = '{qid}' ''').select('QUESTION')\n",
    "   matching_question = df_remote.head(5).collect().iloc[0,0]\n",
    "    \n",
    "   # From HANA Cloud get the predefined answer of the above question from the FAQ\n",
    "   df_remote = conn.table('FAQ_ANSWERS').filter(f''' \"AID\" = '{aid}' ''').select('ANSWER')\n",
    "   matching_answer = df_remote.head(5).collect().iloc[0,0]\n",
    "else:\n",
    "   matching_answer = \"I don't seem to have an answer for that.\"\n",
    "matching_answer"
   ]
  },
  {
   "cell_type": "markdown",
   "id": "943ae281-7a6a-4036-979a-c3c353abbd17",
   "metadata": {},
   "source": [
    "# User Question and selected Answer"
   ]
  },
  {
   "cell_type": "code",
   "execution_count": 17,
   "id": "c0894432-b6bb-46ad-b5c7-7a2fa13aebf9",
   "metadata": {},
   "outputs": [
    {
     "name": "stdout",
     "output_type": "stream",
     "text": [
      "The user question was: What is the meaning of the letters SAP?\n",
      "The selected questoin from the FAQ is: What does the acronym \"SAP\" stand for?\n",
      "With the answer: \"SAP\" stands for Systems, Applications, and Products in Data Processing.\n"
     ]
    }
   ],
   "source": [
    "print(f'The user question was: {user_question}\\nThe selected questoin from the FAQ is: {matching_question}\\nWith the answer: {matching_answer}')"
   ]
  },
  {
   "cell_type": "code",
   "execution_count": null,
   "id": "5e941025-b964-4460-8e61-cf48a315665b",
   "metadata": {},
   "outputs": [],
   "source": []
  }
 ],
 "metadata": {
  "kernelspec": {
   "display_name": "sandbox",
   "language": "python",
   "name": "sandbox"
  },
  "language_info": {
   "codemirror_mode": {
    "name": "ipython",
    "version": 3
   },
   "file_extension": ".py",
   "mimetype": "text/x-python",
   "name": "python",
   "nbconvert_exporter": "python",
   "pygments_lexer": "ipython3",
   "version": "3.9.18"
  }
 },
 "nbformat": 4,
 "nbformat_minor": 5
}
