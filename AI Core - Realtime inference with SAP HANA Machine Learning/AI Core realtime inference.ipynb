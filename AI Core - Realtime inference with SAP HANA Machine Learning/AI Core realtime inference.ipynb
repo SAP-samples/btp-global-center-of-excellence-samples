{
 "cells": [
  {
   "cell_type": "markdown",
   "id": "d4739081-7eec-4381-abe7-4ffbcf7c8d04",
   "metadata": {},
   "source": [
    "# Realtime inference\n",
    "Call a REST-API on SAP AI Core to obtain a realtime prediction from SAP HANA MAachine Learning<BR>\n",
    "This notebook is part of a tutorial, that starts with the blog <a href=\"https://blogs.sap.com/2023/08/10/sap-ai-core-scheduling-sap-hana-machine-learning/\">SAP AI Core – Scheduling SAP HANA Machine Learning</a> "
   ]
  },
  {
   "cell_type": "markdown",
   "id": "4a87d06c-d4ad-448c-a323-65ba80b2fb70",
   "metadata": {},
   "source": [
    "Get credentials are from AI Core's Service Key <font color='red'>This key is not shared with the tutorial. Please see the blog on how to create your own key</font>"
   ]
  },
  {
   "cell_type": "code",
   "execution_count": 1,
   "id": "aed8ae67-0e17-47d8-9891-bd70811617bf",
   "metadata": {},
   "outputs": [],
   "source": [
    "import json\n",
    "service_key_location = \"AICoreServiceKey.json\"\n",
    "file_read = open(service_key_location, \"r\") \n",
    "config = json.loads(file_read.read())\n",
    "uua_url = config['url']\n",
    "clientid = config[\"clientid\"]\n",
    "clientsecret = config[\"clientsecret\"]"
   ]
  },
  {
   "cell_type": "markdown",
   "id": "af97949a-4d29-4b72-9a28-48f575121d08",
   "metadata": {},
   "source": [
    "Get the Bearer token from AI Core. The token is required to authenticate against the deployment URL to obtain a prediction."
   ]
  },
  {
   "cell_type": "code",
   "execution_count": 2,
   "id": "09438178-b3e9-4e86-bf78-525a6f73baa3",
   "metadata": {},
   "outputs": [],
   "source": [
    "import requests\n",
    "params = {\"grant_type\": \"client_credentials\" }\n",
    "resp = requests.post(f\"{uua_url}/oauth/token\",\n",
    "                     auth=(clientid, clientsecret),\n",
    "                     params=params)\n",
    "token = resp.json()[\"access_token\"]"
   ]
  },
  {
   "cell_type": "markdown",
   "id": "4026af56-2033-438b-87dd-f83c8da74c75",
   "metadata": {},
   "source": [
    "Enter your deployment URL <font color='red'>You must copy the URL from your running deployment. Please see the blog on where to find that URL.</font>"
   ]
  },
  {
   "cell_type": "code",
   "execution_count": 3,
   "id": "48377e62-4b82-4b25-9771-3e8a2912e365",
   "metadata": {},
   "outputs": [],
   "source": [
    "inference_url = 'YOURDEPLOYMENTURLHERE' + '/v1/predict'"
   ]
  },
  {
   "cell_type": "markdown",
   "id": "a648fdc2-a7aa-47a9-98a7-570967ba8547",
   "metadata": {},
   "source": [
    "Create the header for calling the REST-API. <font color='red'>You must enter the name of your own AI Resource Group here./font>"
   ]
  },
  {
   "cell_type": "code",
   "execution_count": 4,
   "id": "7b9fe28e-5deb-4311-82c3-4b019ea4e4fe",
   "metadata": {},
   "outputs": [],
   "source": [
    "headers = {'Content-Type' : 'application/json',\n",
    "           'AI-Resource-Group': 'YOURRESOURCEGROUPHERE',\n",
    "           'Authorization': f'Bearer {token}'}"
   ]
  },
  {
   "cell_type": "markdown",
   "id": "e435c6d1-2478-484b-82b8-1c0686d4990c",
   "metadata": {},
   "source": [
    "Specify the vehicle’s details, whose price you want to estimate."
   ]
  },
  {
   "cell_type": "code",
   "execution_count": 5,
   "id": "426670de-d7b4-4c68-abcf-5eb1ed41a3fe",
   "metadata": {},
   "outputs": [],
   "source": [
    "payload = json.dumps({\n",
    "  \"CAR_ID\": 1,\n",
    "  \"BRAND\": \"audi\",\n",
    "  \"MODEL\": \"a5\",\n",
    "  \"VEHICLETYPE\": \"coupe\",\n",
    "  \"YEAROFREGISTRATION\": 2016,\n",
    "  \"HP\": 120,\n",
    "  \"FUELTYPE\": \"benzin\",\n",
    "  \"GEARBOX\": \"manuell\",\n",
    "  \"KILOMETER\": 100000\n",
    "})"
   ]
  },
  {
   "cell_type": "markdown",
   "id": "39e1f420-2f62-4e5c-a61a-c7c01c3a5c82",
   "metadata": {},
   "source": [
    "Obtain the prediction"
   ]
  },
  {
   "cell_type": "code",
   "execution_count": 6,
   "id": "def1ebfc-75f0-4845-9e4e-d093cd0c2204",
   "metadata": {},
   "outputs": [
    {
     "name": "stdout",
     "output_type": "stream",
     "text": [
      "{\"price_estimate\": 14877.2}\n"
     ]
    }
   ],
   "source": [
    "response = requests.request(\"POST\", inference_url, headers=headers, data=payload)\n",
    "if response.status_code == 200:\n",
    "    print(response.text)\n",
    "else:\n",
    "    print('Error. Status code: ' + str(response.status_code))"
   ]
  },
  {
   "cell_type": "code",
   "execution_count": null,
   "id": "d8698553-e1f8-49a6-a44b-875e82e2b04f",
   "metadata": {},
   "outputs": [],
   "source": []
  }
 ],
 "metadata": {
  "kernelspec": {
   "display_name": "sandbox",
   "language": "python",
   "name": "sandbox"
  },
  "language_info": {
   "codemirror_mode": {
    "name": "ipython",
    "version": 3
   },
   "file_extension": ".py",
   "mimetype": "text/x-python",
   "name": "python",
   "nbconvert_exporter": "python",
   "pygments_lexer": "ipython3",
   "version": "3.9.13"
  }
 },
 "nbformat": 4,
 "nbformat_minor": 5
}
