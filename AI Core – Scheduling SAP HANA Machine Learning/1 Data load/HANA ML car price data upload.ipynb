{
 "cells": [
  {
   "cell_type": "markdown",
   "id": "6dd9ad2d-b2c8-497d-84ac-fb070a9ca8a2",
   "metadata": {},
   "source": [
    "# Load data to SAP HANA Cloud"
   ]
  },
  {
   "cell_type": "markdown",
   "id": "66f01ebf-06a1-48b7-bf87-f21cdeb08080",
   "metadata": {},
   "source": [
    "Establish connection to SAP HANA Cloud, here through the Secure User Store, ie<BR>\n",
    "C:\\Program Files\\SAP\\hdbclient>hdbuserstore -i SET MYHC \"YOURENDPOINT:PORT\" ML\n",
    "The Secure User Store is installed as part of the SAP HANA Client, for details see https://blogs.sap.com/2020/07/27/hands-on-tutorial-automated-predictive-apl-in-sap-hana-cloud/#create_user"
   ]
  },
  {
   "cell_type": "code",
   "execution_count": 1,
   "id": "41bfd346-9d62-4ff8-bbbb-bc660321f398",
   "metadata": {},
   "outputs": [
    {
     "data": {
      "text/plain": [
       "True"
      ]
     },
     "execution_count": 1,
     "metadata": {},
     "output_type": "execute_result"
    }
   ],
   "source": [
    "import hana_ml.dataframe as dataframe\n",
    "conn = dataframe.ConnectionContext(userkey='MYHC')\n",
    "conn.connection.isconnected()"
   ]
  },
  {
   "cell_type": "markdown",
   "id": "44d74190-1c5d-4e2f-b9f9-c42becc0533a",
   "metadata": {},
   "source": [
    "Load the CSV file into a Pandas DataFrame"
   ]
  },
  {
   "cell_type": "code",
   "execution_count": 2,
   "id": "4e85667d-f23f-4753-93e0-3e7e5afe24c1",
   "metadata": {},
   "outputs": [
    {
     "data": {
      "text/html": [
       "<div>\n",
       "<style scoped>\n",
       "    .dataframe tbody tr th:only-of-type {\n",
       "        vertical-align: middle;\n",
       "    }\n",
       "\n",
       "    .dataframe tbody tr th {\n",
       "        vertical-align: top;\n",
       "    }\n",
       "\n",
       "    .dataframe thead th {\n",
       "        text-align: right;\n",
       "    }\n",
       "</style>\n",
       "<table border=\"1\" class=\"dataframe\">\n",
       "  <thead>\n",
       "    <tr style=\"text-align: right;\">\n",
       "      <th></th>\n",
       "      <th>CAR_ID</th>\n",
       "      <th>BRAND</th>\n",
       "      <th>MODEL</th>\n",
       "      <th>VEHICLETYPE</th>\n",
       "      <th>YEAROFREGISTRATION</th>\n",
       "      <th>HP</th>\n",
       "      <th>FUELTYPE</th>\n",
       "      <th>GEARBOX</th>\n",
       "      <th>KILOMETER</th>\n",
       "      <th>PRICE</th>\n",
       "    </tr>\n",
       "  </thead>\n",
       "  <tbody>\n",
       "    <tr>\n",
       "      <th>0</th>\n",
       "      <td>3</td>\n",
       "      <td>volkswagen</td>\n",
       "      <td>golf</td>\n",
       "      <td>kleinwagen</td>\n",
       "      <td>2001</td>\n",
       "      <td>75</td>\n",
       "      <td>benzin</td>\n",
       "      <td>manuell</td>\n",
       "      <td>150000</td>\n",
       "      <td>1500</td>\n",
       "    </tr>\n",
       "    <tr>\n",
       "      <th>1</th>\n",
       "      <td>4</td>\n",
       "      <td>skoda</td>\n",
       "      <td>fabia</td>\n",
       "      <td>kleinwagen</td>\n",
       "      <td>2008</td>\n",
       "      <td>69</td>\n",
       "      <td>diesel</td>\n",
       "      <td>manuell</td>\n",
       "      <td>90000</td>\n",
       "      <td>3600</td>\n",
       "    </tr>\n",
       "    <tr>\n",
       "      <th>2</th>\n",
       "      <td>6</td>\n",
       "      <td>peugeot</td>\n",
       "      <td>2_reihe</td>\n",
       "      <td>cabrio</td>\n",
       "      <td>2004</td>\n",
       "      <td>109</td>\n",
       "      <td>benzin</td>\n",
       "      <td>manuell</td>\n",
       "      <td>150000</td>\n",
       "      <td>2200</td>\n",
       "    </tr>\n",
       "    <tr>\n",
       "      <th>3</th>\n",
       "      <td>7</td>\n",
       "      <td>volkswagen</td>\n",
       "      <td>andere</td>\n",
       "      <td>limousine</td>\n",
       "      <td>1980</td>\n",
       "      <td>50</td>\n",
       "      <td>benzin</td>\n",
       "      <td>manuell</td>\n",
       "      <td>40000</td>\n",
       "      <td>0</td>\n",
       "    </tr>\n",
       "    <tr>\n",
       "      <th>4</th>\n",
       "      <td>10</td>\n",
       "      <td>mazda</td>\n",
       "      <td>3_reihe</td>\n",
       "      <td>limousine</td>\n",
       "      <td>2004</td>\n",
       "      <td>105</td>\n",
       "      <td>benzin</td>\n",
       "      <td>manuell</td>\n",
       "      <td>150000</td>\n",
       "      <td>2000</td>\n",
       "    </tr>\n",
       "  </tbody>\n",
       "</table>\n",
       "</div>"
      ],
      "text/plain": [
       "   CAR_ID       BRAND    MODEL VEHICLETYPE  YEAROFREGISTRATION   HP FUELTYPE  \\\n",
       "0       3  volkswagen     golf  kleinwagen                2001   75   benzin   \n",
       "1       4       skoda    fabia  kleinwagen                2008   69   diesel   \n",
       "2       6     peugeot  2_reihe      cabrio                2004  109   benzin   \n",
       "3       7  volkswagen   andere   limousine                1980   50   benzin   \n",
       "4      10       mazda  3_reihe   limousine                2004  105   benzin   \n",
       "\n",
       "   GEARBOX  KILOMETER  PRICE  \n",
       "0  manuell     150000   1500  \n",
       "1  manuell      90000   3600  \n",
       "2  manuell     150000   2200  \n",
       "3  manuell      40000      0  \n",
       "4  manuell     150000   2000  "
      ]
     },
     "execution_count": 2,
     "metadata": {},
     "output_type": "execute_result"
    }
   ],
   "source": [
    "import pandas as pd\n",
    "df_data = pd.read_csv('USEDCARS.csv', sep=',')\n",
    "df_data.head(5)"
   ]
  },
  {
   "cell_type": "markdown",
   "id": "6b4883f6-83b0-4a77-8ab5-24dcc23d7961",
   "metadata": {},
   "source": [
    "Upload the data as table into SAP HANA Cloud"
   ]
  },
  {
   "cell_type": "code",
   "execution_count": 3,
   "id": "993120c2-ecc9-4d32-bbd0-55cdb27f7178",
   "metadata": {},
   "outputs": [
    {
     "name": "stderr",
     "output_type": "stream",
     "text": [
      "100%|████████████████████████████████████████████████████████████████████████████████████| 6/6 [00:18<00:00,  3.15s/it]\n"
     ]
    }
   ],
   "source": [
    "df_remote = dataframe.create_dataframe_from_pandas(connection_context=conn, \n",
    "                            pandas_df=df_data, \n",
    "                            table_name='USEDCARS',\n",
    "                            force=True,\n",
    "                            drop_exist_tab=False,\n",
    "                            replace=False)"
   ]
  },
  {
   "cell_type": "markdown",
   "id": "6d29d7c9-a546-4533-9789-869628d29388",
   "metadata": {},
   "source": [
    "Download and display just a few records to verify successful upload"
   ]
  },
  {
   "cell_type": "code",
   "execution_count": 4,
   "id": "f86428a1-bc27-4dfd-82bc-c3303ac8df74",
   "metadata": {},
   "outputs": [
    {
     "data": {
      "text/html": [
       "<div>\n",
       "<style scoped>\n",
       "    .dataframe tbody tr th:only-of-type {\n",
       "        vertical-align: middle;\n",
       "    }\n",
       "\n",
       "    .dataframe tbody tr th {\n",
       "        vertical-align: top;\n",
       "    }\n",
       "\n",
       "    .dataframe thead th {\n",
       "        text-align: right;\n",
       "    }\n",
       "</style>\n",
       "<table border=\"1\" class=\"dataframe\">\n",
       "  <thead>\n",
       "    <tr style=\"text-align: right;\">\n",
       "      <th></th>\n",
       "      <th>CAR_ID</th>\n",
       "      <th>BRAND</th>\n",
       "      <th>MODEL</th>\n",
       "      <th>VEHICLETYPE</th>\n",
       "      <th>YEAROFREGISTRATION</th>\n",
       "      <th>HP</th>\n",
       "      <th>FUELTYPE</th>\n",
       "      <th>GEARBOX</th>\n",
       "      <th>KILOMETER</th>\n",
       "      <th>PRICE</th>\n",
       "    </tr>\n",
       "  </thead>\n",
       "  <tbody>\n",
       "    <tr>\n",
       "      <th>0</th>\n",
       "      <td>3</td>\n",
       "      <td>volkswagen</td>\n",
       "      <td>golf</td>\n",
       "      <td>kleinwagen</td>\n",
       "      <td>2001</td>\n",
       "      <td>75</td>\n",
       "      <td>benzin</td>\n",
       "      <td>manuell</td>\n",
       "      <td>150000</td>\n",
       "      <td>1500</td>\n",
       "    </tr>\n",
       "    <tr>\n",
       "      <th>1</th>\n",
       "      <td>4</td>\n",
       "      <td>skoda</td>\n",
       "      <td>fabia</td>\n",
       "      <td>kleinwagen</td>\n",
       "      <td>2008</td>\n",
       "      <td>69</td>\n",
       "      <td>diesel</td>\n",
       "      <td>manuell</td>\n",
       "      <td>90000</td>\n",
       "      <td>3600</td>\n",
       "    </tr>\n",
       "    <tr>\n",
       "      <th>2</th>\n",
       "      <td>6</td>\n",
       "      <td>peugeot</td>\n",
       "      <td>2_reihe</td>\n",
       "      <td>cabrio</td>\n",
       "      <td>2004</td>\n",
       "      <td>109</td>\n",
       "      <td>benzin</td>\n",
       "      <td>manuell</td>\n",
       "      <td>150000</td>\n",
       "      <td>2200</td>\n",
       "    </tr>\n",
       "    <tr>\n",
       "      <th>3</th>\n",
       "      <td>7</td>\n",
       "      <td>volkswagen</td>\n",
       "      <td>andere</td>\n",
       "      <td>limousine</td>\n",
       "      <td>1980</td>\n",
       "      <td>50</td>\n",
       "      <td>benzin</td>\n",
       "      <td>manuell</td>\n",
       "      <td>40000</td>\n",
       "      <td>0</td>\n",
       "    </tr>\n",
       "    <tr>\n",
       "      <th>4</th>\n",
       "      <td>10</td>\n",
       "      <td>mazda</td>\n",
       "      <td>3_reihe</td>\n",
       "      <td>limousine</td>\n",
       "      <td>2004</td>\n",
       "      <td>105</td>\n",
       "      <td>benzin</td>\n",
       "      <td>manuell</td>\n",
       "      <td>150000</td>\n",
       "      <td>2000</td>\n",
       "    </tr>\n",
       "  </tbody>\n",
       "</table>\n",
       "</div>"
      ],
      "text/plain": [
       "   CAR_ID       BRAND    MODEL VEHICLETYPE  YEAROFREGISTRATION   HP FUELTYPE  \\\n",
       "0       3  volkswagen     golf  kleinwagen                2001   75   benzin   \n",
       "1       4       skoda    fabia  kleinwagen                2008   69   diesel   \n",
       "2       6     peugeot  2_reihe      cabrio                2004  109   benzin   \n",
       "3       7  volkswagen   andere   limousine                1980   50   benzin   \n",
       "4      10       mazda  3_reihe   limousine                2004  105   benzin   \n",
       "\n",
       "   GEARBOX  KILOMETER  PRICE  \n",
       "0  manuell     150000   1500  \n",
       "1  manuell      90000   3600  \n",
       "2  manuell     150000   2200  \n",
       "3  manuell      40000      0  \n",
       "4  manuell     150000   2000  "
      ]
     },
     "execution_count": 4,
     "metadata": {},
     "output_type": "execute_result"
    }
   ],
   "source": [
    "df_remote = conn.table('USEDCARS')\n",
    "df_remote.head(5).collect()"
   ]
  },
  {
   "cell_type": "markdown",
   "id": "6378e5ce-4c84-4215-a633-4245ace31253",
   "metadata": {},
   "source": [
    "Create a filtered view on top of the data. This view will be used as source for Machine Learning"
   ]
  },
  {
   "cell_type": "code",
   "execution_count": 5,
   "id": "8acbf1e6-b5e8-4003-ab53-17cd326fac09",
   "metadata": {},
   "outputs": [
    {
     "data": {
      "text/plain": [
       "182385"
      ]
     },
     "execution_count": 5,
     "metadata": {},
     "output_type": "execute_result"
    }
   ],
   "source": [
    "df_remote = df_remote.filter('PRICE >= 1000 AND PRICE <= 20000 and HP >= 50 AND HP <= 300 and YEAROFREGISTRATION >= 1995 AND YEAROFREGISTRATION <= 2015')\n",
    "df_remote.count()"
   ]
  },
  {
   "cell_type": "code",
   "execution_count": 6,
   "id": "6d6a67e3-9764-4a5d-b0d5-9fb741519df3",
   "metadata": {},
   "outputs": [
    {
     "data": {
      "text/plain": [
       "<hana_ml.dataframe.DataFrame at 0x17f64f8bbe0>"
      ]
     },
     "execution_count": 6,
     "metadata": {},
     "output_type": "execute_result"
    }
   ],
   "source": [
    "df_remote.save('V_USEDCARS', table_type='VIEW', force=True)"
   ]
  },
  {
   "cell_type": "code",
   "execution_count": 7,
   "id": "0efb71cb-55c4-4c30-bff6-3cf53228bcbf",
   "metadata": {},
   "outputs": [
    {
     "data": {
      "text/html": [
       "<div>\n",
       "<style scoped>\n",
       "    .dataframe tbody tr th:only-of-type {\n",
       "        vertical-align: middle;\n",
       "    }\n",
       "\n",
       "    .dataframe tbody tr th {\n",
       "        vertical-align: top;\n",
       "    }\n",
       "\n",
       "    .dataframe thead th {\n",
       "        text-align: right;\n",
       "    }\n",
       "</style>\n",
       "<table border=\"1\" class=\"dataframe\">\n",
       "  <thead>\n",
       "    <tr style=\"text-align: right;\">\n",
       "      <th></th>\n",
       "      <th>CAR_ID</th>\n",
       "      <th>BRAND</th>\n",
       "      <th>MODEL</th>\n",
       "      <th>VEHICLETYPE</th>\n",
       "      <th>YEAROFREGISTRATION</th>\n",
       "      <th>HP</th>\n",
       "      <th>FUELTYPE</th>\n",
       "      <th>GEARBOX</th>\n",
       "      <th>KILOMETER</th>\n",
       "      <th>PRICE</th>\n",
       "    </tr>\n",
       "  </thead>\n",
       "  <tbody>\n",
       "    <tr>\n",
       "      <th>0</th>\n",
       "      <td>717</td>\n",
       "      <td>volkswagen</td>\n",
       "      <td>golf</td>\n",
       "      <td>limousine</td>\n",
       "      <td>2004</td>\n",
       "      <td>75</td>\n",
       "      <td>benzin</td>\n",
       "      <td>manuell</td>\n",
       "      <td>150000</td>\n",
       "      <td>3499</td>\n",
       "    </tr>\n",
       "    <tr>\n",
       "      <th>1</th>\n",
       "      <td>860</td>\n",
       "      <td>volkswagen</td>\n",
       "      <td>golf</td>\n",
       "      <td>limousine</td>\n",
       "      <td>1999</td>\n",
       "      <td>75</td>\n",
       "      <td>benzin</td>\n",
       "      <td>manuell</td>\n",
       "      <td>150000</td>\n",
       "      <td>1670</td>\n",
       "    </tr>\n",
       "    <tr>\n",
       "      <th>2</th>\n",
       "      <td>1557</td>\n",
       "      <td>volkswagen</td>\n",
       "      <td>golf</td>\n",
       "      <td>limousine</td>\n",
       "      <td>1999</td>\n",
       "      <td>75</td>\n",
       "      <td>benzin</td>\n",
       "      <td>manuell</td>\n",
       "      <td>150000</td>\n",
       "      <td>1300</td>\n",
       "    </tr>\n",
       "    <tr>\n",
       "      <th>3</th>\n",
       "      <td>2326</td>\n",
       "      <td>volkswagen</td>\n",
       "      <td>golf</td>\n",
       "      <td>limousine</td>\n",
       "      <td>2000</td>\n",
       "      <td>75</td>\n",
       "      <td>benzin</td>\n",
       "      <td>manuell</td>\n",
       "      <td>150000</td>\n",
       "      <td>1350</td>\n",
       "    </tr>\n",
       "    <tr>\n",
       "      <th>4</th>\n",
       "      <td>2580</td>\n",
       "      <td>volkswagen</td>\n",
       "      <td>golf</td>\n",
       "      <td>limousine</td>\n",
       "      <td>1999</td>\n",
       "      <td>75</td>\n",
       "      <td>benzin</td>\n",
       "      <td>manuell</td>\n",
       "      <td>150000</td>\n",
       "      <td>1299</td>\n",
       "    </tr>\n",
       "  </tbody>\n",
       "</table>\n",
       "</div>"
      ],
      "text/plain": [
       "   CAR_ID       BRAND MODEL VEHICLETYPE  YEAROFREGISTRATION  HP FUELTYPE  \\\n",
       "0     717  volkswagen  golf   limousine                2004  75   benzin   \n",
       "1     860  volkswagen  golf   limousine                1999  75   benzin   \n",
       "2    1557  volkswagen  golf   limousine                1999  75   benzin   \n",
       "3    2326  volkswagen  golf   limousine                2000  75   benzin   \n",
       "4    2580  volkswagen  golf   limousine                1999  75   benzin   \n",
       "\n",
       "   GEARBOX  KILOMETER  PRICE  \n",
       "0  manuell     150000   3499  \n",
       "1  manuell     150000   1670  \n",
       "2  manuell     150000   1300  \n",
       "3  manuell     150000   1350  \n",
       "4  manuell     150000   1299  "
      ]
     },
     "execution_count": 7,
     "metadata": {},
     "output_type": "execute_result"
    }
   ],
   "source": [
    "df_remote.head(5).collect()"
   ]
  },
  {
   "cell_type": "code",
   "execution_count": null,
   "id": "ef375098-b59f-454c-b80b-b93a85037ec6",
   "metadata": {},
   "outputs": [],
   "source": []
  }
 ],
 "metadata": {
  "kernelspec": {
   "display_name": "dsbook",
   "language": "python",
   "name": "dsbook"
  },
  "language_info": {
   "codemirror_mode": {
    "name": "ipython",
    "version": 3
   },
   "file_extension": ".py",
   "mimetype": "text/x-python",
   "name": "python",
   "nbconvert_exporter": "python",
   "pygments_lexer": "ipython3",
   "version": "3.9.13"
  }
 },
 "nbformat": 4,
 "nbformat_minor": 5
}
