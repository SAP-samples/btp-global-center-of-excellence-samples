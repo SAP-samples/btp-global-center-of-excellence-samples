{
 "cells": [
  {
   "cell_type": "markdown",
   "id": "653ee717-ba6a-4016-b841-1a530159c274",
   "metadata": {},
   "source": [
    "# Encode the SAP HANA Logon credentials\n",
    "AI Core can store secrets in JSON format with base64 encoded values. The code in this notebook simplifies the creation of the appropriate format."
   ]
  },
  {
   "cell_type": "markdown",
   "id": "facb05e4-7d4d-4084-814f-ba67f6089947",
   "metadata": {},
   "source": [
    "Helper function to base64 encode the invididual elements"
   ]
  },
  {
   "cell_type": "code",
   "execution_count": 2,
   "id": "e35d70fc-2098-48d3-98c2-8fa391cb5bce",
   "metadata": {},
   "outputs": [],
   "source": [
    "import base64\n",
    "def encode_base64(message):\n",
    "    message_bytes = message.encode('ascii')\n",
    "    base64_bytes = base64.b64encode(message_bytes)\n",
    "    base64_message = base64_bytes.decode('ascii')\n",
    "    return base64_message\n"
   ]
  },
  {
   "cell_type": "markdown",
   "id": "5afcc4ec-cb1e-4431-893f-a1aed9f7831b",
   "metadata": {},
   "source": [
    "Test function to verify that the encoding was done correctly. "
   ]
  },
  {
   "cell_type": "code",
   "execution_count": 3,
   "id": "e2d6c2c0-44e7-49fd-8e49-19ba77150ac3",
   "metadata": {
    "tags": []
   },
   "outputs": [],
   "source": [
    "def decode_base64(base64_message):\n",
    "    base64_message = base64_message\n",
    "    base64_bytes = base64_message.encode('ascii')\n",
    "    message_bytes = base64.b64decode(base64_bytes)\n",
    "    message = message_bytes.decode('ascii')\n",
    "    return(message)    "
   ]
  },
  {
   "cell_type": "markdown",
   "id": "335f62ab-de34-455c-91b8-3498f71e2cc6",
   "metadata": {},
   "source": [
    "Test the encoding and decoding. The decoded text should be identical to the initially encoded text."
   ]
  },
  {
   "cell_type": "code",
   "execution_count": 3,
   "id": "ba90e1de-7c01-4db0-ba9d-97351d4020bd",
   "metadata": {},
   "outputs": [
    {
     "data": {
      "text/plain": [
       "'NDQz'"
      ]
     },
     "execution_count": 3,
     "metadata": {},
     "output_type": "execute_result"
    }
   ],
   "source": [
    "test = encode_base64('443')\n",
    "test"
   ]
  },
  {
   "cell_type": "code",
   "execution_count": 4,
   "id": "34bf4dea-8a1c-4bc7-b682-45afa28270ff",
   "metadata": {},
   "outputs": [
    {
     "data": {
      "text/plain": [
       "'443'"
      ]
     },
     "execution_count": 4,
     "metadata": {},
     "output_type": "execute_result"
    }
   ],
   "source": [
    "decode_base64(test)"
   ]
  },
  {
   "cell_type": "markdown",
   "id": "aa73e401-4a10-4594-b9fa-32247dd8bc88",
   "metadata": {},
   "source": [
    "Encode the logon credentials, for use in AI Core"
   ]
  },
  {
   "cell_type": "code",
   "execution_count": 5,
   "id": "cdbfe730-c3c2-4276-8126-ebb048240026",
   "metadata": {},
   "outputs": [],
   "source": [
    "address_enc  = encode_base64('YOURENDPOINT')\n",
    "port_enc     = encode_base64('443')\n",
    "user_enc     = encode_base64('YOURUSER')\n",
    "password_enc = encode_base64('YOURPASSWORD')"
   ]
  },
  {
   "cell_type": "markdown",
   "id": "19150b96-068c-478a-afad-18e99c31a39c",
   "metadata": {},
   "source": [
    "Create the JSON structure as required by AI Core. Execute the cell and copy the JSON output into AI Core."
   ]
  },
  {
   "cell_type": "code",
   "execution_count": 5,
   "id": "ec8e3cda-7168-42fc-bfd4-97fed52a65fa",
   "metadata": {},
   "outputs": [
    {
     "name": "stdout",
     "output_type": "stream",
     "text": [
      "{\"address\": \"MWI2Mjg5NTQtMzBjZS00MjhjLTlmZmUtMjJhOTQ2MzdkYzM4LmhhbmEucHJvZC1ldTIwLmhhbmFjbG91ZC5vbmRlbWFuZC5jb20=\", \"port\": \"NDQz\", \"user\": \"TUxVU0VS\", \"password\": \"U0FQSEFOQUNsb3VkMjAyMA==\"}\n"
     ]
    }
   ],
   "source": [
    "import json\n",
    "print(json.dumps({\"address\":f'{address_enc}',\n",
    " \"port\":f'{port_enc}',\n",
    " \"user\":f'{user_enc}',\n",
    " \"password\":f'{password_enc}'}))"
   ]
  },
  {
   "cell_type": "code",
   "execution_count": null,
   "id": "d45c3e6d-29f3-4826-9f25-1494493d63db",
   "metadata": {},
   "outputs": [],
   "source": []
  }
 ],
 "metadata": {
  "kernelspec": {
   "display_name": "sandbox",
   "language": "python",
   "name": "sandbox"
  },
  "language_info": {
   "codemirror_mode": {
    "name": "ipython",
    "version": 3
   },
   "file_extension": ".py",
   "mimetype": "text/x-python",
   "name": "python",
   "nbconvert_exporter": "python",
   "pygments_lexer": "ipython3",
   "version": "3.9.13"
  }
 },
 "nbformat": 4,
 "nbformat_minor": 5
}
