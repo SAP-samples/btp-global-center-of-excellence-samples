{
 "cells": [
  {
   "cell_type": "markdown",
   "id": "73916a5c-05d0-455c-b47b-b6085528c3f5",
   "metadata": {},
   "source": [
    "# Hands-On Tutorial: Automated Predictive (APL) in SAP HANA Cloud\n",
    "## Apply Machine Learning Model\n",
    "https://blogs.sap.com/2020/07/27/hands-on-tutorial-automated-predictive-apl-in-sap-hana-cloud/"
   ]
  },
  {
   "cell_type": "code",
   "execution_count": 1,
   "id": "8a5346e2-c942-4719-87c2-bf50381af5e4",
   "metadata": {},
   "outputs": [
    {
     "name": "stdout",
     "output_type": "stream",
     "text": [
      "2.18.23092701\n"
     ]
    }
   ],
   "source": [
    "import hana_ml\n",
    "print(hana_ml.__version__)"
   ]
  },
  {
   "cell_type": "markdown",
   "id": "b5852561-6dbe-4248-8e2d-5928052b4e48",
   "metadata": {},
   "source": [
    "### Connect to SAP HANA Cloud"
   ]
  },
  {
   "cell_type": "code",
   "execution_count": 2,
   "id": "aa628fd2-9b95-4b42-92c9-ab74484413f5",
   "metadata": {},
   "outputs": [
    {
     "data": {
      "text/plain": [
       "True"
      ]
     },
     "execution_count": 2,
     "metadata": {},
     "output_type": "execute_result"
    }
   ],
   "source": [
    "import hana_ml.dataframe as dataframe\n",
    "conn = dataframe.ConnectionContext(userkey = 'MYHC',\n",
    "                                   encrypt = 'true')\n",
    "conn.connection.isconnected()"
   ]
  },
  {
   "cell_type": "markdown",
   "id": "1cdd50a2-c94c-4f38-8bee-302100e3130e",
   "metadata": {},
   "source": [
    "### Prediction data"
   ]
  },
  {
   "cell_type": "markdown",
   "id": "5f197f11-bcb7-4bd3-a1e6-70a4a0e7e526",
   "metadata": {},
   "source": [
    "Point to the data in SAP HANA Cloud. Add a sort to ensure reproducability"
   ]
  },
  {
   "cell_type": "code",
   "execution_count": 3,
   "id": "17a0d65f-2325-4240-bd13-8e32a57feba5",
   "metadata": {},
   "outputs": [
    {
     "data": {
      "text/html": [
       "<div>\n",
       "<style scoped>\n",
       "    .dataframe tbody tr th:only-of-type {\n",
       "        vertical-align: middle;\n",
       "    }\n",
       "\n",
       "    .dataframe tbody tr th {\n",
       "        vertical-align: top;\n",
       "    }\n",
       "\n",
       "    .dataframe thead th {\n",
       "        text-align: right;\n",
       "    }\n",
       "</style>\n",
       "<table border=\"1\" class=\"dataframe\">\n",
       "  <thead>\n",
       "    <tr style=\"text-align: right;\">\n",
       "      <th></th>\n",
       "      <th>CUSTOMER_ID</th>\n",
       "      <th>AGE</th>\n",
       "      <th>JOB</th>\n",
       "      <th>MARITAL</th>\n",
       "      <th>EDUCATION</th>\n",
       "      <th>DEFAULT</th>\n",
       "      <th>BALANCE</th>\n",
       "      <th>HOUSING</th>\n",
       "      <th>LOAN</th>\n",
       "      <th>CONTACT</th>\n",
       "      <th>DAY</th>\n",
       "      <th>MONTH</th>\n",
       "      <th>CAMPAIGN</th>\n",
       "      <th>PDAYS</th>\n",
       "      <th>PREVIOUS</th>\n",
       "      <th>POUTCOME</th>\n",
       "    </tr>\n",
       "  </thead>\n",
       "  <tbody>\n",
       "    <tr>\n",
       "      <th>0</th>\n",
       "      <td>1</td>\n",
       "      <td>40</td>\n",
       "      <td>entrepreneur</td>\n",
       "      <td>married</td>\n",
       "      <td>secondary</td>\n",
       "      <td>no</td>\n",
       "      <td>3000</td>\n",
       "      <td>yes</td>\n",
       "      <td>no</td>\n",
       "      <td>unknown</td>\n",
       "      <td>10</td>\n",
       "      <td>may</td>\n",
       "      <td>1</td>\n",
       "      <td>-1</td>\n",
       "      <td>0</td>\n",
       "      <td>unknown</td>\n",
       "    </tr>\n",
       "    <tr>\n",
       "      <th>1</th>\n",
       "      <td>2</td>\n",
       "      <td>65</td>\n",
       "      <td>management</td>\n",
       "      <td>single</td>\n",
       "      <td>tertiary</td>\n",
       "      <td>no</td>\n",
       "      <td>3000</td>\n",
       "      <td>no</td>\n",
       "      <td>no</td>\n",
       "      <td>telephone</td>\n",
       "      <td>10</td>\n",
       "      <td>mar</td>\n",
       "      <td>1</td>\n",
       "      <td>-1</td>\n",
       "      <td>12</td>\n",
       "      <td>success</td>\n",
       "    </tr>\n",
       "  </tbody>\n",
       "</table>\n",
       "</div>"
      ],
      "text/plain": [
       "   CUSTOMER_ID  AGE           JOB  MARITAL  EDUCATION DEFAULT  BALANCE   \n",
       "0            1   40  entrepreneur  married  secondary      no     3000  \\\n",
       "1            2   65    management   single   tertiary      no     3000   \n",
       "\n",
       "  HOUSING LOAN    CONTACT  DAY MONTH  CAMPAIGN  PDAYS  PREVIOUS POUTCOME  \n",
       "0     yes   no    unknown   10   may         1     -1         0  unknown  \n",
       "1      no   no  telephone   10   mar         1     -1        12  success  "
      ]
     },
     "execution_count": 3,
     "metadata": {},
     "output_type": "execute_result"
    }
   ],
   "source": [
    "df_remote_new = conn.table(table = 'BANKMARKETING_TOPREDICT').sort(\"CUSTOMER_ID\", desc = False)\n",
    "df_remote_new.head(5).collect()"
   ]
  },
  {
   "cell_type": "markdown",
   "id": "dc16ffda-a95f-4996-8bfc-fe17c60fe066",
   "metadata": {},
   "source": [
    "### Load the trained model"
   ]
  },
  {
   "cell_type": "code",
   "execution_count": 4,
   "id": "7b326de7-c6dd-4dda-b3ae-4cd3ecc8fb18",
   "metadata": {},
   "outputs": [],
   "source": [
    "from hana_ml.model_storage import ModelStorage\n",
    "model_storage = ModelStorage(connection_context = conn)\n",
    "gbapl_model = model_storage.load_model(name = 'Bank Marketing Model')"
   ]
  },
  {
   "cell_type": "markdown",
   "id": "9773364b-4991-4b1e-871e-40f61c374fb8",
   "metadata": {},
   "source": [
    "### Create predictions"
   ]
  },
  {
   "cell_type": "code",
   "execution_count": 5,
   "id": "f0cab692-dd12-4dd8-9d92-fc6fd6d1d85a",
   "metadata": {},
   "outputs": [
    {
     "data": {
      "text/html": [
       "<style type=\"text/css\">\n",
       "</style>\n",
       "<table id=\"T_31803\">\n",
       "  <thead>\n",
       "    <tr>\n",
       "      <th id=\"T_31803_level0_col0\" class=\"col_heading level0 col0\" >CUSTOMER_ID</th>\n",
       "      <th id=\"T_31803_level0_col1\" class=\"col_heading level0 col1\" >PREDICTED</th>\n",
       "      <th id=\"T_31803_level0_col2\" class=\"col_heading level0 col2\" >proba_PURCHASE</th>\n",
       "    </tr>\n",
       "  </thead>\n",
       "  <tbody>\n",
       "    <tr>\n",
       "      <td id=\"T_31803_row0_col0\" class=\"data row0 col0\" >1</td>\n",
       "      <td id=\"T_31803_row0_col1\" class=\"data row0 col1\" >no</td>\n",
       "      <td id=\"T_31803_row0_col2\" class=\"data row0 col2\" >0.033</td>\n",
       "    </tr>\n",
       "    <tr>\n",
       "      <td id=\"T_31803_row1_col0\" class=\"data row1 col0\" >2</td>\n",
       "      <td id=\"T_31803_row1_col1\" class=\"data row1 col1\" >yes</td>\n",
       "      <td id=\"T_31803_row1_col2\" class=\"data row1 col2\" >0.796</td>\n",
       "    </tr>\n",
       "  </tbody>\n",
       "</table>\n"
      ],
      "text/plain": [
       "<pandas.io.formats.style.Styler at 0x2773ba5cd30>"
      ]
     },
     "execution_count": 5,
     "metadata": {},
     "output_type": "execute_result"
    }
   ],
   "source": [
    "gbapl_model.set_params(extra_applyout_settings =\n",
    "                        {'APL/ApplyExtraMode': 'Advanced Apply Settings',\n",
    "                         'APL/ApplyDecision': 'true',\n",
    "                         'APL/ApplyProbability': 'true',\n",
    "                         'APL/ApplyPredictedValue': 'false'\n",
    "                        })\n",
    "df_remote_predict = gbapl_model.predict(df_remote_new)\n",
    "df_predict = df_remote_predict.head(10).collect()\n",
    "df_predict.columns = [hdr.replace('gb_', '') for hdr in df_predict.columns] # shorten column names\n",
    "df_predict.style.format({'proba_PURCHASE':'{0:,.3f}'}).hide(axis='index')"
   ]
  },
  {
   "cell_type": "markdown",
   "id": "b66e84c7-397c-4308-a978-7325f64dd90a",
   "metadata": {},
   "source": [
    "### Explain the predictions"
   ]
  },
  {
   "cell_type": "code",
   "execution_count": 6,
   "id": "8843889f-d073-46c6-80a1-46690be7288f",
   "metadata": {},
   "outputs": [
    {
     "data": {
      "text/html": [
       "<div>\n",
       "<style scoped>\n",
       "    .dataframe tbody tr th:only-of-type {\n",
       "        vertical-align: middle;\n",
       "    }\n",
       "\n",
       "    .dataframe tbody tr th {\n",
       "        vertical-align: top;\n",
       "    }\n",
       "\n",
       "    .dataframe thead th {\n",
       "        text-align: right;\n",
       "    }\n",
       "</style>\n",
       "<table border=\"1\" class=\"dataframe\">\n",
       "  <thead>\n",
       "    <tr style=\"text-align: right;\">\n",
       "      <th></th>\n",
       "      <th>CUSTOMER_ID</th>\n",
       "      <th>PREDICTED</th>\n",
       "      <th>score_PURCHASE</th>\n",
       "      <th>contrib_AGE</th>\n",
       "      <th>contrib_MARITAL</th>\n",
       "      <th>contrib_EDUCATION</th>\n",
       "      <th>contrib_BALANCE</th>\n",
       "      <th>contrib_HOUSING</th>\n",
       "      <th>contrib_LOAN</th>\n",
       "      <th>contrib_CONTACT</th>\n",
       "      <th>contrib_DAY</th>\n",
       "      <th>contrib_MONTH</th>\n",
       "      <th>contrib_CAMPAIGN</th>\n",
       "      <th>contrib_PREVIOUS</th>\n",
       "      <th>contrib_POUTCOME</th>\n",
       "      <th>contrib_constant_bias</th>\n",
       "    </tr>\n",
       "  </thead>\n",
       "  <tbody>\n",
       "    <tr>\n",
       "      <th>0</th>\n",
       "      <td>1</td>\n",
       "      <td>no</td>\n",
       "      <td>-3.362570</td>\n",
       "      <td>-0.061166</td>\n",
       "      <td>-0.101978</td>\n",
       "      <td>-0.042685</td>\n",
       "      <td>0.249151</td>\n",
       "      <td>-0.116452</td>\n",
       "      <td>0.028893</td>\n",
       "      <td>-0.950099</td>\n",
       "      <td>0.000683</td>\n",
       "      <td>-0.260125</td>\n",
       "      <td>0.084510</td>\n",
       "      <td>-0.197137</td>\n",
       "      <td>0.053647</td>\n",
       "      <td>-2.049811</td>\n",
       "    </tr>\n",
       "    <tr>\n",
       "      <th>1</th>\n",
       "      <td>2</td>\n",
       "      <td>yes</td>\n",
       "      <td>1.361992</td>\n",
       "      <td>0.580599</td>\n",
       "      <td>0.058357</td>\n",
       "      <td>0.110169</td>\n",
       "      <td>0.255366</td>\n",
       "      <td>0.183404</td>\n",
       "      <td>0.044148</td>\n",
       "      <td>-0.099252</td>\n",
       "      <td>0.013740</td>\n",
       "      <td>0.792756</td>\n",
       "      <td>0.104633</td>\n",
       "      <td>0.430414</td>\n",
       "      <td>0.937468</td>\n",
       "      <td>-2.049811</td>\n",
       "    </tr>\n",
       "  </tbody>\n",
       "</table>\n",
       "</div>"
      ],
      "text/plain": [
       "   CUSTOMER_ID PREDICTED  score_PURCHASE  contrib_AGE  contrib_MARITAL   \n",
       "0            1        no       -3.362570    -0.061166        -0.101978  \\\n",
       "1            2       yes        1.361992     0.580599         0.058357   \n",
       "\n",
       "   contrib_EDUCATION  contrib_BALANCE  contrib_HOUSING  contrib_LOAN   \n",
       "0          -0.042685         0.249151        -0.116452      0.028893  \\\n",
       "1           0.110169         0.255366         0.183404      0.044148   \n",
       "\n",
       "   contrib_CONTACT  contrib_DAY  contrib_MONTH  contrib_CAMPAIGN   \n",
       "0        -0.950099     0.000683      -0.260125          0.084510  \\\n",
       "1        -0.099252     0.013740       0.792756          0.104633   \n",
       "\n",
       "   contrib_PREVIOUS  contrib_POUTCOME  contrib_constant_bias  \n",
       "0         -0.197137          0.053647              -2.049811  \n",
       "1          0.430414          0.937468              -2.049811  "
      ]
     },
     "execution_count": 6,
     "metadata": {},
     "output_type": "execute_result"
    }
   ],
   "source": [
    "gbapl_model.set_params(extra_applyout_settings={'APL/ApplyExtraMode': 'Individual Contributions'})\n",
    "df_remote_predict = gbapl_model.predict(df_remote_new)\n",
    "df_predict = df_remote_predict.head(10).collect()\n",
    "df_predict.columns = [hdr.replace(\"gb_\", \"\") for hdr in df_predict.columns] # Shorten column names\n",
    "df_predict"
   ]
  },
  {
   "cell_type": "markdown",
   "id": "468c1f9e-7480-43c0-80b4-f921fc0925d0",
   "metadata": {},
   "source": [
    "Visualise the explainability for a selected prediction"
   ]
  },
  {
   "cell_type": "code",
   "execution_count": 12,
   "id": "17d5a190-5a4c-4030-bb82-c1bda70e86a1",
   "metadata": {},
   "outputs": [
    {
     "data": {
      "image/png": "[encoded data removed]",
      "text/plain": [
       "<Figure size 640x480 with 1 Axes>"
      ]
     },
     "metadata": {},
     "output_type": "display_data"
    }
   ],
   "source": [
    "df_contributions_single = df_predict[df_predict['CUSTOMER_ID'] == 2]\n",
    "df_contributions_single = df_contributions_single.melt(id_vars = ['CUSTOMER_ID', 'PREDICTED', 'score_PURCHASE'])\n",
    "df_contributions_single.columns = ['CUSTOMER_ID', 'PREDICTED', 'SCORE', 'VARIABLE', 'CONTRIBUTION']\n",
    "df_contributions_single = df_contributions_single.sort_values(by = ['CONTRIBUTION'], ascending = [False])\n",
    "df_contributions_single.style.format({'CONTRIBUTION':'{0:,.3f}'}) \n",
    "\n",
    "import seaborn as sns\n",
    "import matplotlib.pyplot as plt\n",
    "import numpy as np\n",
    "\n",
    "%matplotlib inline \n",
    "plt.figure()\n",
    "bar_color = np.where(df_contributions_single['CONTRIBUTION'] > 0 ,'green', 'red')\n",
    "bplot = sns.barplot(data = df_contributions_single, x = 'VARIABLE', y = 'CONTRIBUTION',  palette = bar_color.tolist())\n",
    "bplot.set_title('Contributions')\n",
    "bplot.set_xticklabels(bplot.get_xticklabels(), rotation = 90)\n",
    "plt.axhline(y = 0, color = 'grey', linewidth = 1)\n",
    "plt.ylim(-2.5, 2.5);"
   ]
  },
  {
   "cell_type": "markdown",
   "id": "6b745937-7a58-4d35-92ce-b797c823c8ae",
   "metadata": {},
   "source": [
    "### Save the predictions"
   ]
  },
  {
   "cell_type": "code",
   "execution_count": 8,
   "id": "c510c404-a87d-4491-832b-47f55d599ec1",
   "metadata": {},
   "outputs": [
    {
     "data": {
      "text/plain": [
       "<hana_ml.dataframe.DataFrame at 0x27739040370>"
      ]
     },
     "execution_count": 8,
     "metadata": {},
     "output_type": "execute_result"
    }
   ],
   "source": [
    "df_remote_predict.save('BANKMARKETING_PREDICTED',\n",
    "                       force = True)"
   ]
  },
  {
   "cell_type": "code",
   "execution_count": null,
   "id": "7b7fac21-c1ae-45d1-811c-27661877b56e",
   "metadata": {},
   "outputs": [],
   "source": []
  }
 ],
 "metadata": {
  "kernelspec": {
   "display_name": "dsbook",
   "language": "python",
   "name": "dsbook"
  },
  "language_info": {
   "codemirror_mode": {
    "name": "ipython",
    "version": 3
   },
   "file_extension": ".py",
   "mimetype": "text/x-python",
   "name": "python",
   "nbconvert_exporter": "python",
   "pygments_lexer": "ipython3",
   "version": "3.9.18"
  }
 },
 "nbformat": 4,
 "nbformat_minor": 5
}
