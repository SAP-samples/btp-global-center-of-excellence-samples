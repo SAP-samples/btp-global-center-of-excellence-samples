{
 "cells": [
  {
   "cell_type": "markdown",
   "id": "bafba701-3fe6-45a9-9fec-bd4b0ea29b04",
   "metadata": {},
   "source": [
    "# Hands-On Tutorial: Automated Predictive (APL) in SAP HANA Cloud\n",
    "## Data upload\n",
    "https://blogs.sap.com/2020/07/27/hands-on-tutorial-automated-predictive-apl-in-sap-hana-cloud/"
   ]
  },
  {
   "cell_type": "code",
   "execution_count": 1,
   "id": "8a5346e2-c942-4719-87c2-bf50381af5e4",
   "metadata": {},
   "outputs": [
    {
     "name": "stdout",
     "output_type": "stream",
     "text": [
      "2.18.23092701\n"
     ]
    }
   ],
   "source": [
    "import hana_ml\n",
    "print(hana_ml.__version__)"
   ]
  },
  {
   "cell_type": "markdown",
   "id": "fcea56fd-8de9-43b2-bbf7-ba41e52a2b88",
   "metadata": {},
   "source": [
    "### Connect to SAP HANA Cloud"
   ]
  },
  {
   "cell_type": "code",
   "execution_count": 6,
   "id": "aa628fd2-9b95-4b42-92c9-ab74484413f5",
   "metadata": {},
   "outputs": [
    {
     "data": {
      "text/plain": [
       "True"
      ]
     },
     "execution_count": 6,
     "metadata": {},
     "output_type": "execute_result"
    }
   ],
   "source": [
    "import hana_ml.dataframe as dataframe\n",
    "conn = dataframe.ConnectionContext(userkey = 'MYHANACLOUD',\n",
    "                                   encrypt = 'true')\n",
    "conn.connection.isconnected()"
   ]
  },
  {
   "cell_type": "markdown",
   "id": "0f3935ea-a87e-43be-8a60-64b6055e5788",
   "metadata": {},
   "source": [
    "### Prepare and upload data to train a Machine Learning model"
   ]
  },
  {
   "cell_type": "code",
   "execution_count": 8,
   "id": "71813277-936f-4cbb-8692-d65f3501d328",
   "metadata": {},
   "outputs": [
    {
     "data": {
      "text/html": [
       "<div>\n",
       "<style scoped>\n",
       "    .dataframe tbody tr th:only-of-type {\n",
       "        vertical-align: middle;\n",
       "    }\n",
       "\n",
       "    .dataframe tbody tr th {\n",
       "        vertical-align: top;\n",
       "    }\n",
       "\n",
       "    .dataframe thead th {\n",
       "        text-align: right;\n",
       "    }\n",
       "</style>\n",
       "<table border=\"1\" class=\"dataframe\">\n",
       "  <thead>\n",
       "    <tr style=\"text-align: right;\">\n",
       "      <th></th>\n",
       "      <th>age</th>\n",
       "      <th>job</th>\n",
       "      <th>marital</th>\n",
       "      <th>education</th>\n",
       "      <th>default</th>\n",
       "      <th>balance</th>\n",
       "      <th>housing</th>\n",
       "      <th>loan</th>\n",
       "      <th>contact</th>\n",
       "      <th>day</th>\n",
       "      <th>month</th>\n",
       "      <th>duration</th>\n",
       "      <th>campaign</th>\n",
       "      <th>pdays</th>\n",
       "      <th>previous</th>\n",
       "      <th>poutcome</th>\n",
       "      <th>y</th>\n",
       "    </tr>\n",
       "  </thead>\n",
       "  <tbody>\n",
       "    <tr>\n",
       "      <th>0</th>\n",
       "      <td>58</td>\n",
       "      <td>management</td>\n",
       "      <td>married</td>\n",
       "      <td>tertiary</td>\n",
       "      <td>no</td>\n",
       "      <td>2143</td>\n",
       "      <td>yes</td>\n",
       "      <td>no</td>\n",
       "      <td>unknown</td>\n",
       "      <td>5</td>\n",
       "      <td>may</td>\n",
       "      <td>261</td>\n",
       "      <td>1</td>\n",
       "      <td>-1</td>\n",
       "      <td>0</td>\n",
       "      <td>unknown</td>\n",
       "      <td>no</td>\n",
       "    </tr>\n",
       "    <tr>\n",
       "      <th>1</th>\n",
       "      <td>44</td>\n",
       "      <td>technician</td>\n",
       "      <td>single</td>\n",
       "      <td>secondary</td>\n",
       "      <td>no</td>\n",
       "      <td>29</td>\n",
       "      <td>yes</td>\n",
       "      <td>no</td>\n",
       "      <td>unknown</td>\n",
       "      <td>5</td>\n",
       "      <td>may</td>\n",
       "      <td>151</td>\n",
       "      <td>1</td>\n",
       "      <td>-1</td>\n",
       "      <td>0</td>\n",
       "      <td>unknown</td>\n",
       "      <td>no</td>\n",
       "    </tr>\n",
       "    <tr>\n",
       "      <th>2</th>\n",
       "      <td>33</td>\n",
       "      <td>entrepreneur</td>\n",
       "      <td>married</td>\n",
       "      <td>secondary</td>\n",
       "      <td>no</td>\n",
       "      <td>2</td>\n",
       "      <td>yes</td>\n",
       "      <td>yes</td>\n",
       "      <td>unknown</td>\n",
       "      <td>5</td>\n",
       "      <td>may</td>\n",
       "      <td>76</td>\n",
       "      <td>1</td>\n",
       "      <td>-1</td>\n",
       "      <td>0</td>\n",
       "      <td>unknown</td>\n",
       "      <td>no</td>\n",
       "    </tr>\n",
       "    <tr>\n",
       "      <th>3</th>\n",
       "      <td>47</td>\n",
       "      <td>blue-collar</td>\n",
       "      <td>married</td>\n",
       "      <td>unknown</td>\n",
       "      <td>no</td>\n",
       "      <td>1506</td>\n",
       "      <td>yes</td>\n",
       "      <td>no</td>\n",
       "      <td>unknown</td>\n",
       "      <td>5</td>\n",
       "      <td>may</td>\n",
       "      <td>92</td>\n",
       "      <td>1</td>\n",
       "      <td>-1</td>\n",
       "      <td>0</td>\n",
       "      <td>unknown</td>\n",
       "      <td>no</td>\n",
       "    </tr>\n",
       "    <tr>\n",
       "      <th>4</th>\n",
       "      <td>33</td>\n",
       "      <td>unknown</td>\n",
       "      <td>single</td>\n",
       "      <td>unknown</td>\n",
       "      <td>no</td>\n",
       "      <td>1</td>\n",
       "      <td>no</td>\n",
       "      <td>no</td>\n",
       "      <td>unknown</td>\n",
       "      <td>5</td>\n",
       "      <td>may</td>\n",
       "      <td>198</td>\n",
       "      <td>1</td>\n",
       "      <td>-1</td>\n",
       "      <td>0</td>\n",
       "      <td>unknown</td>\n",
       "      <td>no</td>\n",
       "    </tr>\n",
       "  </tbody>\n",
       "</table>\n",
       "</div>"
      ],
      "text/plain": [
       "   age           job  marital  education default  balance housing loan   \n",
       "0   58    management  married   tertiary      no     2143     yes   no  \\\n",
       "1   44    technician   single  secondary      no       29     yes   no   \n",
       "2   33  entrepreneur  married  secondary      no        2     yes  yes   \n",
       "3   47   blue-collar  married    unknown      no     1506     yes   no   \n",
       "4   33       unknown   single    unknown      no        1      no   no   \n",
       "\n",
       "   contact  day month  duration  campaign  pdays  previous poutcome   y  \n",
       "0  unknown    5   may       261         1     -1         0  unknown  no  \n",
       "1  unknown    5   may       151         1     -1         0  unknown  no  \n",
       "2  unknown    5   may        76         1     -1         0  unknown  no  \n",
       "3  unknown    5   may        92         1     -1         0  unknown  no  \n",
       "4  unknown    5   may       198         1     -1         0  unknown  no  "
      ]
     },
     "execution_count": 8,
     "metadata": {},
     "output_type": "execute_result"
    }
   ],
   "source": [
    "import pandas as pd\n",
    "df_data = pd.read_csv('bank-full.csv', sep = ';')\n",
    "df_data.head(5)"
   ]
  },
  {
   "cell_type": "code",
   "execution_count": 9,
   "id": "59e1197f-adcf-4614-9676-2a88c7ea4c65",
   "metadata": {},
   "outputs": [],
   "source": [
    "df_data.columns = map(str.upper, df_data.columns)"
   ]
  },
  {
   "cell_type": "code",
   "execution_count": 10,
   "id": "8e744ade-7a7b-4bf3-abd2-7f63ea0662eb",
   "metadata": {},
   "outputs": [],
   "source": [
    "df_data = df_data.drop(['DURATION'],\n",
    "                       axis = 1)"
   ]
  },
  {
   "cell_type": "code",
   "execution_count": 11,
   "id": "d6b6432a-f91f-47ab-b7f6-d1345d71a822",
   "metadata": {},
   "outputs": [],
   "source": [
    "df_data = df_data.rename(index = str, columns = {'Y': 'PURCHASE'})"
   ]
  },
  {
   "cell_type": "code",
   "execution_count": 12,
   "id": "ed537219-7215-46bb-82a4-070e18bcdce2",
   "metadata": {},
   "outputs": [],
   "source": [
    "df_data.insert(0, 'CUSTOMER_ID', df_data.reset_index().index)"
   ]
  },
  {
   "cell_type": "code",
   "execution_count": 13,
   "id": "682ab989-fd90-4261-8258-25b289563a46",
   "metadata": {},
   "outputs": [
    {
     "data": {
      "text/html": [
       "<div>\n",
       "<style scoped>\n",
       "    .dataframe tbody tr th:only-of-type {\n",
       "        vertical-align: middle;\n",
       "    }\n",
       "\n",
       "    .dataframe tbody tr th {\n",
       "        vertical-align: top;\n",
       "    }\n",
       "\n",
       "    .dataframe thead th {\n",
       "        text-align: right;\n",
       "    }\n",
       "</style>\n",
       "<table border=\"1\" class=\"dataframe\">\n",
       "  <thead>\n",
       "    <tr style=\"text-align: right;\">\n",
       "      <th></th>\n",
       "      <th>CUSTOMER_ID</th>\n",
       "      <th>AGE</th>\n",
       "      <th>JOB</th>\n",
       "      <th>MARITAL</th>\n",
       "      <th>EDUCATION</th>\n",
       "      <th>DEFAULT</th>\n",
       "      <th>BALANCE</th>\n",
       "      <th>HOUSING</th>\n",
       "      <th>LOAN</th>\n",
       "      <th>CONTACT</th>\n",
       "      <th>DAY</th>\n",
       "      <th>MONTH</th>\n",
       "      <th>CAMPAIGN</th>\n",
       "      <th>PDAYS</th>\n",
       "      <th>PREVIOUS</th>\n",
       "      <th>POUTCOME</th>\n",
       "      <th>PURCHASE</th>\n",
       "    </tr>\n",
       "  </thead>\n",
       "  <tbody>\n",
       "    <tr>\n",
       "      <th>0</th>\n",
       "      <td>0</td>\n",
       "      <td>58</td>\n",
       "      <td>management</td>\n",
       "      <td>married</td>\n",
       "      <td>tertiary</td>\n",
       "      <td>no</td>\n",
       "      <td>2143</td>\n",
       "      <td>yes</td>\n",
       "      <td>no</td>\n",
       "      <td>unknown</td>\n",
       "      <td>5</td>\n",
       "      <td>may</td>\n",
       "      <td>1</td>\n",
       "      <td>-1</td>\n",
       "      <td>0</td>\n",
       "      <td>unknown</td>\n",
       "      <td>no</td>\n",
       "    </tr>\n",
       "    <tr>\n",
       "      <th>1</th>\n",
       "      <td>1</td>\n",
       "      <td>44</td>\n",
       "      <td>technician</td>\n",
       "      <td>single</td>\n",
       "      <td>secondary</td>\n",
       "      <td>no</td>\n",
       "      <td>29</td>\n",
       "      <td>yes</td>\n",
       "      <td>no</td>\n",
       "      <td>unknown</td>\n",
       "      <td>5</td>\n",
       "      <td>may</td>\n",
       "      <td>1</td>\n",
       "      <td>-1</td>\n",
       "      <td>0</td>\n",
       "      <td>unknown</td>\n",
       "      <td>no</td>\n",
       "    </tr>\n",
       "    <tr>\n",
       "      <th>2</th>\n",
       "      <td>2</td>\n",
       "      <td>33</td>\n",
       "      <td>entrepreneur</td>\n",
       "      <td>married</td>\n",
       "      <td>secondary</td>\n",
       "      <td>no</td>\n",
       "      <td>2</td>\n",
       "      <td>yes</td>\n",
       "      <td>yes</td>\n",
       "      <td>unknown</td>\n",
       "      <td>5</td>\n",
       "      <td>may</td>\n",
       "      <td>1</td>\n",
       "      <td>-1</td>\n",
       "      <td>0</td>\n",
       "      <td>unknown</td>\n",
       "      <td>no</td>\n",
       "    </tr>\n",
       "    <tr>\n",
       "      <th>3</th>\n",
       "      <td>3</td>\n",
       "      <td>47</td>\n",
       "      <td>blue-collar</td>\n",
       "      <td>married</td>\n",
       "      <td>unknown</td>\n",
       "      <td>no</td>\n",
       "      <td>1506</td>\n",
       "      <td>yes</td>\n",
       "      <td>no</td>\n",
       "      <td>unknown</td>\n",
       "      <td>5</td>\n",
       "      <td>may</td>\n",
       "      <td>1</td>\n",
       "      <td>-1</td>\n",
       "      <td>0</td>\n",
       "      <td>unknown</td>\n",
       "      <td>no</td>\n",
       "    </tr>\n",
       "    <tr>\n",
       "      <th>4</th>\n",
       "      <td>4</td>\n",
       "      <td>33</td>\n",
       "      <td>unknown</td>\n",
       "      <td>single</td>\n",
       "      <td>unknown</td>\n",
       "      <td>no</td>\n",
       "      <td>1</td>\n",
       "      <td>no</td>\n",
       "      <td>no</td>\n",
       "      <td>unknown</td>\n",
       "      <td>5</td>\n",
       "      <td>may</td>\n",
       "      <td>1</td>\n",
       "      <td>-1</td>\n",
       "      <td>0</td>\n",
       "      <td>unknown</td>\n",
       "      <td>no</td>\n",
       "    </tr>\n",
       "  </tbody>\n",
       "</table>\n",
       "</div>"
      ],
      "text/plain": [
       "   CUSTOMER_ID  AGE           JOB  MARITAL  EDUCATION DEFAULT  BALANCE   \n",
       "0            0   58    management  married   tertiary      no     2143  \\\n",
       "1            1   44    technician   single  secondary      no       29   \n",
       "2            2   33  entrepreneur  married  secondary      no        2   \n",
       "3            3   47   blue-collar  married    unknown      no     1506   \n",
       "4            4   33       unknown   single    unknown      no        1   \n",
       "\n",
       "  HOUSING LOAN  CONTACT  DAY MONTH  CAMPAIGN  PDAYS  PREVIOUS POUTCOME   \n",
       "0     yes   no  unknown    5   may         1     -1         0  unknown  \\\n",
       "1     yes   no  unknown    5   may         1     -1         0  unknown   \n",
       "2     yes  yes  unknown    5   may         1     -1         0  unknown   \n",
       "3     yes   no  unknown    5   may         1     -1         0  unknown   \n",
       "4      no   no  unknown    5   may         1     -1         0  unknown   \n",
       "\n",
       "  PURCHASE  \n",
       "0       no  \n",
       "1       no  \n",
       "2       no  \n",
       "3       no  \n",
       "4       no  "
      ]
     },
     "execution_count": 13,
     "metadata": {},
     "output_type": "execute_result"
    }
   ],
   "source": [
    "df_data.head(5)"
   ]
  },
  {
   "cell_type": "code",
   "execution_count": 15,
   "id": "80f021c0-c669-4e00-be96-1e9b88732316",
   "metadata": {},
   "outputs": [
    {
     "name": "stderr",
     "output_type": "stream",
     "text": [
      "100%|████████████████████████████████████████████████████████████████████████████████████| 1/1 [00:02<00:00,  2.00s/it]\n"
     ]
    }
   ],
   "source": [
    "df_remote = dataframe.create_dataframe_from_pandas(connection_context = conn, \n",
    "                                                   pandas_df = df_data, \n",
    "                                                   table_name = 'BANKMARKETING',\n",
    "                                                   force = True,\n",
    "                                                   replace = False)"
   ]
  },
  {
   "cell_type": "markdown",
   "id": "72aae24c-7090-431c-a470-9614d7c3280a",
   "metadata": {},
   "source": [
    "### Prepare and upload data to create predictions on"
   ]
  },
  {
   "cell_type": "code",
   "execution_count": 30,
   "id": "27bbaee7-7d7b-42e8-a8b1-bcabdbc8036a",
   "metadata": {},
   "outputs": [],
   "source": [
    "df_topredict = pd.DataFrame(data = None, \n",
    "                            columns = df_data.columns.drop('PURCHASE'))\n",
    "for xx in df_topredict.columns:\n",
    "    df_topredict[xx] = df_topredict[xx].astype(df_data[xx].dtypes.name)"
   ]
  },
  {
   "cell_type": "code",
   "execution_count": 31,
   "id": "4cb17864-66e3-4472-a8e7-20fb867d4f01",
   "metadata": {},
   "outputs": [],
   "source": [
    "df_topredict = pd.concat([df_topredict, pd.DataFrame({'CUSTOMER_ID': 1, \n",
    "                                    'AGE': 40, \n",
    "                                    'JOB': 'entrepreneur', \n",
    "                                    'MARITAL': 'married', \n",
    "                                    'EDUCATION': 'secondary',  \n",
    "                                    'DEFAULT': 'no', \n",
    "                                    'BALANCE': 3000,\n",
    "                                    'HOUSING': 'yes',\n",
    "                                    'LOAN': 'no',\n",
    "                                    'CONTACT': 'unknown',\n",
    "                                    'DAY': 10,\n",
    "                                    'MONTH': 'may',\n",
    "                                    'CAMPAIGN': 1,\n",
    "                                    'PDAYS': -1,\n",
    "                                    'PREVIOUS': 0,\n",
    "                                    'POUTCOME': 'unknown'}, index=[0])])\n",
    "df_topredict = pd.concat([df_topredict, pd.DataFrame({'CUSTOMER_ID': 2, \n",
    "                                    'AGE': 65, \n",
    "                                    'JOB': 'management', \n",
    "                                    'MARITAL': 'single', \n",
    "                                    'EDUCATION': 'tertiary',  \n",
    "                                    'DEFAULT': 'no', \n",
    "                                    'BALANCE': 3000,\n",
    "                                    'HOUSING': 'no',\n",
    "                                    'LOAN': 'no',\n",
    "                                    'CONTACT': 'telephone',\n",
    "                                    'DAY': 10,\n",
    "                                    'MONTH': 'mar',\n",
    "                                    'CAMPAIGN': 1,\n",
    "                                    'PDAYS': -1,\n",
    "                                    'PREVIOUS': 12,\n",
    "                                    'POUTCOME': 'success'}, index=[0])])"
   ]
  },
  {
   "cell_type": "code",
   "execution_count": 18,
   "id": "ad9ea214-ecb8-45f6-b71a-7733943f4c1d",
   "metadata": {},
   "outputs": [
    {
     "name": "stderr",
     "output_type": "stream",
     "text": [
      "100%|████████████████████████████████████████████████████████████████████████████████████| 1/1 [00:00<00:00, 12.94it/s]\n"
     ]
    }
   ],
   "source": [
    "df_remote = dataframe.create_dataframe_from_pandas(connection_context = conn, \n",
    "                                                   pandas_df = df_topredict, \n",
    "                                                   table_name = 'BANKMARKETING_TOPREDICT',\n",
    "                                                   force = True,\n",
    "                                                   replace = False)"
   ]
  },
  {
   "cell_type": "code",
   "execution_count": null,
   "id": "3faae116-1f35-48c6-ae30-b47229b6ef19",
   "metadata": {},
   "outputs": [],
   "source": []
  }
 ],
 "metadata": {
  "kernelspec": {
   "display_name": "dsbook",
   "language": "python",
   "name": "dsbook"
  },
  "language_info": {
   "codemirror_mode": {
    "name": "ipython",
    "version": 3
   },
   "file_extension": ".py",
   "mimetype": "text/x-python",
   "name": "python",
   "nbconvert_exporter": "python",
   "pygments_lexer": "ipython3",
   "version": "3.9.18"
  }
 },
 "nbformat": 4,
 "nbformat_minor": 5
}
