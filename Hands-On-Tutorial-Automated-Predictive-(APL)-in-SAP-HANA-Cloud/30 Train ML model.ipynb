{
 "cells": [
  {
   "cell_type": "markdown",
   "id": "73916a5c-05d0-455c-b47b-b6085528c3f5",
   "metadata": {},
   "source": [
    "# Hands-On Tutorial: Automated Predictive (APL) in SAP HANA Cloud\n",
    "## Train Machine Learning Model\n",
    "https://blogs.sap.com/2020/07/27/hands-on-tutorial-automated-predictive-apl-in-sap-hana-cloud/"
   ]
  },
  {
   "cell_type": "code",
   "execution_count": 5,
   "id": "8a5346e2-c942-4719-87c2-bf50381af5e4",
   "metadata": {},
   "outputs": [
    {
     "name": "stdout",
     "output_type": "stream",
     "text": [
      "2.18.23092701\n"
     ]
    }
   ],
   "source": [
    "import hana_ml\n",
    "print(hana_ml.__version__)"
   ]
  },
  {
   "cell_type": "markdown",
   "id": "b5852561-6dbe-4248-8e2d-5928052b4e48",
   "metadata": {},
   "source": [
    "### Connect to SAP HANA Cloud"
   ]
  },
  {
   "cell_type": "code",
   "execution_count": 2,
   "id": "aa628fd2-9b95-4b42-92c9-ab74484413f5",
   "metadata": {},
   "outputs": [
    {
     "data": {
      "text/plain": [
       "True"
      ]
     },
     "execution_count": 2,
     "metadata": {},
     "output_type": "execute_result"
    }
   ],
   "source": [
    "import hana_ml.dataframe as dataframe\n",
    "conn = dataframe.ConnectionContext(userkey = 'MYHC',\n",
    "                                   encrypt = 'true')\n",
    "conn.connection.isconnected()"
   ]
  },
  {
   "cell_type": "markdown",
   "id": "1cdd50a2-c94c-4f38-8bee-302100e3130e",
   "metadata": {},
   "source": [
    "### Training data"
   ]
  },
  {
   "cell_type": "markdown",
   "id": "5f197f11-bcb7-4bd3-a1e6-70a4a0e7e526",
   "metadata": {},
   "source": [
    "Point to the data in SAP HANA Cloud. Add a sort to ensure reproducability"
   ]
  },
  {
   "cell_type": "code",
   "execution_count": 4,
   "id": "17a0d65f-2325-4240-bd13-8e32a57feba5",
   "metadata": {},
   "outputs": [
    {
     "data": {
      "text/html": [
       "<div>\n",
       "<style scoped>\n",
       "    .dataframe tbody tr th:only-of-type {\n",
       "        vertical-align: middle;\n",
       "    }\n",
       "\n",
       "    .dataframe tbody tr th {\n",
       "        vertical-align: top;\n",
       "    }\n",
       "\n",
       "    .dataframe thead th {\n",
       "        text-align: right;\n",
       "    }\n",
       "</style>\n",
       "<table border=\"1\" class=\"dataframe\">\n",
       "  <thead>\n",
       "    <tr style=\"text-align: right;\">\n",
       "      <th></th>\n",
       "      <th>CUSTOMER_ID</th>\n",
       "      <th>AGE</th>\n",
       "      <th>JOB</th>\n",
       "      <th>MARITAL</th>\n",
       "      <th>EDUCATION</th>\n",
       "      <th>DEFAULT</th>\n",
       "      <th>BALANCE</th>\n",
       "      <th>HOUSING</th>\n",
       "      <th>LOAN</th>\n",
       "      <th>CONTACT</th>\n",
       "      <th>DAY</th>\n",
       "      <th>MONTH</th>\n",
       "      <th>CAMPAIGN</th>\n",
       "      <th>PDAYS</th>\n",
       "      <th>PREVIOUS</th>\n",
       "      <th>POUTCOME</th>\n",
       "      <th>PURCHASE</th>\n",
       "    </tr>\n",
       "  </thead>\n",
       "  <tbody>\n",
       "    <tr>\n",
       "      <th>0</th>\n",
       "      <td>0</td>\n",
       "      <td>58</td>\n",
       "      <td>management</td>\n",
       "      <td>married</td>\n",
       "      <td>tertiary</td>\n",
       "      <td>no</td>\n",
       "      <td>2143</td>\n",
       "      <td>yes</td>\n",
       "      <td>no</td>\n",
       "      <td>unknown</td>\n",
       "      <td>5</td>\n",
       "      <td>may</td>\n",
       "      <td>1</td>\n",
       "      <td>-1</td>\n",
       "      <td>0</td>\n",
       "      <td>unknown</td>\n",
       "      <td>no</td>\n",
       "    </tr>\n",
       "    <tr>\n",
       "      <th>1</th>\n",
       "      <td>1</td>\n",
       "      <td>44</td>\n",
       "      <td>technician</td>\n",
       "      <td>single</td>\n",
       "      <td>secondary</td>\n",
       "      <td>no</td>\n",
       "      <td>29</td>\n",
       "      <td>yes</td>\n",
       "      <td>no</td>\n",
       "      <td>unknown</td>\n",
       "      <td>5</td>\n",
       "      <td>may</td>\n",
       "      <td>1</td>\n",
       "      <td>-1</td>\n",
       "      <td>0</td>\n",
       "      <td>unknown</td>\n",
       "      <td>no</td>\n",
       "    </tr>\n",
       "    <tr>\n",
       "      <th>2</th>\n",
       "      <td>2</td>\n",
       "      <td>33</td>\n",
       "      <td>entrepreneur</td>\n",
       "      <td>married</td>\n",
       "      <td>secondary</td>\n",
       "      <td>no</td>\n",
       "      <td>2</td>\n",
       "      <td>yes</td>\n",
       "      <td>yes</td>\n",
       "      <td>unknown</td>\n",
       "      <td>5</td>\n",
       "      <td>may</td>\n",
       "      <td>1</td>\n",
       "      <td>-1</td>\n",
       "      <td>0</td>\n",
       "      <td>unknown</td>\n",
       "      <td>no</td>\n",
       "    </tr>\n",
       "    <tr>\n",
       "      <th>3</th>\n",
       "      <td>3</td>\n",
       "      <td>47</td>\n",
       "      <td>blue-collar</td>\n",
       "      <td>married</td>\n",
       "      <td>unknown</td>\n",
       "      <td>no</td>\n",
       "      <td>1506</td>\n",
       "      <td>yes</td>\n",
       "      <td>no</td>\n",
       "      <td>unknown</td>\n",
       "      <td>5</td>\n",
       "      <td>may</td>\n",
       "      <td>1</td>\n",
       "      <td>-1</td>\n",
       "      <td>0</td>\n",
       "      <td>unknown</td>\n",
       "      <td>no</td>\n",
       "    </tr>\n",
       "    <tr>\n",
       "      <th>4</th>\n",
       "      <td>4</td>\n",
       "      <td>33</td>\n",
       "      <td>unknown</td>\n",
       "      <td>single</td>\n",
       "      <td>unknown</td>\n",
       "      <td>no</td>\n",
       "      <td>1</td>\n",
       "      <td>no</td>\n",
       "      <td>no</td>\n",
       "      <td>unknown</td>\n",
       "      <td>5</td>\n",
       "      <td>may</td>\n",
       "      <td>1</td>\n",
       "      <td>-1</td>\n",
       "      <td>0</td>\n",
       "      <td>unknown</td>\n",
       "      <td>no</td>\n",
       "    </tr>\n",
       "  </tbody>\n",
       "</table>\n",
       "</div>"
      ],
      "text/plain": [
       "   CUSTOMER_ID  AGE           JOB  MARITAL  EDUCATION DEFAULT  BALANCE   \n",
       "0            0   58    management  married   tertiary      no     2143  \\\n",
       "1            1   44    technician   single  secondary      no       29   \n",
       "2            2   33  entrepreneur  married  secondary      no        2   \n",
       "3            3   47   blue-collar  married    unknown      no     1506   \n",
       "4            4   33       unknown   single    unknown      no        1   \n",
       "\n",
       "  HOUSING LOAN  CONTACT  DAY MONTH  CAMPAIGN  PDAYS  PREVIOUS POUTCOME   \n",
       "0     yes   no  unknown    5   may         1     -1         0  unknown  \\\n",
       "1     yes   no  unknown    5   may         1     -1         0  unknown   \n",
       "2     yes  yes  unknown    5   may         1     -1         0  unknown   \n",
       "3     yes   no  unknown    5   may         1     -1         0  unknown   \n",
       "4      no   no  unknown    5   may         1     -1         0  unknown   \n",
       "\n",
       "  PURCHASE  \n",
       "0       no  \n",
       "1       no  \n",
       "2       no  \n",
       "3       no  \n",
       "4       no  "
      ]
     },
     "execution_count": 4,
     "metadata": {},
     "output_type": "execute_result"
    }
   ],
   "source": [
    "df_remote = conn.table(table = 'BANKMARKETING').sort('CUSTOMER_ID', desc = False)\n",
    "df_remote.head(5).collect()"
   ]
  },
  {
   "cell_type": "markdown",
   "id": "e815b7e8-63b2-472a-a212-923891636dac",
   "metadata": {},
   "source": [
    "### Train Machine Learning model"
   ]
  },
  {
   "cell_type": "code",
   "execution_count": 26,
   "id": "3faae116-1f35-48c6-ae30-b47229b6ef19",
   "metadata": {},
   "outputs": [],
   "source": [
    "from hana_ml.algorithms.apl.gradient_boosting_classification import GradientBoostingBinaryClassifier\n",
    "gbapl_model = GradientBoostingBinaryClassifier()"
   ]
  },
  {
   "cell_type": "markdown",
   "id": "747aef97-9a2c-498a-861e-905326858dee",
   "metadata": {},
   "source": [
    "Specify what to predict, and the ID column "
   ]
  },
  {
   "cell_type": "code",
   "execution_count": null,
   "id": "0dad3049-b419-4f07-a813-01cd16d7030f",
   "metadata": {},
   "outputs": [],
   "source": [
    "col_target = 'PURCHASE'\n",
    "target_value = 'yes'\n",
    "col_id = 'CUSTOMER_ID'"
   ]
  },
  {
   "cell_type": "markdown",
   "id": "ea5503bd-6d22-4da0-bb51-5820a028eb3f",
   "metadata": {},
   "source": [
    "Specify the predictors (exclude the target column and the ID)"
   ]
  },
  {
   "cell_type": "code",
   "execution_count": 27,
   "id": "151588da-fd0b-43dc-b8b5-fb2b6b275978",
   "metadata": {},
   "outputs": [
    {
     "data": {
      "text/plain": [
       "['AGE',\n",
       " 'JOB',\n",
       " 'MARITAL',\n",
       " 'EDUCATION',\n",
       " 'DEFAULT',\n",
       " 'BALANCE',\n",
       " 'HOUSING',\n",
       " 'LOAN',\n",
       " 'CONTACT',\n",
       " 'DAY',\n",
       " 'MONTH',\n",
       " 'CAMPAIGN',\n",
       " 'PDAYS',\n",
       " 'PREVIOUS',\n",
       " 'POUTCOME']"
      ]
     },
     "execution_count": 27,
     "metadata": {},
     "output_type": "execute_result"
    }
   ],
   "source": [
    "col_predictors = df_remote.columns\n",
    "col_predictors.remove(col_target)\n",
    "col_predictors.remove(col_id)\n",
    "col_predictors"
   ]
  },
  {
   "cell_type": "markdown",
   "id": "ccd86aa1-c528-4ff5-971b-00440507279f",
   "metadata": {},
   "source": [
    "Further configuration for the model training"
   ]
  },
  {
   "cell_type": "code",
   "execution_count": 10,
   "id": "ea049ae0-8e50-4daa-9302-7585d5495638",
   "metadata": {},
   "outputs": [
    {
     "data": {
      "text/plain": [
       "<hana_ml.algorithms.apl.gradient_boosting_classification.GradientBoostingBinaryClassifier at 0x1c179eb6e20>"
      ]
     },
     "execution_count": 10,
     "metadata": {},
     "output_type": "execute_result"
    }
   ],
   "source": [
    "gbapl_model.set_params(eval_metric = 'AUC') # Metric used to evaluate the model performance\n",
    "gbapl_model.set_params(cutting_strategy = 'random with no test') # Internal splitting strategy\n",
    "gbapl_model.set_params(other_train_apl_aliases={'APL/VariableAutoSelection': 'true', \n",
    "                                                'APL/Interactions': 'true',\n",
    "                                                'APL/InteractionsMaxKept': 10, \n",
    "                                                'APL/TargetKey': target_value})"
   ]
  },
  {
   "cell_type": "markdown",
   "id": "2ef9f3e8-0326-4ac5-9492-fd52f4035829",
   "metadata": {},
   "source": [
    "Train the Machine Learning model in SAP HANA Cloud"
   ]
  },
  {
   "cell_type": "code",
   "execution_count": 28,
   "id": "2f9c58a6-3614-4349-a310-83da314c774b",
   "metadata": {},
   "outputs": [],
   "source": [
    "gbapl_model.fit(data = df_remote, \n",
    "                key = col_id, \n",
    "                features = col_predictors, \n",
    "                label = col_target)"
   ]
  },
  {
   "cell_type": "markdown",
   "id": "a476d587-c8f5-4432-ac66-6fcf92532e80",
   "metadata": {},
   "source": [
    "### Explore trained Machine Learning model"
   ]
  },
  {
   "cell_type": "markdown",
   "id": "3764032e-817a-4b95-9b99-eb1009b98ac5",
   "metadata": {},
   "source": [
    "Model quality"
   ]
  },
  {
   "cell_type": "code",
   "execution_count": 29,
   "id": "cca03299-04da-4ee2-918a-9b5678d75ef6",
   "metadata": {},
   "outputs": [
    {
     "data": {
      "text/html": [
       "<style type=\"text/css\">\n",
       "</style>\n",
       "<table id=\"T_96b40\">\n",
       "  <thead>\n",
       "    <tr>\n",
       "      <th id=\"T_96b40_level0_col0\" class=\"col_heading level0 col0\" >METRIC</th>\n",
       "      <th id=\"T_96b40_level0_col1\" class=\"col_heading level0 col1\" >VALUE</th>\n",
       "    </tr>\n",
       "  </thead>\n",
       "  <tbody>\n",
       "    <tr>\n",
       "      <td id=\"T_96b40_row0_col0\" class=\"data row0 col0\" >AUC</td>\n",
       "      <td id=\"T_96b40_row0_col1\" class=\"data row0 col1\" >0.791900</td>\n",
       "    </tr>\n",
       "    <tr>\n",
       "      <td id=\"T_96b40_row1_col0\" class=\"data row1 col0\" >BestIteration</td>\n",
       "      <td id=\"T_96b40_row1_col1\" class=\"data row1 col1\" >124</td>\n",
       "    </tr>\n",
       "  </tbody>\n",
       "</table>\n"
      ],
      "text/plain": [
       "<pandas.io.formats.style.Styler at 0x1c179e0dd60>"
      ]
     },
     "execution_count": 29,
     "metadata": {},
     "output_type": "execute_result"
    }
   ],
   "source": [
    "import pandas as pd\n",
    "list_performance = gbapl_model.get_performance_metrics()\n",
    "df_performance = pd.DataFrame(list(list_performance.items()), columns=['METRIC', 'VALUE'])\n",
    "df_performance.loc[df_performance['METRIC'].isin(['AUC', 'BestIteration'])].style.hide(axis='index')"
   ]
  },
  {
   "cell_type": "markdown",
   "id": "bea22c4f-5045-4941-ad82-cdc9e6c5a86c",
   "metadata": {},
   "source": [
    "Model details"
   ]
  },
  {
   "cell_type": "code",
   "execution_count": 30,
   "id": "b681e498-f8f3-4850-8943-4f95e182f4f3",
   "metadata": {},
   "outputs": [
    {
     "data": {
      "text/html": [
       "<style type=\"text/css\">\n",
       "</style>\n",
       "<table id=\"T_7b22a\">\n",
       "  <thead>\n",
       "    <tr>\n",
       "      <th id=\"T_7b22a_level0_col0\" class=\"col_heading level0 col0\" >KEY</th>\n",
       "      <th id=\"T_7b22a_level0_col1\" class=\"col_heading level0 col1\" >VALUE</th>\n",
       "    </tr>\n",
       "  </thead>\n",
       "  <tbody>\n",
       "    <tr>\n",
       "      <td id=\"T_7b22a_row0_col0\" class=\"data row0 col0\" >Variable Count</td>\n",
       "      <td id=\"T_7b22a_row0_col1\" class=\"data row0 col1\" >17</td>\n",
       "    </tr>\n",
       "    <tr>\n",
       "      <td id=\"T_7b22a_row1_col0\" class=\"data row1 col0\" >Selected Variable Count</td>\n",
       "      <td id=\"T_7b22a_row1_col1\" class=\"data row1 col1\" >15</td>\n",
       "    </tr>\n",
       "    <tr>\n",
       "      <td id=\"T_7b22a_row2_col0\" class=\"data row2 col0\" >Record Count</td>\n",
       "      <td id=\"T_7b22a_row2_col1\" class=\"data row2 col1\" >45211</td>\n",
       "    </tr>\n",
       "    <tr>\n",
       "      <td id=\"T_7b22a_row3_col0\" class=\"data row3 col0\" >Build Date</td>\n",
       "      <td id=\"T_7b22a_row3_col1\" class=\"data row3 col1\" >2023-10-11 10:09:53</td>\n",
       "    </tr>\n",
       "  </tbody>\n",
       "</table>\n"
      ],
      "text/plain": [
       "<pandas.io.formats.style.Styler at 0x1c17d901af0>"
      ]
     },
     "execution_count": 30,
     "metadata": {},
     "output_type": "execute_result"
    }
   ],
   "source": [
    "df_summary = gbapl_model.get_summary().filter(\"KEY in ('ModelVariableCount', 'ModelSelectedVariableCount', 'ModelRecordCount', 'ModelBuildDate')\").collect()\n",
    "df_summary = df_summary[['KEY','VALUE']]\n",
    "df_summary['KEY'] = df_summary['KEY'].str.replace('Model', '').str.replace('Selected', 'Selected ')\n",
    "df_summary['KEY'] = df_summary['KEY'].str.replace('Count', ' Count').str.replace('Date', ' Date')\n",
    "df_summary.style.hide(axis='index')"
   ]
  },
  {
   "cell_type": "markdown",
   "id": "e40fcf49-25f6-4a71-84df-f1288f4dd446",
   "metadata": {},
   "source": [
    "Excluded variables"
   ]
  },
  {
   "cell_type": "code",
   "execution_count": 14,
   "id": "ef315259-7267-47fb-8f02-d4b7882a0425",
   "metadata": {},
   "outputs": [
    {
     "data": {
      "text/html": [
       "<style type=\"text/css\">\n",
       "</style>\n",
       "<table id=\"T_b2390\">\n",
       "  <thead>\n",
       "    <tr>\n",
       "      <th id=\"T_b2390_level0_col0\" class=\"col_heading level0 col0\" >Excluded Variable</th>\n",
       "      <th id=\"T_b2390_level0_col1\" class=\"col_heading level0 col1\" >Reason</th>\n",
       "    </tr>\n",
       "  </thead>\n",
       "  <tbody>\n",
       "    <tr>\n",
       "      <td id=\"T_b2390_row0_col0\" class=\"data row0 col0\" >DEFAULT</td>\n",
       "      <td id=\"T_b2390_row0_col1\" class=\"data row0 col1\" >Low contributory</td>\n",
       "    </tr>\n",
       "    <tr>\n",
       "      <td id=\"T_b2390_row1_col0\" class=\"data row1 col0\" >JOB</td>\n",
       "      <td id=\"T_b2390_row1_col1\" class=\"data row1 col1\" >Low contributory</td>\n",
       "    </tr>\n",
       "    <tr>\n",
       "      <td id=\"T_b2390_row2_col0\" class=\"data row2 col0\" >PDAYS</td>\n",
       "      <td id=\"T_b2390_row2_col1\" class=\"data row2 col1\" >Low contributory</td>\n",
       "    </tr>\n",
       "  </tbody>\n",
       "</table>\n"
      ],
      "text/plain": [
       "<pandas.io.formats.style.Styler at 0x1c17ad5f3d0>"
      ]
     },
     "execution_count": 14,
     "metadata": {},
     "output_type": "execute_result"
    }
   ],
   "source": [
    "df_excluded = gbapl_model.get_indicators().filter(\"KEY like 'VariableExclusion%'\").collect()\n",
    "df_excluded = df_excluded[['VARIABLE','VALUE']]\n",
    "df_excluded.columns = ['Excluded Variable', 'Reason']\n",
    "df_excluded.style.hide(axis='index')"
   ]
  },
  {
   "cell_type": "markdown",
   "id": "2203ea42-6c1c-4543-b003-6709dcca475a",
   "metadata": {},
   "source": [
    "Variables selected by the model"
   ]
  },
  {
   "cell_type": "code",
   "execution_count": 31,
   "id": "34d1f14a-52dd-4542-b68e-197862eb23df",
   "metadata": {},
   "outputs": [
    {
     "data": {
      "text/html": [
       "<style type=\"text/css\">\n",
       "</style>\n",
       "<table id=\"T_faeb6\">\n",
       "  <thead>\n",
       "    <tr>\n",
       "      <th id=\"T_faeb6_level0_col0\" class=\"col_heading level0 col0\" >VARIABLE</th>\n",
       "      <th id=\"T_faeb6_level0_col1\" class=\"col_heading level0 col1\" >CONTRIBUTION</th>\n",
       "      <th id=\"T_faeb6_level0_col2\" class=\"col_heading level0 col2\" >CUMULATIVE</th>\n",
       "    </tr>\n",
       "  </thead>\n",
       "  <tbody>\n",
       "    <tr>\n",
       "      <td id=\"T_faeb6_row0_col0\" class=\"data row0 col0\" >CONTACT</td>\n",
       "      <td id=\"T_faeb6_row0_col1\" class=\"data row0 col1\" >20.84%</td>\n",
       "      <td id=\"T_faeb6_row0_col2\" class=\"data row0 col2\" >20.84%</td>\n",
       "    </tr>\n",
       "    <tr>\n",
       "      <td id=\"T_faeb6_row1_col0\" class=\"data row1 col0\" >MONTH</td>\n",
       "      <td id=\"T_faeb6_row1_col1\" class=\"data row1 col1\" >12.40%</td>\n",
       "      <td id=\"T_faeb6_row1_col2\" class=\"data row1 col2\" >33.24%</td>\n",
       "    </tr>\n",
       "    <tr>\n",
       "      <td id=\"T_faeb6_row2_col0\" class=\"data row2 col0\" >PREVIOUS</td>\n",
       "      <td id=\"T_faeb6_row2_col1\" class=\"data row2 col1\" >11.31%</td>\n",
       "      <td id=\"T_faeb6_row2_col2\" class=\"data row2 col2\" >44.55%</td>\n",
       "    </tr>\n",
       "    <tr>\n",
       "      <td id=\"T_faeb6_row3_col0\" class=\"data row3 col0\" >HOUSING</td>\n",
       "      <td id=\"T_faeb6_row3_col1\" class=\"data row3 col1\" >8.43%</td>\n",
       "      <td id=\"T_faeb6_row3_col2\" class=\"data row3 col2\" >52.98%</td>\n",
       "    </tr>\n",
       "    <tr>\n",
       "      <td id=\"T_faeb6_row4_col0\" class=\"data row4 col0\" >BALANCE</td>\n",
       "      <td id=\"T_faeb6_row4_col1\" class=\"data row4 col1\" >7.35%</td>\n",
       "      <td id=\"T_faeb6_row4_col2\" class=\"data row4 col2\" >60.33%</td>\n",
       "    </tr>\n",
       "    <tr>\n",
       "      <td id=\"T_faeb6_row5_col0\" class=\"data row5 col0\" >DAY</td>\n",
       "      <td id=\"T_faeb6_row5_col1\" class=\"data row5 col1\" >7.20%</td>\n",
       "      <td id=\"T_faeb6_row5_col2\" class=\"data row5 col2\" >67.53%</td>\n",
       "    </tr>\n",
       "    <tr>\n",
       "      <td id=\"T_faeb6_row6_col0\" class=\"data row6 col0\" >POUTCOME</td>\n",
       "      <td id=\"T_faeb6_row6_col1\" class=\"data row6 col1\" >6.26%</td>\n",
       "      <td id=\"T_faeb6_row6_col2\" class=\"data row6 col2\" >73.79%</td>\n",
       "    </tr>\n",
       "    <tr>\n",
       "      <td id=\"T_faeb6_row7_col0\" class=\"data row7 col0\" >MARITAL</td>\n",
       "      <td id=\"T_faeb6_row7_col1\" class=\"data row7 col1\" >5.86%</td>\n",
       "      <td id=\"T_faeb6_row7_col2\" class=\"data row7 col2\" >79.65%</td>\n",
       "    </tr>\n",
       "    <tr>\n",
       "      <td id=\"T_faeb6_row8_col0\" class=\"data row8 col0\" >AGE</td>\n",
       "      <td id=\"T_faeb6_row8_col1\" class=\"data row8 col1\" >5.74%</td>\n",
       "      <td id=\"T_faeb6_row8_col2\" class=\"data row8 col2\" >85.39%</td>\n",
       "    </tr>\n",
       "    <tr>\n",
       "      <td id=\"T_faeb6_row9_col0\" class=\"data row9 col0\" >CAMPAIGN</td>\n",
       "      <td id=\"T_faeb6_row9_col1\" class=\"data row9 col1\" >5.58%</td>\n",
       "      <td id=\"T_faeb6_row9_col2\" class=\"data row9 col2\" >90.97%</td>\n",
       "    </tr>\n",
       "    <tr>\n",
       "      <td id=\"T_faeb6_row10_col0\" class=\"data row10 col0\" >LOAN</td>\n",
       "      <td id=\"T_faeb6_row10_col1\" class=\"data row10 col1\" >3.38%</td>\n",
       "      <td id=\"T_faeb6_row10_col2\" class=\"data row10 col2\" >94.35%</td>\n",
       "    </tr>\n",
       "    <tr>\n",
       "      <td id=\"T_faeb6_row11_col0\" class=\"data row11 col0\" >EDUCATION</td>\n",
       "      <td id=\"T_faeb6_row11_col1\" class=\"data row11 col1\" >2.83%</td>\n",
       "      <td id=\"T_faeb6_row11_col2\" class=\"data row11 col2\" >97.18%</td>\n",
       "    </tr>\n",
       "    <tr>\n",
       "      <td id=\"T_faeb6_row12_col0\" class=\"data row12 col0\" >PDAYS</td>\n",
       "      <td id=\"T_faeb6_row12_col1\" class=\"data row12 col1\" >1.68%</td>\n",
       "      <td id=\"T_faeb6_row12_col2\" class=\"data row12 col2\" >98.86%</td>\n",
       "    </tr>\n",
       "    <tr>\n",
       "      <td id=\"T_faeb6_row13_col0\" class=\"data row13 col0\" >JOB</td>\n",
       "      <td id=\"T_faeb6_row13_col1\" class=\"data row13 col1\" >1.04%</td>\n",
       "      <td id=\"T_faeb6_row13_col2\" class=\"data row13 col2\" >99.90%</td>\n",
       "    </tr>\n",
       "    <tr>\n",
       "      <td id=\"T_faeb6_row14_col0\" class=\"data row14 col0\" >DEFAULT</td>\n",
       "      <td id=\"T_faeb6_row14_col1\" class=\"data row14 col1\" >0.10%</td>\n",
       "      <td id=\"T_faeb6_row14_col2\" class=\"data row14 col2\" >100.00%</td>\n",
       "    </tr>\n",
       "  </tbody>\n",
       "</table>\n"
      ],
      "text/plain": [
       "<pandas.io.formats.style.Styler at 0x1c17d9dd6a0>"
      ]
     },
     "execution_count": 31,
     "metadata": {},
     "output_type": "execute_result"
    }
   ],
   "source": [
    "list_contributions = gbapl_model.get_feature_importances()['ExactSHAP']\n",
    "df_contribution = pd.DataFrame(list(list_contributions.items()), columns=['VARIABLE', 'CONTRIBUTION'])\n",
    "df_contribution['CUMULATIVE'] = df_contribution['CONTRIBUTION'].cumsum()\n",
    "format_dict = {'CONTRIBUTION':'{0:,.2%}','CUMULATIVE':'{0:,.2%}'}\n",
    "df_contribution.style.format(format_dict).hide(axis='index')"
   ]
  },
  {
   "cell_type": "code",
   "execution_count": 32,
   "id": "fa81910c-bc4b-4883-8d1b-40e2c5d3e44b",
   "metadata": {},
   "outputs": [
    {
     "data": {
      "image/png": "[encoded data removed]",
      "text/plain": [
       "<Figure size 640x480 with 2 Axes>"
      ]
     },
     "metadata": {},
     "output_type": "display_data"
    }
   ],
   "source": [
    "import matplotlib.pyplot as plt\n",
    "import seaborn as sns\n",
    "from  matplotlib.ticker import PercentFormatter\n",
    "f = plt.figure()\n",
    "ax1 = f.add_subplot(111) # 111 refers to 1x1 grid, 1st subplot\n",
    "ax2 = ax1.twinx()\n",
    "sns.barplot(data = df_contribution, \n",
    "             x = 'VARIABLE', \n",
    "             y = 'CONTRIBUTION',\n",
    "             color = '#1f77b4',\n",
    "             ax=ax1)\n",
    "sns.lineplot(data = df_contribution, sort=False,\n",
    "             x = 'VARIABLE', \n",
    "             y = 'CUMULATIVE',\n",
    "             color = 'red',\n",
    "             ax=ax2)\n",
    "ax1.set_xticklabels(ax1.get_xticklabels(),rotation=30)\n",
    "ax1.yaxis.set_major_formatter(PercentFormatter(1))\n",
    "ax2.yaxis.set_major_formatter(PercentFormatter(1))\n",
    "ax2.set_ylim(0, 1)\n",
    "plt.show();"
   ]
  },
  {
   "cell_type": "markdown",
   "id": "7e8127e0-b3df-42e6-abcb-2c3d8d4aaa8e",
   "metadata": {},
   "source": [
    "Impact by individual variable"
   ]
  },
  {
   "cell_type": "code",
   "execution_count": 33,
   "id": "9e2628a3-2090-43f8-b06b-ccd612c45917",
   "metadata": {},
   "outputs": [
    {
     "data": {
      "text/html": [
       "<style type=\"text/css\">\n",
       "</style>\n",
       "<table id=\"T_e17b5\">\n",
       "  <thead>\n",
       "    <tr>\n",
       "      <th id=\"T_e17b5_level0_col0\" class=\"col_heading level0 col0\" >Predictor</th>\n",
       "      <th id=\"T_e17b5_level0_col1\" class=\"col_heading level0 col1\" >Target</th>\n",
       "      <th id=\"T_e17b5_level0_col2\" class=\"col_heading level0 col2\" >Category</th>\n",
       "      <th id=\"T_e17b5_level0_col3\" class=\"col_heading level0 col3\" >Profit</th>\n",
       "    </tr>\n",
       "  </thead>\n",
       "  <tbody>\n",
       "    <tr>\n",
       "      <td id=\"T_e17b5_row0_col0\" class=\"data row0 col0\" >MONTH</td>\n",
       "      <td id=\"T_e17b5_row0_col1\" class=\"data row0 col1\" >PURCHASE</td>\n",
       "      <td id=\"T_e17b5_row0_col2\" class=\"data row0 col2\" >{dec;mar;oct;sep}</td>\n",
       "      <td id=\"T_e17b5_row0_col3\" class=\"data row0 col3\" >36.65%</td>\n",
       "    </tr>\n",
       "    <tr>\n",
       "      <td id=\"T_e17b5_row1_col0\" class=\"data row1 col0\" >MONTH</td>\n",
       "      <td id=\"T_e17b5_row1_col1\" class=\"data row1 col1\" >PURCHASE</td>\n",
       "      <td id=\"T_e17b5_row1_col2\" class=\"data row1 col2\" >{apr}</td>\n",
       "      <td id=\"T_e17b5_row1_col3\" class=\"data row1 col3\" >8.23%</td>\n",
       "    </tr>\n",
       "    <tr>\n",
       "      <td id=\"T_e17b5_row2_col0\" class=\"data row2 col0\" >MONTH</td>\n",
       "      <td id=\"T_e17b5_row2_col1\" class=\"data row2 col1\" >PURCHASE</td>\n",
       "      <td id=\"T_e17b5_row2_col2\" class=\"data row2 col2\" >{feb}</td>\n",
       "      <td id=\"T_e17b5_row2_col3\" class=\"data row2 col3\" >5.63%</td>\n",
       "    </tr>\n",
       "    <tr>\n",
       "      <td id=\"T_e17b5_row3_col0\" class=\"data row3 col0\" >MONTH</td>\n",
       "      <td id=\"T_e17b5_row3_col1\" class=\"data row3 col1\" >PURCHASE</td>\n",
       "      <td id=\"T_e17b5_row3_col2\" class=\"data row3 col2\" >{aug;nov}</td>\n",
       "      <td id=\"T_e17b5_row3_col3\" class=\"data row3 col3\" >-1.21%</td>\n",
       "    </tr>\n",
       "    <tr>\n",
       "      <td id=\"T_e17b5_row4_col0\" class=\"data row4 col0\" >MONTH</td>\n",
       "      <td id=\"T_e17b5_row4_col1\" class=\"data row4 col1\" >PURCHASE</td>\n",
       "      <td id=\"T_e17b5_row4_col2\" class=\"data row4 col2\" >{jan;jul;jun}</td>\n",
       "      <td id=\"T_e17b5_row4_col3\" class=\"data row4 col3\" >-2.00%</td>\n",
       "    </tr>\n",
       "    <tr>\n",
       "      <td id=\"T_e17b5_row5_col0\" class=\"data row5 col0\" >MONTH</td>\n",
       "      <td id=\"T_e17b5_row5_col1\" class=\"data row5 col1\" >PURCHASE</td>\n",
       "      <td id=\"T_e17b5_row5_col2\" class=\"data row5 col2\" >{may}</td>\n",
       "      <td id=\"T_e17b5_row5_col3\" class=\"data row5 col3\" >-4.98%</td>\n",
       "    </tr>\n",
       "  </tbody>\n",
       "</table>\n"
      ],
      "text/plain": [
       "<pandas.io.formats.style.Styler at 0x1c17dc7f670>"
      ]
     },
     "execution_count": 33,
     "metadata": {},
     "output_type": "execute_result"
    }
   ],
   "source": [
    "variable_name = 'MONTH'\n",
    "df_category_profit = gbapl_model.get_indicators().filter(\"KEY = 'GroupNormalProfit' and VARIABLE = '\" + variable_name + \"'\").collect()\n",
    "df_category_profit = df_category_profit[['VARIABLE', 'TARGET', 'DETAIL', 'VALUE']]\n",
    "df_category_profit['VALUE'] = df_category_profit['VALUE'].astype(float)\n",
    "df_category_profit.columns = ['Predictor', 'Target','Category','Profit']\n",
    "df_category_profit = df_category_profit.sort_values(by = ['Profit'], ascending = False)\n",
    "df_category_profit.style.format({'Profit':'{0:,.2%}'}).hide(axis='index')"
   ]
  },
  {
   "cell_type": "code",
   "execution_count": 34,
   "id": "d3ff9c10-4f51-4d27-8399-d4ca6054a7c7",
   "metadata": {},
   "outputs": [
    {
     "data": {
      "image/png": "[encoded data removed]",
      "text/plain": [
       "<Figure size 640x480 with 1 Axes>"
      ]
     },
     "metadata": {},
     "output_type": "display_data"
    }
   ],
   "source": [
    "import seaborn as sns\n",
    "import matplotlib.pyplot as plt\n",
    "from matplotlib.ticker import PercentFormatter\n",
    "plt.figure()\n",
    "bplot = sns.barplot(data = df_category_profit, x = 'Category', y = 'Profit', color = '#1f77b4')\n",
    "bplot.set_title(variable_name)\n",
    "bplot.set_xticklabels(bplot.get_xticklabels(), rotation = 45);\n",
    "bplot.yaxis.set_major_formatter(PercentFormatter(1))"
   ]
  },
  {
   "cell_type": "markdown",
   "id": "346729f3-7cdc-4e8a-8396-68de53b411a3",
   "metadata": {},
   "source": [
    "Correlations"
   ]
  },
  {
   "cell_type": "code",
   "execution_count": 35,
   "id": "58271ab9-7aab-40ee-941c-537f0cb81dc1",
   "metadata": {},
   "outputs": [
    {
     "data": {
      "text/html": [
       "<style type=\"text/css\">\n",
       "</style>\n",
       "<table id=\"T_a4c72\">\n",
       "  <thead>\n",
       "    <tr>\n",
       "      <th id=\"T_a4c72_level0_col0\" class=\"col_heading level0 col0\" >1st Variable</th>\n",
       "      <th id=\"T_a4c72_level0_col1\" class=\"col_heading level0 col1\" >2nd Variable</th>\n",
       "      <th id=\"T_a4c72_level0_col2\" class=\"col_heading level0 col2\" >Coefficient</th>\n",
       "    </tr>\n",
       "  </thead>\n",
       "  <tbody>\n",
       "    <tr>\n",
       "      <td id=\"T_a4c72_row0_col0\" class=\"data row0 col0\" >PDAYS</td>\n",
       "      <td id=\"T_a4c72_row0_col1\" class=\"data row0 col1\" >PREVIOUS</td>\n",
       "      <td id=\"T_a4c72_row0_col2\" class=\"data row0 col2\" >0.740000</td>\n",
       "    </tr>\n",
       "    <tr>\n",
       "      <td id=\"T_a4c72_row1_col0\" class=\"data row1 col0\" >PDAYS</td>\n",
       "      <td id=\"T_a4c72_row1_col1\" class=\"data row1 col1\" >POUTCOME</td>\n",
       "      <td id=\"T_a4c72_row1_col2\" class=\"data row1 col2\" >0.570000</td>\n",
       "    </tr>\n",
       "    <tr>\n",
       "      <td id=\"T_a4c72_row2_col0\" class=\"data row2 col0\" >PREVIOUS</td>\n",
       "      <td id=\"T_a4c72_row2_col1\" class=\"data row2 col1\" >POUTCOME</td>\n",
       "      <td id=\"T_a4c72_row2_col2\" class=\"data row2 col2\" >0.520000</td>\n",
       "    </tr>\n",
       "  </tbody>\n",
       "</table>\n"
      ],
      "text/plain": [
       "<pandas.io.formats.style.Styler at 0x1c17db98b50>"
      ]
     },
     "execution_count": 35,
     "metadata": {},
     "output_type": "execute_result"
    }
   ],
   "source": [
    "df_correlations = gbapl_model.get_indicators().filter(\"KEY = 'CorrelatedVariable'\").collect()\n",
    "df_correlations = df_correlations[['VARIABLE', 'DETAIL', 'VALUE']]\n",
    "df_correlations['VALUE'] = df_correlations['VALUE'].astype(float).round(3)\n",
    "df_correlations.columns = ['1st Variable', '2nd Variable', 'Coefficient']\n",
    "df_correlations = df_correlations.sort_values(by = ['Coefficient'], ascending = False)\n",
    "df_correlations.style.hide(axis='index')"
   ]
  },
  {
   "cell_type": "markdown",
   "id": "fe01a559-e751-46e1-96cb-186aca1d61f8",
   "metadata": {},
   "source": [
    "Interactions"
   ]
  },
  {
   "cell_type": "code",
   "execution_count": 22,
   "id": "3e8b14da-e1cb-4b10-a6a2-71a7a3122331",
   "metadata": {},
   "outputs": [
    {
     "data": {
      "text/html": [
       "<style type=\"text/css\">\n",
       "</style>\n",
       "<table id=\"T_313da\">\n",
       "  <thead>\n",
       "    <tr>\n",
       "      <th id=\"T_313da_level0_col0\" class=\"col_heading level0 col0\" >1st Variable</th>\n",
       "      <th id=\"T_313da_level0_col1\" class=\"col_heading level0 col1\" >2nd Variable</th>\n",
       "      <th id=\"T_313da_level0_col2\" class=\"col_heading level0 col2\" >Interaction</th>\n",
       "    </tr>\n",
       "  </thead>\n",
       "  <tbody>\n",
       "    <tr>\n",
       "      <td id=\"T_313da_row0_col0\" class=\"data row0 col0\" >POUTCOME</td>\n",
       "      <td id=\"T_313da_row0_col1\" class=\"data row0 col1\" >PREVIOUS</td>\n",
       "      <td id=\"T_313da_row0_col2\" class=\"data row0 col2\" >0.095</td>\n",
       "    </tr>\n",
       "    <tr>\n",
       "      <td id=\"T_313da_row1_col0\" class=\"data row1 col0\" >PREVIOUS</td>\n",
       "      <td id=\"T_313da_row1_col1\" class=\"data row1 col1\" >POUTCOME</td>\n",
       "      <td id=\"T_313da_row1_col2\" class=\"data row1 col2\" >0.095</td>\n",
       "    </tr>\n",
       "    <tr>\n",
       "      <td id=\"T_313da_row2_col0\" class=\"data row2 col0\" >DAY</td>\n",
       "      <td id=\"T_313da_row2_col1\" class=\"data row2 col1\" >MONTH</td>\n",
       "      <td id=\"T_313da_row2_col2\" class=\"data row2 col2\" >0.095</td>\n",
       "    </tr>\n",
       "    <tr>\n",
       "      <td id=\"T_313da_row3_col0\" class=\"data row3 col0\" >MONTH</td>\n",
       "      <td id=\"T_313da_row3_col1\" class=\"data row3 col1\" >DAY</td>\n",
       "      <td id=\"T_313da_row3_col2\" class=\"data row3 col2\" >0.095</td>\n",
       "    </tr>\n",
       "    <tr>\n",
       "      <td id=\"T_313da_row4_col0\" class=\"data row4 col0\" >CONTACT</td>\n",
       "      <td id=\"T_313da_row4_col1\" class=\"data row4 col1\" >MONTH</td>\n",
       "      <td id=\"T_313da_row4_col2\" class=\"data row4 col2\" >0.080</td>\n",
       "    </tr>\n",
       "    <tr>\n",
       "      <td id=\"T_313da_row5_col0\" class=\"data row5 col0\" >MONTH</td>\n",
       "      <td id=\"T_313da_row5_col1\" class=\"data row5 col1\" >CONTACT</td>\n",
       "      <td id=\"T_313da_row5_col2\" class=\"data row5 col2\" >0.080</td>\n",
       "    </tr>\n",
       "    <tr>\n",
       "      <td id=\"T_313da_row6_col0\" class=\"data row6 col0\" >CONTACT</td>\n",
       "      <td id=\"T_313da_row6_col1\" class=\"data row6 col1\" >HOUSING</td>\n",
       "      <td id=\"T_313da_row6_col2\" class=\"data row6 col2\" >0.035</td>\n",
       "    </tr>\n",
       "    <tr>\n",
       "      <td id=\"T_313da_row7_col0\" class=\"data row7 col0\" >HOUSING</td>\n",
       "      <td id=\"T_313da_row7_col1\" class=\"data row7 col1\" >CONTACT</td>\n",
       "      <td id=\"T_313da_row7_col2\" class=\"data row7 col2\" >0.035</td>\n",
       "    </tr>\n",
       "    <tr>\n",
       "      <td id=\"T_313da_row8_col0\" class=\"data row8 col0\" >POUTCOME</td>\n",
       "      <td id=\"T_313da_row8_col1\" class=\"data row8 col1\" >MONTH</td>\n",
       "      <td id=\"T_313da_row8_col2\" class=\"data row8 col2\" >0.027</td>\n",
       "    </tr>\n",
       "    <tr>\n",
       "      <td id=\"T_313da_row9_col0\" class=\"data row9 col0\" >MONTH</td>\n",
       "      <td id=\"T_313da_row9_col1\" class=\"data row9 col1\" >POUTCOME</td>\n",
       "      <td id=\"T_313da_row9_col2\" class=\"data row9 col2\" >0.027</td>\n",
       "    </tr>\n",
       "  </tbody>\n",
       "</table>\n"
      ],
      "text/plain": [
       "<pandas.io.formats.style.Styler at 0x1c17d00a4c0>"
      ]
     },
     "execution_count": 22,
     "metadata": {},
     "output_type": "execute_result"
    }
   ],
   "source": [
    "df_interactions = gbapl_model.get_indicators().filter(\"KEY = 'InteractionValue' and to_char(VALUE) <> '0'\").collect()\n",
    "df_interactions = df_interactions[['VARIABLE', 'DETAIL', 'VALUE']]\n",
    "df_interactions['VALUE'] = df_interactions['VALUE'].astype(float).round(3)\n",
    "df_interactions.columns = ['1st Variable', '2nd Variable', 'Interaction']\n",
    "df_interactions = df_interactions.sort_values(by = ['Interaction'], ascending = False)\n",
    "df_interactions.head(10).style.format({'Interaction':'{0:,.3f}'}).hide(axis='index')"
   ]
  },
  {
   "cell_type": "markdown",
   "id": "fb3b5858-e871-4deb-8b1f-bc3e98194a0d",
   "metadata": {},
   "source": [
    "Logic of the predicted behaviour / probability"
   ]
  },
  {
   "cell_type": "code",
   "execution_count": 37,
   "id": "8465a070-ab16-4c32-9ee4-5ab6ed58b0c6",
   "metadata": {},
   "outputs": [
    {
     "data": {
      "text/html": [
       "<style type=\"text/css\">\n",
       "</style>\n",
       "<table id=\"T_1d473\">\n",
       "  <thead>\n",
       "    <tr>\n",
       "      <th id=\"T_1d473_level0_col0\" class=\"col_heading level0 col0\" >Target</th>\n",
       "      <th id=\"T_1d473_level0_col1\" class=\"col_heading level0 col1\" >Score Treshold</th>\n",
       "    </tr>\n",
       "  </thead>\n",
       "  <tbody>\n",
       "    <tr>\n",
       "      <td id=\"T_1d473_row0_col0\" class=\"data row0 col0\" >PURCHASE</td>\n",
       "      <td id=\"T_1d473_row0_col1\" class=\"data row0 col1\" >-1.226383</td>\n",
       "    </tr>\n",
       "  </tbody>\n",
       "</table>\n"
      ],
      "text/plain": [
       "<pandas.io.formats.style.Styler at 0x1c17dc93d30>"
      ]
     },
     "execution_count": 37,
     "metadata": {},
     "output_type": "execute_result"
    }
   ],
   "source": [
    "df_threshold = gbapl_model.get_indicators().filter(\"KEY = 'Threshold'\").collect()\n",
    "df_threshold = df_threshold[['VARIABLE', 'VALUE']]\n",
    "df_threshold['VALUE'] = df_threshold['VALUE'].astype(float)\n",
    "df_threshold.columns = ['Target', 'Score Treshold']\n",
    "df_threshold.style.hide(axis='index')"
   ]
  },
  {
   "cell_type": "code",
   "execution_count": 24,
   "id": "005e0c68-556f-4383-8e9a-3d575d3bfd69",
   "metadata": {},
   "outputs": [
    {
     "data": {
      "text/plain": [
       "0.2316465597885017"
      ]
     },
     "execution_count": 24,
     "metadata": {},
     "output_type": "execute_result"
    }
   ],
   "source": [
    "import math\n",
    "score = df_threshold.iloc[0, 1]\n",
    "1 / (1 + math.exp(-score))"
   ]
  },
  {
   "cell_type": "markdown",
   "id": "479f2a37-6aa9-4add-a7b6-1711b066a741",
   "metadata": {},
   "source": [
    "### Save the model"
   ]
  },
  {
   "cell_type": "code",
   "execution_count": 25,
   "id": "40e69870-d988-4f9b-ad82-316e215c0319",
   "metadata": {},
   "outputs": [],
   "source": [
    "from hana_ml.model_storage import ModelStorage\n",
    "model_storage = ModelStorage(connection_context=conn)\n",
    "gbapl_model.name = 'Bank Marketing Model'\n",
    "model_storage.save_model(model=gbapl_model, if_exists = 'replace')"
   ]
  },
  {
   "cell_type": "code",
   "execution_count": null,
   "id": "8fb5c9ec-d5d5-4030-9203-a76fc4a27faa",
   "metadata": {},
   "outputs": [],
   "source": []
  }
 ],
 "metadata": {
  "kernelspec": {
   "display_name": "dsbook",
   "language": "python",
   "name": "dsbook"
  },
  "language_info": {
   "codemirror_mode": {
    "name": "ipython",
    "version": 3
   },
   "file_extension": ".py",
   "mimetype": "text/x-python",
   "name": "python",
   "nbconvert_exporter": "python",
   "pygments_lexer": "ipython3",
   "version": "3.9.18"
  }
 },
 "nbformat": 4,
 "nbformat_minor": 5
}
