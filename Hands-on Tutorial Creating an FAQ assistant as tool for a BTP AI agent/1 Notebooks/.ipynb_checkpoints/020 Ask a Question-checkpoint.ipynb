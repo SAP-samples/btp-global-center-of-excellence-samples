{
 "cells": [
  {
   "cell_type": "code",
   "execution_count": 1,
   "id": "670bb9a1-9546-459b-aa21-f773da6d7360",
   "metadata": {},
   "outputs": [],
   "source": [
    "#!pip install \"generative-ai-hub-sdk[all]\""
   ]
  },
  {
   "cell_type": "markdown",
   "id": "015ea099-748a-4242-af5a-738a8161ac03",
   "metadata": {},
   "source": [
    "# FAQ Assistant with all processing on SAP BTP\n",
    "## Step 2: Simulate the end user and ask a question"
   ]
  },
  {
   "cell_type": "markdown",
   "id": "389bf4c5-e352-413c-b25e-4c45201de616",
   "metadata": {},
   "source": [
    "### Get credentials for SAP HANA Cloud"
   ]
  },
  {
   "cell_type": "code",
   "execution_count": 2,
   "id": "06b01b15-402a-4505-badd-e1d181f81ee6",
   "metadata": {},
   "outputs": [],
   "source": [
    "import json\n",
    "with open('./credentials.json', 'r') as creds:\n",
    "  credentials = json.load(creds)"
   ]
  },
  {
   "cell_type": "code",
   "execution_count": 3,
   "id": "63350ba9-b6b4-4601-810b-d8e6bdce1c0d",
   "metadata": {},
   "outputs": [],
   "source": [
    "import os\n",
    "SAP_HANA_CLOUD_ADDRESS  = credentials[\"SAP_HANA_CLOUD\"][\"HANA_ADDRESS\"]\n",
    "SAP_HANA_CLOUD_PORT     = credentials[\"SAP_HANA_CLOUD\"][\"HANA_PORT\"]\n",
    "SAP_HANA_CLOUD_USER     = credentials[\"SAP_HANA_CLOUD\"][\"HANA_USER\"]\n",
    "SAP_HANA_CLOUD_PASSWORD = credentials[\"SAP_HANA_CLOUD\"][\"HANA_PASSWORD\"]"
   ]
  },
  {
   "cell_type": "markdown",
   "id": "8e21eb2f-2eb5-4648-b0cc-163bb840643f",
   "metadata": {},
   "source": [
    "### Get credentials for SAP AI Core, to access the Generative AI Hub"
   ]
  },
  {
   "cell_type": "code",
   "execution_count": 4,
   "id": "637043c3-2e14-4eba-b828-c5ca2a746247",
   "metadata": {},
   "outputs": [],
   "source": [
    "import os\n",
    "os.environ[\"AICORE_CLIENT_ID\"]      = credentials[\"SAP_AI_CORE\"][\"AICORE_CLIENT_ID\"]\n",
    "os.environ[\"AICORE_CLIENT_SECRET\"]  = credentials[\"SAP_AI_CORE\"][\"AICORE_CLIENT_SECRET\"]\n",
    "os.environ[\"AICORE_AUTH_URL\"]       = credentials[\"SAP_AI_CORE\"][\"AICORE_AUTH_URL\"]\n",
    "os.environ[\"AICORE_RESOURCE_GROUP\"] = credentials[\"SAP_AI_CORE\"][\"AICORE_RESOURCE_GROUP\"]\n",
    "os.environ[\"AICORE_BASE_URL\"]       = credentials[\"SAP_AI_CORE\"][\"AICORE_BASE_URL\"]   "
   ]
  },
  {
   "cell_type": "markdown",
   "id": "be641a0a-8d45-4d8b-9410-94871d9fff19",
   "metadata": {},
   "source": [
    "### Logon to SAP HANA Cloud"
   ]
  },
  {
   "cell_type": "code",
   "execution_count": 5,
   "id": "b23b166a-0ff6-45bf-b34f-cbac84dc7e56",
   "metadata": {},
   "outputs": [
    {
     "data": {
      "text/plain": [
       "True"
      ]
     },
     "execution_count": 5,
     "metadata": {},
     "output_type": "execute_result"
    }
   ],
   "source": [
    "import hana_ml.dataframe as dataframe\n",
    "conn = dataframe.ConnectionContext(\n",
    "                                   address  = SAP_HANA_CLOUD_ADDRESS,\n",
    "                                   port     = SAP_HANA_CLOUD_PORT,\n",
    "                                   user     = SAP_HANA_CLOUD_USER,\n",
    "                                   password = SAP_HANA_CLOUD_PASSWORD, \n",
    "                                   )\n",
    "conn.connection.isconnected()"
   ]
  },
  {
   "cell_type": "markdown",
   "id": "b25cad15-c224-4ea3-9a60-473ba38a57a2",
   "metadata": {},
   "source": [
    "### Get closest matches for new user question (the candidate questions)"
   ]
  },
  {
   "cell_type": "markdown",
   "id": "69f21f70-9739-4ebe-b378-1667c615e11e",
   "metadata": {},
   "source": [
    "Create the embeddings for a new question, using SAP HANA Cloud's embedding engine"
   ]
  },
  {
   "cell_type": "code",
   "execution_count": 6,
   "id": "fde7fd7d-6047-4c97-89be-1782b1d02940",
   "metadata": {},
   "outputs": [
    {
     "data": {
      "text/plain": [
       "[-0.008662866428494453,\n",
       " 0.01020228024572134,\n",
       " 0.005512293428182602,\n",
       " 0.007197333034127951,\n",
       " 0.02618454024195671,\n",
       " 0.03807266056537628,\n",
       " 0.04797031357884407,\n",
       " 0.03472454473376274,\n",
       " -0.031678829342126846,\n",
       " -0.049704935401678085]"
      ]
     },
     "execution_count": 6,
     "metadata": {},
     "output_type": "execute_result"
    }
   ],
   "source": [
    "user_question = 'What is the meaning of the letters SAP?'\n",
    "sql = f'''SELECT VECTOR_EMBEDDING('{user_question}', 'QUERY', 'SAP_NEB.20240715') EMBEDDEDQUESTION FROM DUMMY;'''\n",
    "user_question_embedding_str = conn.sql(sql).head(1).collect().iloc[0, 0]\n",
    "user_question_embedding_str[:10]"
   ]
  },
  {
   "cell_type": "markdown",
   "id": "354e9c28-f5a5-4f56-84d3-503e888fc12d",
   "metadata": {},
   "source": [
    "Find the most similar questions, by comparing the new question's vector with the existing question's vectors, using SAP HANA Cloud's vector engine"
   ]
  },
  {
   "cell_type": "code",
   "execution_count": 7,
   "id": "116ccf8c-afbc-4bf0-b3f5-4527e5e2484d",
   "metadata": {},
   "outputs": [
    {
     "data": {
      "text/html": [
       "<div>\n",
       "<style scoped>\n",
       "    .dataframe tbody tr th:only-of-type {\n",
       "        vertical-align: middle;\n",
       "    }\n",
       "\n",
       "    .dataframe tbody tr th {\n",
       "        vertical-align: top;\n",
       "    }\n",
       "\n",
       "    .dataframe thead th {\n",
       "        text-align: right;\n",
       "    }\n",
       "</style>\n",
       "<table border=\"1\" class=\"dataframe\">\n",
       "  <thead>\n",
       "    <tr style=\"text-align: right;\">\n",
       "      <th></th>\n",
       "      <th>AID</th>\n",
       "      <th>QID</th>\n",
       "      <th>QUESTION</th>\n",
       "      <th>SIMILARITY</th>\n",
       "    </tr>\n",
       "  </thead>\n",
       "  <tbody>\n",
       "    <tr>\n",
       "      <th>0</th>\n",
       "      <td>1001</td>\n",
       "      <td>1</td>\n",
       "      <td>What does the acronym \"SAP\" stand for?</td>\n",
       "      <td>0.831729</td>\n",
       "    </tr>\n",
       "    <tr>\n",
       "      <th>1</th>\n",
       "      <td>1016</td>\n",
       "      <td>1</td>\n",
       "      <td>What's it like to work at SAP?</td>\n",
       "      <td>0.617224</td>\n",
       "    </tr>\n",
       "    <tr>\n",
       "      <th>2</th>\n",
       "      <td>1017</td>\n",
       "      <td>1</td>\n",
       "      <td>What employee benefits does SAP offer?</td>\n",
       "      <td>0.611300</td>\n",
       "    </tr>\n",
       "    <tr>\n",
       "      <th>3</th>\n",
       "      <td>1002</td>\n",
       "      <td>1</td>\n",
       "      <td>What is SAP’s vision and mission?</td>\n",
       "      <td>0.610386</td>\n",
       "    </tr>\n",
       "    <tr>\n",
       "      <th>4</th>\n",
       "      <td>1019</td>\n",
       "      <td>1</td>\n",
       "      <td>What can I expect in terms of career progressi...</td>\n",
       "      <td>0.604362</td>\n",
       "    </tr>\n",
       "    <tr>\n",
       "      <th>5</th>\n",
       "      <td>1018</td>\n",
       "      <td>1</td>\n",
       "      <td>What career development opportunities does SAP...</td>\n",
       "      <td>0.602155</td>\n",
       "    </tr>\n",
       "    <tr>\n",
       "      <th>6</th>\n",
       "      <td>1006</td>\n",
       "      <td>1</td>\n",
       "      <td>Why was SAP AG converted into an SE?</td>\n",
       "      <td>0.575461</td>\n",
       "    </tr>\n",
       "    <tr>\n",
       "      <th>7</th>\n",
       "      <td>1022</td>\n",
       "      <td>1</td>\n",
       "      <td>Where can I receive SAP training to prepare fo...</td>\n",
       "      <td>0.569313</td>\n",
       "    </tr>\n",
       "    <tr>\n",
       "      <th>8</th>\n",
       "      <td>1000</td>\n",
       "      <td>1</td>\n",
       "      <td>When was SAP founded?</td>\n",
       "      <td>0.567949</td>\n",
       "    </tr>\n",
       "    <tr>\n",
       "      <th>9</th>\n",
       "      <td>1021</td>\n",
       "      <td>1</td>\n",
       "      <td>How does SAP approach work-life balance?</td>\n",
       "      <td>0.566226</td>\n",
       "    </tr>\n",
       "    <tr>\n",
       "      <th>10</th>\n",
       "      <td>1009</td>\n",
       "      <td>1</td>\n",
       "      <td>What is SAP’s purpose and overarching strategi...</td>\n",
       "      <td>0.562510</td>\n",
       "    </tr>\n",
       "    <tr>\n",
       "      <th>11</th>\n",
       "      <td>1007</td>\n",
       "      <td>2</td>\n",
       "      <td>How many people work for SAP`</td>\n",
       "      <td>0.562015</td>\n",
       "    </tr>\n",
       "    <tr>\n",
       "      <th>12</th>\n",
       "      <td>1010</td>\n",
       "      <td>1</td>\n",
       "      <td>Why is SAP focusing on sustainability?</td>\n",
       "      <td>0.539260</td>\n",
       "    </tr>\n",
       "    <tr>\n",
       "      <th>13</th>\n",
       "      <td>1008</td>\n",
       "      <td>1</td>\n",
       "      <td>Do SAP employees participate in the company's ...</td>\n",
       "      <td>0.537846</td>\n",
       "    </tr>\n",
       "    <tr>\n",
       "      <th>14</th>\n",
       "      <td>1013</td>\n",
       "      <td>1</td>\n",
       "      <td>What is the impact of SAP Sustainability solut...</td>\n",
       "      <td>0.534538</td>\n",
       "    </tr>\n",
       "    <tr>\n",
       "      <th>15</th>\n",
       "      <td>1005</td>\n",
       "      <td>1</td>\n",
       "      <td>Where can I find information about the SAP Exe...</td>\n",
       "      <td>0.530731</td>\n",
       "    </tr>\n",
       "    <tr>\n",
       "      <th>16</th>\n",
       "      <td>1001</td>\n",
       "      <td>2</td>\n",
       "      <td>A Applications and P Products, but what about ...</td>\n",
       "      <td>0.521664</td>\n",
       "    </tr>\n",
       "    <tr>\n",
       "      <th>17</th>\n",
       "      <td>1011</td>\n",
       "      <td>1</td>\n",
       "      <td>What is SAP Cloud for Sustainable Enterprises?</td>\n",
       "      <td>0.514220</td>\n",
       "    </tr>\n",
       "    <tr>\n",
       "      <th>18</th>\n",
       "      <td>1012</td>\n",
       "      <td>1</td>\n",
       "      <td>How do SAP Sustainability solutions help creat...</td>\n",
       "      <td>0.514162</td>\n",
       "    </tr>\n",
       "    <tr>\n",
       "      <th>19</th>\n",
       "      <td>1005</td>\n",
       "      <td>2</td>\n",
       "      <td>Who is currently on SAP's board?</td>\n",
       "      <td>0.513485</td>\n",
       "    </tr>\n",
       "  </tbody>\n",
       "</table>\n",
       "</div>"
      ],
      "text/plain": [
       "     AID  QID                                           QUESTION  SIMILARITY\n",
       "0   1001    1             What does the acronym \"SAP\" stand for?    0.831729\n",
       "1   1016    1                     What's it like to work at SAP?    0.617224\n",
       "2   1017    1             What employee benefits does SAP offer?    0.611300\n",
       "3   1002    1                  What is SAP’s vision and mission?    0.610386\n",
       "4   1019    1  What can I expect in terms of career progressi...    0.604362\n",
       "5   1018    1  What career development opportunities does SAP...    0.602155\n",
       "6   1006    1               Why was SAP AG converted into an SE?    0.575461\n",
       "7   1022    1  Where can I receive SAP training to prepare fo...    0.569313\n",
       "8   1000    1                              When was SAP founded?    0.567949\n",
       "9   1021    1           How does SAP approach work-life balance?    0.566226\n",
       "10  1009    1  What is SAP’s purpose and overarching strategi...    0.562510\n",
       "11  1007    2                      How many people work for SAP`    0.562015\n",
       "12  1010    1             Why is SAP focusing on sustainability?    0.539260\n",
       "13  1008    1  Do SAP employees participate in the company's ...    0.537846\n",
       "14  1013    1  What is the impact of SAP Sustainability solut...    0.534538\n",
       "15  1005    1  Where can I find information about the SAP Exe...    0.530731\n",
       "16  1001    2  A Applications and P Products, but what about ...    0.521664\n",
       "17  1011    1     What is SAP Cloud for Sustainable Enterprises?    0.514220\n",
       "18  1012    1  How do SAP Sustainability solutions help creat...    0.514162\n",
       "19  1005    2                   Who is currently on SAP's board?    0.513485"
      ]
     },
     "execution_count": 7,
     "metadata": {},
     "output_type": "execute_result"
    }
   ],
   "source": [
    "sql = f'''SELECT TOP 200 \"AID\", \"QID\", \"QUESTION\", COSINE_SIMILARITY(\"QUESTION_VECTOR\", TO_REAL_VECTOR('{user_question_embedding_str}')) AS SIMILARITY\n",
    "        FROM FAQ_ASSISTANT_QUESTIONS ORDER BY \"SIMILARITY\" DESC, \"AID\", \"QID\" '''\n",
    "df_remote = conn.sql(sql)\n",
    "df_remote.head(20).collect()"
   ]
  },
  {
   "cell_type": "markdown",
   "id": "6ceb9a21-0b0e-4be0-b85d-d0b1ce663828",
   "metadata": {},
   "source": [
    "Select at least the best n candidates, or more in case more have high similarity. <font color='red'>Test which values of n seems most suitable for your data</font>"
   ]
  },
  {
   "cell_type": "code",
   "execution_count": 8,
   "id": "3ee9f17e-5d8b-4f0d-b23b-408f7b99def3",
   "metadata": {},
   "outputs": [
    {
     "data": {
      "text/plain": [
       "10"
      ]
     },
     "execution_count": 8,
     "metadata": {},
     "output_type": "execute_result"
    }
   ],
   "source": [
    "top_n = max(df_remote.filter('SIMILARITY > 0.95').count(), 10)\n",
    "top_n"
   ]
  },
  {
   "cell_type": "markdown",
   "id": "bf3a5ec7-2158-4717-9b90-aefa6c392599",
   "metadata": {},
   "source": [
    "Download the selected Questions as Pandas DataFrame for processing"
   ]
  },
  {
   "cell_type": "code",
   "execution_count": 9,
   "id": "4e7576ff-4327-4354-8c83-7c6440189628",
   "metadata": {},
   "outputs": [
    {
     "data": {
      "text/html": [
       "<div>\n",
       "<style scoped>\n",
       "    .dataframe tbody tr th:only-of-type {\n",
       "        vertical-align: middle;\n",
       "    }\n",
       "\n",
       "    .dataframe tbody tr th {\n",
       "        vertical-align: top;\n",
       "    }\n",
       "\n",
       "    .dataframe thead th {\n",
       "        text-align: right;\n",
       "    }\n",
       "</style>\n",
       "<table border=\"1\" class=\"dataframe\">\n",
       "  <thead>\n",
       "    <tr style=\"text-align: right;\">\n",
       "      <th></th>\n",
       "      <th>AID</th>\n",
       "      <th>QID</th>\n",
       "      <th>QUESTION</th>\n",
       "    </tr>\n",
       "  </thead>\n",
       "  <tbody>\n",
       "    <tr>\n",
       "      <th>0</th>\n",
       "      <td>1001</td>\n",
       "      <td>1</td>\n",
       "      <td>What does the acronym \"SAP\" stand for?</td>\n",
       "    </tr>\n",
       "    <tr>\n",
       "      <th>1</th>\n",
       "      <td>1016</td>\n",
       "      <td>1</td>\n",
       "      <td>What's it like to work at SAP?</td>\n",
       "    </tr>\n",
       "    <tr>\n",
       "      <th>2</th>\n",
       "      <td>1017</td>\n",
       "      <td>1</td>\n",
       "      <td>What employee benefits does SAP offer?</td>\n",
       "    </tr>\n",
       "    <tr>\n",
       "      <th>3</th>\n",
       "      <td>1002</td>\n",
       "      <td>1</td>\n",
       "      <td>What is SAP’s vision and mission?</td>\n",
       "    </tr>\n",
       "    <tr>\n",
       "      <th>4</th>\n",
       "      <td>1019</td>\n",
       "      <td>1</td>\n",
       "      <td>What can I expect in terms of career progressi...</td>\n",
       "    </tr>\n",
       "    <tr>\n",
       "      <th>5</th>\n",
       "      <td>1018</td>\n",
       "      <td>1</td>\n",
       "      <td>What career development opportunities does SAP...</td>\n",
       "    </tr>\n",
       "    <tr>\n",
       "      <th>6</th>\n",
       "      <td>1006</td>\n",
       "      <td>1</td>\n",
       "      <td>Why was SAP AG converted into an SE?</td>\n",
       "    </tr>\n",
       "    <tr>\n",
       "      <th>7</th>\n",
       "      <td>1022</td>\n",
       "      <td>1</td>\n",
       "      <td>Where can I receive SAP training to prepare fo...</td>\n",
       "    </tr>\n",
       "    <tr>\n",
       "      <th>8</th>\n",
       "      <td>1000</td>\n",
       "      <td>1</td>\n",
       "      <td>When was SAP founded?</td>\n",
       "    </tr>\n",
       "    <tr>\n",
       "      <th>9</th>\n",
       "      <td>1021</td>\n",
       "      <td>1</td>\n",
       "      <td>How does SAP approach work-life balance?</td>\n",
       "    </tr>\n",
       "  </tbody>\n",
       "</table>\n",
       "</div>"
      ],
      "text/plain": [
       "    AID  QID                                           QUESTION\n",
       "0  1001    1             What does the acronym \"SAP\" stand for?\n",
       "1  1016    1                     What's it like to work at SAP?\n",
       "2  1017    1             What employee benefits does SAP offer?\n",
       "3  1002    1                  What is SAP’s vision and mission?\n",
       "4  1019    1  What can I expect in terms of career progressi...\n",
       "5  1018    1  What career development opportunities does SAP...\n",
       "6  1006    1               Why was SAP AG converted into an SE?\n",
       "7  1022    1  Where can I receive SAP training to prepare fo...\n",
       "8  1000    1                              When was SAP founded?\n",
       "9  1021    1           How does SAP approach work-life balance?"
      ]
     },
     "execution_count": 9,
     "metadata": {},
     "output_type": "execute_result"
    }
   ],
   "source": [
    "df_data = df_remote.head(top_n).select('AID', 'QID', 'QUESTION').collect()\n",
    "df_data"
   ]
  },
  {
   "cell_type": "markdown",
   "id": "76811a14-2da7-439f-ab31-35d1073d3bb2",
   "metadata": {},
   "source": [
    "Create a composite ROW-ID out of the AID and QID, which will simplify the identification of the selected Question and its corresponding Answer"
   ]
  },
  {
   "cell_type": "code",
   "execution_count": 10,
   "id": "dea40b69-6647-4519-85db-b28397584aee",
   "metadata": {},
   "outputs": [
    {
     "data": {
      "text/html": [
       "<div>\n",
       "<style scoped>\n",
       "    .dataframe tbody tr th:only-of-type {\n",
       "        vertical-align: middle;\n",
       "    }\n",
       "\n",
       "    .dataframe tbody tr th {\n",
       "        vertical-align: top;\n",
       "    }\n",
       "\n",
       "    .dataframe thead th {\n",
       "        text-align: right;\n",
       "    }\n",
       "</style>\n",
       "<table border=\"1\" class=\"dataframe\">\n",
       "  <thead>\n",
       "    <tr style=\"text-align: right;\">\n",
       "      <th></th>\n",
       "      <th>ROWID</th>\n",
       "      <th>QUESTION</th>\n",
       "    </tr>\n",
       "  </thead>\n",
       "  <tbody>\n",
       "    <tr>\n",
       "      <th>0</th>\n",
       "      <td>1001-1:</td>\n",
       "      <td>What does the acronym \"SAP\" stand for?</td>\n",
       "    </tr>\n",
       "    <tr>\n",
       "      <th>1</th>\n",
       "      <td>1016-1:</td>\n",
       "      <td>What's it like to work at SAP?</td>\n",
       "    </tr>\n",
       "    <tr>\n",
       "      <th>2</th>\n",
       "      <td>1017-1:</td>\n",
       "      <td>What employee benefits does SAP offer?</td>\n",
       "    </tr>\n",
       "    <tr>\n",
       "      <th>3</th>\n",
       "      <td>1002-1:</td>\n",
       "      <td>What is SAP’s vision and mission?</td>\n",
       "    </tr>\n",
       "    <tr>\n",
       "      <th>4</th>\n",
       "      <td>1019-1:</td>\n",
       "      <td>What can I expect in terms of career progressi...</td>\n",
       "    </tr>\n",
       "    <tr>\n",
       "      <th>5</th>\n",
       "      <td>1018-1:</td>\n",
       "      <td>What career development opportunities does SAP...</td>\n",
       "    </tr>\n",
       "    <tr>\n",
       "      <th>6</th>\n",
       "      <td>1006-1:</td>\n",
       "      <td>Why was SAP AG converted into an SE?</td>\n",
       "    </tr>\n",
       "    <tr>\n",
       "      <th>7</th>\n",
       "      <td>1022-1:</td>\n",
       "      <td>Where can I receive SAP training to prepare fo...</td>\n",
       "    </tr>\n",
       "    <tr>\n",
       "      <th>8</th>\n",
       "      <td>1000-1:</td>\n",
       "      <td>When was SAP founded?</td>\n",
       "    </tr>\n",
       "    <tr>\n",
       "      <th>9</th>\n",
       "      <td>1021-1:</td>\n",
       "      <td>How does SAP approach work-life balance?</td>\n",
       "    </tr>\n",
       "  </tbody>\n",
       "</table>\n",
       "</div>"
      ],
      "text/plain": [
       "      ROWID                                           QUESTION\n",
       "0  1001-1:              What does the acronym \"SAP\" stand for?\n",
       "1  1016-1:                      What's it like to work at SAP?\n",
       "2  1017-1:              What employee benefits does SAP offer?\n",
       "3  1002-1:                   What is SAP’s vision and mission?\n",
       "4  1019-1:   What can I expect in terms of career progressi...\n",
       "5  1018-1:   What career development opportunities does SAP...\n",
       "6  1006-1:                Why was SAP AG converted into an SE?\n",
       "7  1022-1:   Where can I receive SAP training to prepare fo...\n",
       "8  1000-1:                               When was SAP founded?\n",
       "9  1021-1:            How does SAP approach work-life balance?"
      ]
     },
     "execution_count": 10,
     "metadata": {},
     "output_type": "execute_result"
    }
   ],
   "source": [
    "df_data['ROWID'] = df_data['AID'].astype(str) + '-' + df_data['QID'].astype(str) + ': '\n",
    "df_data = df_data[['ROWID', 'QUESTION']]\n",
    "df_data"
   ]
  },
  {
   "cell_type": "markdown",
   "id": "32a72184-5059-4302-9a94-e74a0f66ed28",
   "metadata": {},
   "source": [
    "### Get the one question from the candidates that matches the user's question best"
   ]
  },
  {
   "cell_type": "markdown",
   "id": "7150c09b-8815-48ba-bb2b-8d5f6aa28406",
   "metadata": {},
   "source": [
    "Turn the above Pandas dataframe with the candidate questions into block of text, for use with the Large Language Model"
   ]
  },
  {
   "cell_type": "code",
   "execution_count": 11,
   "id": "d0a9c543-9fa7-4a72-99bc-a2acc952026c",
   "metadata": {},
   "outputs": [
    {
     "name": "stdout",
     "output_type": "stream",
     "text": [
      "1001-1:                              What does the acronym \"SAP\" stand for?\n",
      "1016-1:                                      What's it like to work at SAP?\n",
      "1017-1:                              What employee benefits does SAP offer?\n",
      "1002-1:                                   What is SAP’s vision and mission?\n",
      "1019-1:            What can I expect in terms of career progression at SAP?\n",
      "1018-1:               What career development opportunities does SAP offer?\n",
      "1006-1:                                Why was SAP AG converted into an SE?\n",
      "1022-1:  Where can I receive SAP training to prepare for a career with SAP?\n",
      "1000-1:                                               When was SAP founded?\n",
      "1021-1:                            How does SAP approach work-life balance?\n"
     ]
    }
   ],
   "source": [
    "candiates_str = df_data.to_string(header=False,\n",
    "                                  index=False,\n",
    "                                  index_names=False)\n",
    "print(candiates_str)"
   ]
  },
  {
   "cell_type": "markdown",
   "id": "dd521455-fd16-47a0-8be4-d6b195562611",
   "metadata": {},
   "source": [
    "### Get best match through Large Language Model"
   ]
  },
  {
   "cell_type": "markdown",
   "id": "ba585d65-da8a-4216-ab6e-5979502f57ab",
   "metadata": {},
   "source": [
    "Prepare the prompt for the Large Language Model to select the best matching question from the candidates"
   ]
  },
  {
   "cell_type": "code",
   "execution_count": 12,
   "id": "edcea736-cc31-48c0-92dd-a8720b9d36a9",
   "metadata": {},
   "outputs": [
    {
     "name": "stdout",
     "output_type": "stream",
     "text": [
      "\n",
      "Task: which of the following candidate questions is closest to this one?\n",
      "What is the meaning of the letters SAP?\n",
      "Only return the ID of the selected question, not the question itself. The ID are the first values in each row. \n",
      "In case none of the candidate questions is a good match, return only: NONE\n",
      "\n",
      "-----------------------------------\n",
      "\n",
      "Candidate questions. Each question starts with the ID, followed by a :, followed by the question\n",
      "1001-1:                              What does the acronym \"SAP\" stand for?\n",
      "1016-1:                                      What's it like to work at SAP?\n",
      "1017-1:                              What employee benefits does SAP offer?\n",
      "1002-1:                                   What is SAP’s vision and mission?\n",
      "1019-1:            What can I expect in terms of career progression at SAP?\n",
      "1018-1:               What career development opportunities does SAP offer?\n",
      "1006-1:                                Why was SAP AG converted into an SE?\n",
      "1022-1:  Where can I receive SAP training to prepare for a career with SAP?\n",
      "1000-1:                                               When was SAP founded?\n",
      "1021-1:                            How does SAP approach work-life balance?\n",
      "\n"
     ]
    }
   ],
   "source": [
    "llm_prompt = f'''\n",
    "Task: which of the following candidate questions is closest to this one?\n",
    "{user_question}\n",
    "Only return the ID of the selected question, not the question itself. The ID are the first values in each row. \n",
    "In case none of the candidate questions is a good match, return only: NONE\n",
    "\n",
    "-----------------------------------\n",
    "\n",
    "Candidate questions. Each question starts with the ID, followed by a :, followed by the question\n",
    "{candiates_str}\n",
    "'''\n",
    "print(llm_prompt)"
   ]
  },
  {
   "cell_type": "markdown",
   "id": "679951a7-c6b7-4442-85cd-b5ac6b671e09",
   "metadata": {},
   "source": [
    "Specify which Large Language Model to use (must be deployed on the Generative AI Hub)"
   ]
  },
  {
   "cell_type": "code",
   "execution_count": 13,
   "id": "7cea3228-aae2-4d5c-a72b-8d98240f46cf",
   "metadata": {},
   "outputs": [],
   "source": [
    "AI_CORE_MODEL_NAME  = 'mistralai--mistral-large-instruct'"
   ]
  },
  {
   "cell_type": "markdown",
   "id": "c7be594e-c842-4f58-ae8e-eefe8f6b5525",
   "metadata": {},
   "source": [
    "Send the prompt to the Large Language Model via the SAP Generative AI Hub and display the full response"
   ]
  },
  {
   "cell_type": "code",
   "execution_count": 14,
   "id": "42addfeb-fb5f-4b67-811a-afa225b2a273",
   "metadata": {},
   "outputs": [
    {
     "name": "stdout",
     "output_type": "stream",
     "text": [
      "ChatCompletion(id='chat-7b9941e0a1b9411c852e043f6a1761f2', choices=[Choice(finish_reason='stop', index=0, logprobs=None, message=ChatCompletionMessage(content=' 1001-1', refusal=None, role='assistant', audio=None, function_call=None, tool_calls=[]), stop_reason=None)], created=1740987695, model='mistralai--mistral-large-instruct', object='chat.completion', service_tier=None, system_fingerprint=None, usage=CompletionUsage(completion_tokens=8, prompt_tokens=310, total_tokens=318, completion_tokens_details=None, prompt_tokens_details=None))\n"
     ]
    }
   ],
   "source": [
    "from gen_ai_hub.proxy.native.openai import chat\n",
    "messages = [{\"role\": \"user\", \"content\": llm_prompt}\n",
    "           ]\n",
    "kwargs = dict(model_name=AI_CORE_MODEL_NAME, messages=messages, temperature=0)\n",
    "response = chat.completions.create(**kwargs)\n",
    "print(response)"
   ]
  },
  {
   "cell_type": "markdown",
   "id": "8600fd2a-c3ea-4e36-8a05-a171a2d9b60e",
   "metadata": {},
   "source": [
    "Extract the ROWID that was selected by the Large Language Model"
   ]
  },
  {
   "cell_type": "code",
   "execution_count": 15,
   "id": "015774ee-3e99-43cc-a402-c3cc46fa5ab2",
   "metadata": {},
   "outputs": [
    {
     "data": {
      "text/plain": [
       "'1001-1'"
      ]
     },
     "execution_count": 15,
     "metadata": {},
     "output_type": "execute_result"
    }
   ],
   "source": [
    "llm_response = response.choices[0].message.content.lstrip()\n",
    "llm_response"
   ]
  },
  {
   "cell_type": "markdown",
   "id": "28ce72b5-f6d2-47ae-ac04-86421756dc2a",
   "metadata": {},
   "source": [
    "### Get the pre-defined Answer that belongs to the selected Question from the FAQ"
   ]
  },
  {
   "cell_type": "code",
   "execution_count": 16,
   "id": "10ee9605-0d63-4885-93c0-bb05240355a2",
   "metadata": {},
   "outputs": [
    {
     "data": {
      "text/plain": [
       "'\"SAP\" stands for Systems, Applications, and Products in Data Processing.'"
      ]
     },
     "execution_count": 16,
     "metadata": {},
     "output_type": "execute_result"
    }
   ],
   "source": [
    "aid = qid = None\n",
    "matching_question = matching_answer = None\n",
    "\n",
    "if llm_response != 'NONE':\n",
    "   aid, qid = llm_response.split('-')\n",
    "\n",
    "   # From HANA Cloud get the question from the FAQ that matches the user request best\n",
    "   df_remote = conn.table('FAQ_ASSISTANT_QUESTIONS').filter(f''' \"AID\" = '{aid}' AND \"QID\" = '{qid}' ''').select('QUESTION')\n",
    "   matching_question = df_remote.head(5).collect().iloc[0,0]\n",
    "    \n",
    "   # From HANA Cloud get the predefined answer of the above question from the FAQ\n",
    "   df_remote = conn.table('FAQ_ASSISTANT_ANSWERS').filter(f''' \"AID\" = '{aid}' ''').select('ANSWER')\n",
    "   matching_answer = df_remote.head(5).collect().iloc[0,0]\n",
    "matching_answer"
   ]
  },
  {
   "cell_type": "markdown",
   "id": "b0db9ec3-decd-4411-ad8b-cdc6dd765f98",
   "metadata": {},
   "source": [
    "### Tailor the answer for a natural conversation flow"
   ]
  },
  {
   "cell_type": "markdown",
   "id": "1189cb99-ec2a-4512-a165-e7e240cf09df",
   "metadata": {},
   "source": [
    "Attempt to adjust the pre-defined response to a more natural answer, based on the user's specific phrase"
   ]
  },
  {
   "cell_type": "code",
   "execution_count": 17,
   "id": "40e7b9cd-7454-4598-a5eb-9426da9cb8b6",
   "metadata": {},
   "outputs": [
    {
     "name": "stdout",
     "output_type": "stream",
     "text": [
      "\n",
      "Task: Answer the following question. Only consider the context that is provided further below.\n",
      "What is the meaning of the letters SAP?\n",
      "\n",
      "-----------------------------------\n",
      "\n",
      "Context to consider to answer the above question:\n",
      "\"SAP\" stands for Systems, Applications, and Products in Data Processing.\n",
      "\n"
     ]
    }
   ],
   "source": [
    "llm_prompt = f'''\n",
    "Task: Answer the following question. Only consider the context that is provided further below.\n",
    "{user_question}\n",
    "\n",
    "-----------------------------------\n",
    "\n",
    "Context to consider to answer the above question:\n",
    "{matching_answer}\n",
    "'''\n",
    "print(llm_prompt)"
   ]
  },
  {
   "cell_type": "code",
   "execution_count": 18,
   "id": "ed9a635c-2e1d-444e-9175-2a520c5c424d",
   "metadata": {},
   "outputs": [
    {
     "name": "stdout",
     "output_type": "stream",
     "text": [
      "ChatCompletion(id='chat-10be1d9cb0bd455a8fafad9fce495aa6', choices=[Choice(finish_reason='stop', index=0, logprobs=None, message=ChatCompletionMessage(content=' The letters SAP stand for Systems, Applications, and Products in Data Processing.', refusal=None, role='assistant', audio=None, function_call=None, tool_calls=[]), stop_reason=None)], created=1740987696, model='mistralai--mistral-large-instruct', object='chat.completion', service_tier=None, system_fingerprint=None, usage=CompletionUsage(completion_tokens=19, prompt_tokens=69, total_tokens=88, completion_tokens_details=None, prompt_tokens_details=None))\n"
     ]
    }
   ],
   "source": [
    "messages = [{\"role\": \"user\", \"content\": llm_prompt}           ]\n",
    "kwargs = dict(model_name=AI_CORE_MODEL_NAME, messages=messages, temperature=0)\n",
    "response = chat.completions.create(**kwargs)\n",
    "print(response)"
   ]
  },
  {
   "cell_type": "code",
   "execution_count": 19,
   "id": "9dc69ced-37c7-4f73-a9e4-4571a893e772",
   "metadata": {
    "scrolled": true
   },
   "outputs": [
    {
     "data": {
      "text/plain": [
       "'The letters SAP stand for Systems, Applications, and Products in Data Processing.'"
      ]
     },
     "execution_count": 19,
     "metadata": {},
     "output_type": "execute_result"
    }
   ],
   "source": [
    "natural_answer = response.choices[0].message.content.lstrip()\n",
    "natural_answer"
   ]
  },
  {
   "cell_type": "markdown",
   "id": "8ca1deeb-ad96-4693-a1cb-a6e9a4a27233",
   "metadata": {},
   "source": [
    "### Final answer"
   ]
  },
  {
   "cell_type": "code",
   "execution_count": 20,
   "id": "101d6b21-bd17-4875-9006-b58355000823",
   "metadata": {},
   "outputs": [
    {
     "name": "stdout",
     "output_type": "stream",
     "text": [
      "\n",
      "The user question was:\n",
      "What is the meaning of the letters SAP?\n",
      "\n",
      "The selected question from the FAQ is:\n",
      "What does the acronym \"SAP\" stand for?\n",
      "\n",
      "The pre-defined answer to the selected question is:\n",
      "\"SAP\" stands for Systems, Applications, and Products in Data Processing.\n",
      "\n",
      "The natural answer is:\n",
      "The letters SAP stand for Systems, Applications, and Products in Data Processing.\n"
     ]
    }
   ],
   "source": [
    "print(f\"\"\"\n",
    "The user question was:\n",
    "{user_question}\n",
    "\n",
    "The selected question from the FAQ is:\n",
    "{matching_question}\n",
    "\n",
    "The pre-defined answer to the selected question is:\n",
    "{matching_answer}\n",
    "\n",
    "The natural answer is:\n",
    "{natural_answer}\"\"\")"
   ]
  },
  {
   "cell_type": "code",
   "execution_count": null,
   "id": "0cdcafe9-00ba-4024-9448-5de7fe0e4a01",
   "metadata": {},
   "outputs": [],
   "source": []
  }
 ],
 "metadata": {
  "kernelspec": {
   "display_name": "btpai",
   "language": "python",
   "name": "btpai"
  },
  "language_info": {
   "codemirror_mode": {
    "name": "ipython",
    "version": 3
   },
   "file_extension": ".py",
   "mimetype": "text/x-python",
   "name": "python",
   "nbconvert_exporter": "python",
   "pygments_lexer": "ipython3",
   "version": "3.12.9"
  }
 },
 "nbformat": 4,
 "nbformat_minor": 5
}
