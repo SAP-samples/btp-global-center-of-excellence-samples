{
 "cells": [
  {
   "cell_type": "code",
   "execution_count": 1,
   "id": "f0037b62-fb76-45e1-8fe3-df90879fcdfa",
   "metadata": {},
   "outputs": [],
   "source": [
    "#!pip install hana_ml "
   ]
  },
  {
   "cell_type": "code",
   "execution_count": 2,
   "id": "a7c21f06-9f40-4012-9498-839945a7a005",
   "metadata": {},
   "outputs": [],
   "source": [
    "#!pip install openpyxl"
   ]
  },
  {
   "cell_type": "markdown",
   "id": "b060f55c-9dd2-432a-a8e4-05032c9e7de9",
   "metadata": {},
   "source": [
    "# FAQ Assistant with all processing on SAP BTP\n",
    "## Step 1: Upload Text to SAP HANA Cloud and vectorise the content"
   ]
  },
  {
   "cell_type": "markdown",
   "id": "a0943260-a031-4fc4-827d-bea046658c0d",
   "metadata": {},
   "source": [
    "### Get credentials for SAP HANA Cloud"
   ]
  },
  {
   "cell_type": "code",
   "execution_count": 3,
   "id": "56da3dc3-fa2b-4d6b-a418-6ed64ee0946c",
   "metadata": {},
   "outputs": [],
   "source": [
    "import json\n",
    "with open('./credentials.json', 'r') as creds:\n",
    "  credentials = json.load(creds)"
   ]
  },
  {
   "cell_type": "code",
   "execution_count": 4,
   "id": "97d0177f-a0dd-4215-8d2f-b359b985e755",
   "metadata": {},
   "outputs": [],
   "source": [
    "SAP_HANA_CLOUD_ADDRESS  = credentials[\"SAP_HANA_CLOUD\"][\"HANA_ADDRESS\"]\n",
    "SAP_HANA_CLOUD_PORT     = credentials[\"SAP_HANA_CLOUD\"][\"HANA_PORT\"]\n",
    "SAP_HANA_CLOUD_USER     = credentials[\"SAP_HANA_CLOUD\"][\"HANA_USER\"]\n",
    "SAP_HANA_CLOUD_PASSWORD = credentials[\"SAP_HANA_CLOUD\"][\"HANA_PASSWORD\"]"
   ]
  },
  {
   "cell_type": "markdown",
   "id": "c06140f2-290a-4641-b0ed-f8a59d1f85b3",
   "metadata": {},
   "source": [
    "### Logon to SAP HANA Cloud with those credentials"
   ]
  },
  {
   "cell_type": "code",
   "execution_count": 5,
   "id": "4de417e2-9100-4af8-a9cb-6172eee74dca",
   "metadata": {},
   "outputs": [
    {
     "data": {
      "text/plain": [
       "True"
      ]
     },
     "execution_count": 5,
     "metadata": {},
     "output_type": "execute_result"
    }
   ],
   "source": [
    "import hana_ml.dataframe as dataframe\n",
    "conn = dataframe.ConnectionContext(\n",
    "                                   address  = SAP_HANA_CLOUD_ADDRESS,\n",
    "                                   port     = SAP_HANA_CLOUD_PORT,\n",
    "                                   user     = SAP_HANA_CLOUD_USER,\n",
    "                                   password = SAP_HANA_CLOUD_PASSWORD, \n",
    "                                   )\n",
    "conn.connection.isconnected()"
   ]
  },
  {
   "cell_type": "markdown",
   "id": "1229333b-868a-4fd6-8b4d-c1cbe7fc3fb3",
   "metadata": {},
   "source": [
    "### Upload Questions as table"
   ]
  },
  {
   "cell_type": "markdown",
   "id": "80767317-cf5d-4ae7-aee9-2398e1029ff7",
   "metadata": {},
   "source": [
    "Load data from Excel to Pandas DataFrame"
   ]
  },
  {
   "cell_type": "code",
   "execution_count": 6,
   "id": "79098c1f-5d88-4ee2-8c4b-0302515bd166",
   "metadata": {},
   "outputs": [
    {
     "data": {
      "text/html": [
       "<div>\n",
       "<style scoped>\n",
       "    .dataframe tbody tr th:only-of-type {\n",
       "        vertical-align: middle;\n",
       "    }\n",
       "\n",
       "    .dataframe tbody tr th {\n",
       "        vertical-align: top;\n",
       "    }\n",
       "\n",
       "    .dataframe thead th {\n",
       "        text-align: right;\n",
       "    }\n",
       "</style>\n",
       "<table border=\"1\" class=\"dataframe\">\n",
       "  <thead>\n",
       "    <tr style=\"text-align: right;\">\n",
       "      <th></th>\n",
       "      <th>AID</th>\n",
       "      <th>QID</th>\n",
       "      <th>QUESTION</th>\n",
       "    </tr>\n",
       "  </thead>\n",
       "  <tbody>\n",
       "    <tr>\n",
       "      <th>0</th>\n",
       "      <td>1000</td>\n",
       "      <td>1</td>\n",
       "      <td>When was SAP founded?</td>\n",
       "    </tr>\n",
       "    <tr>\n",
       "      <th>1</th>\n",
       "      <td>1001</td>\n",
       "      <td>1</td>\n",
       "      <td>What does the acronym \"SAP\" stand for?</td>\n",
       "    </tr>\n",
       "    <tr>\n",
       "      <th>2</th>\n",
       "      <td>1002</td>\n",
       "      <td>1</td>\n",
       "      <td>What is SAP’s vision and mission?</td>\n",
       "    </tr>\n",
       "    <tr>\n",
       "      <th>3</th>\n",
       "      <td>1003</td>\n",
       "      <td>1</td>\n",
       "      <td>What is the business outlook for the current f...</td>\n",
       "    </tr>\n",
       "    <tr>\n",
       "      <th>4</th>\n",
       "      <td>1004</td>\n",
       "      <td>1</td>\n",
       "      <td>Are you planning to grow organically or throug...</td>\n",
       "    </tr>\n",
       "  </tbody>\n",
       "</table>\n",
       "</div>"
      ],
      "text/plain": [
       "    AID  QID                                           QUESTION\n",
       "0  1000    1                              When was SAP founded?\n",
       "1  1001    1             What does the acronym \"SAP\" stand for?\n",
       "2  1002    1                  What is SAP’s vision and mission?\n",
       "3  1003    1  What is the business outlook for the current f...\n",
       "4  1004    1  Are you planning to grow organically or throug..."
      ]
     },
     "execution_count": 6,
     "metadata": {},
     "output_type": "execute_result"
    }
   ],
   "source": [
    "import pandas as pd\n",
    "df_data= pd.read_excel ('FAQ_ASSISTANT_QUESTIONS.xlsx') \n",
    "df_data.head(5)"
   ]
  },
  {
   "cell_type": "markdown",
   "id": "8a295e00-9067-401f-af65-69d3fe8d76c2",
   "metadata": {},
   "source": [
    "Upload data to SAP HANA as table. "
   ]
  },
  {
   "cell_type": "code",
   "execution_count": 7,
   "id": "15d7b762-c56d-4066-8162-58a999e39859",
   "metadata": {},
   "outputs": [
    {
     "name": "stderr",
     "output_type": "stream",
     "text": [
      "100%|████████████████████████████████████████████████████████████████████████████████████| 1/1 [00:00<00:00, 20.49it/s]\n"
     ]
    }
   ],
   "source": [
    "import hana_ml.dataframe as dataframe\n",
    "df_remote = dataframe.create_dataframe_from_pandas(connection_context=conn, \n",
    "                                                   pandas_df=df_data, \n",
    "                                                   table_name='FAQ_ASSISTANT_QUESTIONS',\n",
    "                                                   force=True,\n",
    "                                                   replace=False,\n",
    "                                                   )"
   ]
  },
  {
   "cell_type": "markdown",
   "id": "8ff08e17-e900-4433-b448-8e2581f2403d",
   "metadata": {},
   "source": [
    "Add a vector column to the table that will be automatically filled, based on the text form the QUESTION column."
   ]
  },
  {
   "cell_type": "code",
   "execution_count": 8,
   "id": "ceb407d6-def0-49a4-92da-1aed25dd122a",
   "metadata": {},
   "outputs": [
    {
     "data": {
      "text/plain": [
       "True"
      ]
     },
     "execution_count": 8,
     "metadata": {},
     "output_type": "execute_result"
    }
   ],
   "source": [
    "dbapi_cursor = conn.connection.cursor()\n",
    "dbapi_cursor.execute(\"\"\"\n",
    "ALTER TABLE FAQ_ASSISTANT_QUESTIONS\n",
    "ADD (QUESTION_VECTOR REAL_VECTOR GENERATED ALWAYS AS VECTOR_EMBEDDING(QUESTION, 'QUERY', 'SAP_NEB.20240715'));\n",
    "\"\"\")"
   ]
  },
  {
   "cell_type": "markdown",
   "id": "9b8b9eb1-a8f3-4e09-bdef-2a580dc62df3",
   "metadata": {},
   "source": [
    "Verify that the vector column was created and filled"
   ]
  },
  {
   "cell_type": "code",
   "execution_count": 9,
   "id": "20364d87-ecbd-4220-92ce-7928877418ee",
   "metadata": {},
   "outputs": [
    {
     "data": {
      "text/html": [
       "<div>\n",
       "<style scoped>\n",
       "    .dataframe tbody tr th:only-of-type {\n",
       "        vertical-align: middle;\n",
       "    }\n",
       "\n",
       "    .dataframe tbody tr th {\n",
       "        vertical-align: top;\n",
       "    }\n",
       "\n",
       "    .dataframe thead th {\n",
       "        text-align: right;\n",
       "    }\n",
       "</style>\n",
       "<table border=\"1\" class=\"dataframe\">\n",
       "  <thead>\n",
       "    <tr style=\"text-align: right;\">\n",
       "      <th></th>\n",
       "      <th>AID</th>\n",
       "      <th>QID</th>\n",
       "      <th>QUESTION</th>\n",
       "      <th>QUESTION_VECTOR</th>\n",
       "    </tr>\n",
       "  </thead>\n",
       "  <tbody>\n",
       "    <tr>\n",
       "      <th>0</th>\n",
       "      <td>1000</td>\n",
       "      <td>1</td>\n",
       "      <td>When was SAP founded?</td>\n",
       "      <td>[-0.03181835636496544, -0.034392450004816055, ...</td>\n",
       "    </tr>\n",
       "    <tr>\n",
       "      <th>1</th>\n",
       "      <td>1001</td>\n",
       "      <td>1</td>\n",
       "      <td>What does the acronym \"SAP\" stand for?</td>\n",
       "      <td>[0.008095704019069672, 0.041635673493146896, -...</td>\n",
       "    </tr>\n",
       "    <tr>\n",
       "      <th>2</th>\n",
       "      <td>1002</td>\n",
       "      <td>1</td>\n",
       "      <td>What is SAP’s vision and mission?</td>\n",
       "      <td>[-0.0006423912127502263, 0.015804918482899666,...</td>\n",
       "    </tr>\n",
       "    <tr>\n",
       "      <th>3</th>\n",
       "      <td>1003</td>\n",
       "      <td>1</td>\n",
       "      <td>What is the business outlook for the current f...</td>\n",
       "      <td>[0.016121719032526016, -0.03136924281716347, 0...</td>\n",
       "    </tr>\n",
       "    <tr>\n",
       "      <th>4</th>\n",
       "      <td>1004</td>\n",
       "      <td>1</td>\n",
       "      <td>Are you planning to grow organically or throug...</td>\n",
       "      <td>[-0.028233295306563377, -0.01835213229060173, ...</td>\n",
       "    </tr>\n",
       "  </tbody>\n",
       "</table>\n",
       "</div>"
      ],
      "text/plain": [
       "    AID  QID                                           QUESTION  \\\n",
       "0  1000    1                              When was SAP founded?   \n",
       "1  1001    1             What does the acronym \"SAP\" stand for?   \n",
       "2  1002    1                  What is SAP’s vision and mission?   \n",
       "3  1003    1  What is the business outlook for the current f...   \n",
       "4  1004    1  Are you planning to grow organically or throug...   \n",
       "\n",
       "                                     QUESTION_VECTOR  \n",
       "0  [-0.03181835636496544, -0.034392450004816055, ...  \n",
       "1  [0.008095704019069672, 0.041635673493146896, -...  \n",
       "2  [-0.0006423912127502263, 0.015804918482899666,...  \n",
       "3  [0.016121719032526016, -0.03136924281716347, 0...  \n",
       "4  [-0.028233295306563377, -0.01835213229060173, ...  "
      ]
     },
     "execution_count": 9,
     "metadata": {},
     "output_type": "execute_result"
    }
   ],
   "source": [
    "conn.table('FAQ_ASSISTANT_QUESTIONS').head(5).collect()"
   ]
  },
  {
   "cell_type": "markdown",
   "id": "78259364-b13f-4f7e-a608-e3470da0e0de",
   "metadata": {},
   "source": [
    "### Upload Answers as table"
   ]
  },
  {
   "cell_type": "markdown",
   "id": "f4171b63-e23d-469c-b22e-0570f3114d59",
   "metadata": {},
   "source": [
    "Load data from Excel to Pandas DataFrame"
   ]
  },
  {
   "cell_type": "code",
   "execution_count": 10,
   "id": "f2a2b827-d9e2-42f0-9b33-0b603356fdc1",
   "metadata": {},
   "outputs": [
    {
     "data": {
      "text/html": [
       "<div>\n",
       "<style scoped>\n",
       "    .dataframe tbody tr th:only-of-type {\n",
       "        vertical-align: middle;\n",
       "    }\n",
       "\n",
       "    .dataframe tbody tr th {\n",
       "        vertical-align: top;\n",
       "    }\n",
       "\n",
       "    .dataframe thead th {\n",
       "        text-align: right;\n",
       "    }\n",
       "</style>\n",
       "<table border=\"1\" class=\"dataframe\">\n",
       "  <thead>\n",
       "    <tr style=\"text-align: right;\">\n",
       "      <th></th>\n",
       "      <th>AID</th>\n",
       "      <th>ANSWER</th>\n",
       "    </tr>\n",
       "  </thead>\n",
       "  <tbody>\n",
       "    <tr>\n",
       "      <th>0</th>\n",
       "      <td>1000</td>\n",
       "      <td>In 1972, five former IBM employees founded the...</td>\n",
       "    </tr>\n",
       "    <tr>\n",
       "      <th>1</th>\n",
       "      <td>1001</td>\n",
       "      <td>\"SAP\" stands for Systems, Applications, and Pr...</td>\n",
       "    </tr>\n",
       "    <tr>\n",
       "      <th>2</th>\n",
       "      <td>1002</td>\n",
       "      <td>In the digital era, data is the “new currency”...</td>\n",
       "    </tr>\n",
       "    <tr>\n",
       "      <th>3</th>\n",
       "      <td>1003</td>\n",
       "      <td>The outlook and mid-term ambition can be found...</td>\n",
       "    </tr>\n",
       "    <tr>\n",
       "      <th>4</th>\n",
       "      <td>1004</td>\n",
       "      <td>Organic growth remains the primary driver of o...</td>\n",
       "    </tr>\n",
       "  </tbody>\n",
       "</table>\n",
       "</div>"
      ],
      "text/plain": [
       "    AID                                             ANSWER\n",
       "0  1000  In 1972, five former IBM employees founded the...\n",
       "1  1001  \"SAP\" stands for Systems, Applications, and Pr...\n",
       "2  1002  In the digital era, data is the “new currency”...\n",
       "3  1003  The outlook and mid-term ambition can be found...\n",
       "4  1004  Organic growth remains the primary driver of o..."
      ]
     },
     "execution_count": 10,
     "metadata": {},
     "output_type": "execute_result"
    }
   ],
   "source": [
    "import pandas as pd\n",
    "df_data = pd.read_excel ('FAQ_ASSISTANT_ANSWERS.xlsx') \n",
    "df_data.head(5)"
   ]
  },
  {
   "cell_type": "markdown",
   "id": "2048321a-3ef2-4b60-afc2-54120a632d66",
   "metadata": {},
   "source": [
    "Upload data to SAP HANA as table. "
   ]
  },
  {
   "cell_type": "code",
   "execution_count": 11,
   "id": "f6ddfcfc-690f-4a4c-b95f-e5817bf5037a",
   "metadata": {},
   "outputs": [
    {
     "name": "stderr",
     "output_type": "stream",
     "text": [
      "100%|████████████████████████████████████████████████████████████████████████████████████| 1/1 [00:00<00:00, 15.90it/s]\n"
     ]
    }
   ],
   "source": [
    "import hana_ml.dataframe as dataframe\n",
    "df_remote = dataframe.create_dataframe_from_pandas(connection_context=conn, \n",
    "                                                   pandas_df=df_data, \n",
    "                                                   table_name='FAQ_ASSISTANT_ANSWERS',\n",
    "                                                   force=True,\n",
    "                                                   replace=False)"
   ]
  },
  {
   "cell_type": "code",
   "execution_count": 12,
   "id": "87d76be3-e9e9-473a-b2c2-7d1fcf08caab",
   "metadata": {},
   "outputs": [
    {
     "data": {
      "text/html": [
       "<div>\n",
       "<style scoped>\n",
       "    .dataframe tbody tr th:only-of-type {\n",
       "        vertical-align: middle;\n",
       "    }\n",
       "\n",
       "    .dataframe tbody tr th {\n",
       "        vertical-align: top;\n",
       "    }\n",
       "\n",
       "    .dataframe thead th {\n",
       "        text-align: right;\n",
       "    }\n",
       "</style>\n",
       "<table border=\"1\" class=\"dataframe\">\n",
       "  <thead>\n",
       "    <tr style=\"text-align: right;\">\n",
       "      <th></th>\n",
       "      <th>AID</th>\n",
       "      <th>ANSWER</th>\n",
       "    </tr>\n",
       "  </thead>\n",
       "  <tbody>\n",
       "    <tr>\n",
       "      <th>0</th>\n",
       "      <td>1000</td>\n",
       "      <td>In 1972, five former IBM employees founded the...</td>\n",
       "    </tr>\n",
       "    <tr>\n",
       "      <th>1</th>\n",
       "      <td>1001</td>\n",
       "      <td>\"SAP\" stands for Systems, Applications, and Pr...</td>\n",
       "    </tr>\n",
       "    <tr>\n",
       "      <th>2</th>\n",
       "      <td>1002</td>\n",
       "      <td>In the digital era, data is the “new currency”...</td>\n",
       "    </tr>\n",
       "    <tr>\n",
       "      <th>3</th>\n",
       "      <td>1003</td>\n",
       "      <td>The outlook and mid-term ambition can be found...</td>\n",
       "    </tr>\n",
       "    <tr>\n",
       "      <th>4</th>\n",
       "      <td>1004</td>\n",
       "      <td>Organic growth remains the primary driver of o...</td>\n",
       "    </tr>\n",
       "  </tbody>\n",
       "</table>\n",
       "</div>"
      ],
      "text/plain": [
       "    AID                                             ANSWER\n",
       "0  1000  In 1972, five former IBM employees founded the...\n",
       "1  1001  \"SAP\" stands for Systems, Applications, and Pr...\n",
       "2  1002  In the digital era, data is the “new currency”...\n",
       "3  1003  The outlook and mid-term ambition can be found...\n",
       "4  1004  Organic growth remains the primary driver of o..."
      ]
     },
     "execution_count": 12,
     "metadata": {},
     "output_type": "execute_result"
    }
   ],
   "source": [
    "df_remote.head(5).collect()"
   ]
  },
  {
   "cell_type": "markdown",
   "id": "b6ec12a2-c040-48d1-a800-bbb34d25fe53",
   "metadata": {},
   "source": [
    "### Upload another question to test automatic filling of the vector column"
   ]
  },
  {
   "cell_type": "markdown",
   "id": "5768757f-7b40-4eeb-bf93-71c80a852ba8",
   "metadata": {},
   "source": [
    "Verify that only 1 Question exists in the question table for a specific AID"
   ]
  },
  {
   "cell_type": "code",
   "execution_count": 13,
   "id": "195835f9-b527-43f3-973b-3e000ddcd7d8",
   "metadata": {},
   "outputs": [
    {
     "data": {
      "text/html": [
       "<div>\n",
       "<style scoped>\n",
       "    .dataframe tbody tr th:only-of-type {\n",
       "        vertical-align: middle;\n",
       "    }\n",
       "\n",
       "    .dataframe tbody tr th {\n",
       "        vertical-align: top;\n",
       "    }\n",
       "\n",
       "    .dataframe thead th {\n",
       "        text-align: right;\n",
       "    }\n",
       "</style>\n",
       "<table border=\"1\" class=\"dataframe\">\n",
       "  <thead>\n",
       "    <tr style=\"text-align: right;\">\n",
       "      <th></th>\n",
       "      <th>AID</th>\n",
       "      <th>QID</th>\n",
       "      <th>QUESTION</th>\n",
       "      <th>QUESTION_VECTOR</th>\n",
       "    </tr>\n",
       "  </thead>\n",
       "  <tbody>\n",
       "    <tr>\n",
       "      <th>0</th>\n",
       "      <td>1007</td>\n",
       "      <td>1</td>\n",
       "      <td>What is SAP's current headcount?</td>\n",
       "      <td>[-0.004303505644202232, -0.010145594365894794,...</td>\n",
       "    </tr>\n",
       "  </tbody>\n",
       "</table>\n",
       "</div>"
      ],
      "text/plain": [
       "    AID  QID                          QUESTION  \\\n",
       "0  1007    1  What is SAP's current headcount?   \n",
       "\n",
       "                                     QUESTION_VECTOR  \n",
       "0  [-0.004303505644202232, -0.010145594365894794,...  "
      ]
     },
     "execution_count": 13,
     "metadata": {},
     "output_type": "execute_result"
    }
   ],
   "source": [
    "conn.table('FAQ_ASSISTANT_QUESTIONS').filter('AID = 1007').collect()"
   ]
  },
  {
   "cell_type": "markdown",
   "id": "d68ff146-559e-400a-88e0-a5d5fbc0d845",
   "metadata": {},
   "source": [
    "Add an additional question for the same AID, without the QUESTION_VECTOR. This can be useful if the same question can be phrased differently."
   ]
  },
  {
   "cell_type": "code",
   "execution_count": 14,
   "id": "27d9f621-2ecc-4a4f-a016-5516836b500a",
   "metadata": {},
   "outputs": [
    {
     "data": {
      "text/html": [
       "<div>\n",
       "<style scoped>\n",
       "    .dataframe tbody tr th:only-of-type {\n",
       "        vertical-align: middle;\n",
       "    }\n",
       "\n",
       "    .dataframe tbody tr th {\n",
       "        vertical-align: top;\n",
       "    }\n",
       "\n",
       "    .dataframe thead th {\n",
       "        text-align: right;\n",
       "    }\n",
       "</style>\n",
       "<table border=\"1\" class=\"dataframe\">\n",
       "  <thead>\n",
       "    <tr style=\"text-align: right;\">\n",
       "      <th></th>\n",
       "      <th>AID</th>\n",
       "      <th>QID</th>\n",
       "      <th>QUESTION</th>\n",
       "    </tr>\n",
       "  </thead>\n",
       "  <tbody>\n",
       "    <tr>\n",
       "      <th>0</th>\n",
       "      <td>1007</td>\n",
       "      <td>2</td>\n",
       "      <td>How many people work for SAP`</td>\n",
       "    </tr>\n",
       "  </tbody>\n",
       "</table>\n",
       "</div>"
      ],
      "text/plain": [
       "    AID  QID                       QUESTION\n",
       "0  1007    2  How many people work for SAP`"
      ]
     },
     "execution_count": 14,
     "metadata": {},
     "output_type": "execute_result"
    }
   ],
   "source": [
    "data = [[1007, 2, 'How many people work for SAP`']]\n",
    "df_data = pd.DataFrame(data, columns=['AID', 'QID', 'QUESTION'])\n",
    "df_data"
   ]
  },
  {
   "cell_type": "code",
   "execution_count": 15,
   "id": "392f29de-94f7-4600-b08f-8d70526ecd85",
   "metadata": {},
   "outputs": [
    {
     "name": "stderr",
     "output_type": "stream",
     "text": [
      "100%|████████████████████████████████████████████████████████████████████████████████████| 1/1 [00:00<00:00,  9.66it/s]\n"
     ]
    }
   ],
   "source": [
    "import hana_ml.dataframe as dataframe\n",
    "df_remote = dataframe.create_dataframe_from_pandas(connection_context=conn, \n",
    "                                                   pandas_df=df_data, \n",
    "                                                   table_name='FAQ_ASSISTANT_QUESTIONS',\n",
    "                                                   append=True,\n",
    "                                                   replace=False)"
   ]
  },
  {
   "cell_type": "markdown",
   "id": "8d3875a4-72d0-4d81-ac75-7b9a13d17434",
   "metadata": {},
   "source": [
    "Check that now two questions exist for the same AID and that the QUESTION_VECTOR was automatically created and saved for the new entry."
   ]
  },
  {
   "cell_type": "code",
   "execution_count": 16,
   "id": "0d44fec3-ec7a-4a19-8ab0-b0bb07ff7547",
   "metadata": {},
   "outputs": [
    {
     "data": {
      "text/html": [
       "<div>\n",
       "<style scoped>\n",
       "    .dataframe tbody tr th:only-of-type {\n",
       "        vertical-align: middle;\n",
       "    }\n",
       "\n",
       "    .dataframe tbody tr th {\n",
       "        vertical-align: top;\n",
       "    }\n",
       "\n",
       "    .dataframe thead th {\n",
       "        text-align: right;\n",
       "    }\n",
       "</style>\n",
       "<table border=\"1\" class=\"dataframe\">\n",
       "  <thead>\n",
       "    <tr style=\"text-align: right;\">\n",
       "      <th></th>\n",
       "      <th>AID</th>\n",
       "      <th>QID</th>\n",
       "      <th>QUESTION</th>\n",
       "      <th>QUESTION_VECTOR</th>\n",
       "    </tr>\n",
       "  </thead>\n",
       "  <tbody>\n",
       "    <tr>\n",
       "      <th>0</th>\n",
       "      <td>1007</td>\n",
       "      <td>1</td>\n",
       "      <td>What is SAP's current headcount?</td>\n",
       "      <td>[-0.004303505644202232, -0.010145594365894794,...</td>\n",
       "    </tr>\n",
       "    <tr>\n",
       "      <th>1</th>\n",
       "      <td>1007</td>\n",
       "      <td>2</td>\n",
       "      <td>How many people work for SAP`</td>\n",
       "      <td>[0.006082972511649132, -0.003313991939648986, ...</td>\n",
       "    </tr>\n",
       "  </tbody>\n",
       "</table>\n",
       "</div>"
      ],
      "text/plain": [
       "    AID  QID                          QUESTION  \\\n",
       "0  1007    1  What is SAP's current headcount?   \n",
       "1  1007    2     How many people work for SAP`   \n",
       "\n",
       "                                     QUESTION_VECTOR  \n",
       "0  [-0.004303505644202232, -0.010145594365894794,...  \n",
       "1  [0.006082972511649132, -0.003313991939648986, ...  "
      ]
     },
     "execution_count": 16,
     "metadata": {},
     "output_type": "execute_result"
    }
   ],
   "source": [
    "conn.table('FAQ_ASSISTANT_QUESTIONS').filter('AID = 1007').collect()"
   ]
  },
  {
   "cell_type": "code",
   "execution_count": null,
   "id": "65025807-fd26-402b-8f96-f59dc3f872f8",
   "metadata": {},
   "outputs": [],
   "source": []
  }
 ],
 "metadata": {
  "kernelspec": {
   "display_name": "btpai",
   "language": "python",
   "name": "btpai"
  },
  "language_info": {
   "codemirror_mode": {
    "name": "ipython",
    "version": 3
   },
   "file_extension": ".py",
   "mimetype": "text/x-python",
   "name": "python",
   "nbconvert_exporter": "python",
   "pygments_lexer": "ipython3",
   "version": "3.12.9"
  }
 },
 "nbformat": 4,
 "nbformat_minor": 5
}
