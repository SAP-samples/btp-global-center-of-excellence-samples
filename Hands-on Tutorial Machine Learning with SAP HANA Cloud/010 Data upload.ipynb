{
 "cells": [
  {
   "cell_type": "markdown",
   "id": "6fcdda9b-0efb-443b-b462-b1876d32d901",
   "metadata": {},
   "source": [
    "# Machine Learning with SAP HANA Cloud"
   ]
  },
  {
   "cell_type": "markdown",
   "id": "0b719ba6-03b3-4c08-bad2-25d77809e42d",
   "metadata": {},
   "source": [
    "This notebook belongs to the <a href='https://community.sap.com/t5/artificial-intelligence-and-machine-learning-blogs/hands-on-tutorial-machine-learning-with-sap-hana-cloud/ba-p/13683430'>Hands-on Tutorial: Machine Learning with SAP HANA Cloud</a>\n",
    "## Data upload"
   ]
  },
  {
   "cell_type": "markdown",
   "id": "a0943260-a031-4fc4-827d-bea046658c0d",
   "metadata": {},
   "source": [
    "### Logon to SAP HANA Cloud"
   ]
  },
  {
   "cell_type": "code",
   "execution_count": 2,
   "id": "734c5fdd-3a5b-451b-910a-213ba9167a16",
   "metadata": {},
   "outputs": [
    {
     "data": {
      "text/plain": [
       "True"
      ]
     },
     "execution_count": 2,
     "metadata": {},
     "output_type": "execute_result"
    }
   ],
   "source": [
    "import hana_ml.dataframe as dataframe\n",
    "conn = dataframe.ConnectionContext(address='REPLACEWITHYOURSQLENDPOINT',\n",
    "                                   port=443,\n",
    "                                   user='REPLACEWITHYOURDBUSER',\n",
    "                                   password='REPLACEWITHYOURDBUSERPASSWORD')\n",
    "conn.connection.isconnected()"
   ]
  },
  {
   "cell_type": "markdown",
   "id": "1229333b-868a-4fd6-8b4d-c1cbe7fc3fb3",
   "metadata": {},
   "source": [
    "### Upload data to SAP HANA Cloud"
   ]
  },
  {
   "cell_type": "markdown",
   "id": "1cca36de-3149-4d11-a86c-f30de5e161f4",
   "metadata": {},
   "source": [
    "Load data from local csv file into Python"
   ]
  },
  {
   "cell_type": "code",
   "execution_count": 3,
   "id": "79098c1f-5d88-4ee2-8c4b-0302515bd166",
   "metadata": {},
   "outputs": [
    {
     "data": {
      "text/html": [
       "<div>\n",
       "<style scoped>\n",
       "    .dataframe tbody tr th:only-of-type {\n",
       "        vertical-align: middle;\n",
       "    }\n",
       "\n",
       "    .dataframe tbody tr th {\n",
       "        vertical-align: top;\n",
       "    }\n",
       "\n",
       "    .dataframe thead th {\n",
       "        text-align: right;\n",
       "    }\n",
       "</style>\n",
       "<table border=\"1\" class=\"dataframe\">\n",
       "  <thead>\n",
       "    <tr style=\"text-align: right;\">\n",
       "      <th></th>\n",
       "      <th>MONTH</th>\n",
       "      <th>REGION</th>\n",
       "      <th>COUNTRYOFRESIDENCE</th>\n",
       "      <th>OVERNIGHTSTAYS</th>\n",
       "    </tr>\n",
       "  </thead>\n",
       "  <tbody>\n",
       "    <tr>\n",
       "      <th>0</th>\n",
       "      <td>2022-01-01</td>\n",
       "      <td>Graubünden</td>\n",
       "      <td>Switzerland</td>\n",
       "      <td>392805</td>\n",
       "    </tr>\n",
       "    <tr>\n",
       "      <th>1</th>\n",
       "      <td>2022-01-01</td>\n",
       "      <td>Graubünden</td>\n",
       "      <td>Baltic States</td>\n",
       "      <td>0</td>\n",
       "    </tr>\n",
       "    <tr>\n",
       "      <th>2</th>\n",
       "      <td>2022-01-01</td>\n",
       "      <td>Graubünden</td>\n",
       "      <td>Germany</td>\n",
       "      <td>80648</td>\n",
       "    </tr>\n",
       "    <tr>\n",
       "      <th>3</th>\n",
       "      <td>2022-01-01</td>\n",
       "      <td>Graubünden</td>\n",
       "      <td>France</td>\n",
       "      <td>4229</td>\n",
       "    </tr>\n",
       "    <tr>\n",
       "      <th>4</th>\n",
       "      <td>2022-01-01</td>\n",
       "      <td>Graubünden</td>\n",
       "      <td>Italy</td>\n",
       "      <td>10083</td>\n",
       "    </tr>\n",
       "  </tbody>\n",
       "</table>\n",
       "</div>"
      ],
      "text/plain": [
       "       MONTH      REGION COUNTRYOFRESIDENCE  OVERNIGHTSTAYS\n",
       "0 2022-01-01  Graubünden        Switzerland          392805\n",
       "1 2022-01-01  Graubünden      Baltic States               0\n",
       "2 2022-01-01  Graubünden            Germany           80648\n",
       "3 2022-01-01  Graubünden             France            4229\n",
       "4 2022-01-01  Graubünden              Italy           10083"
      ]
     },
     "execution_count": 3,
     "metadata": {},
     "output_type": "execute_result"
    }
   ],
   "source": [
    "import pandas as pd\n",
    "df_data= pd.read_csv('OVERNIGHTSTAYS.csv') \n",
    "df_data.MONTH = pd.to_datetime(df_data.MONTH, format='%d/%m/%Y') \n",
    "df_data.head(5)"
   ]
  },
  {
   "cell_type": "markdown",
   "id": "4dd1092f-a0d6-40a4-8b4d-65f3a132e9f1",
   "metadata": {},
   "source": [
    "Upload the data from Python to SAP HANA Cloud. The table will be created automatically."
   ]
  },
  {
   "cell_type": "code",
   "execution_count": 4,
   "id": "15d7b762-c56d-4066-8162-58a999e39859",
   "metadata": {},
   "outputs": [
    {
     "name": "stderr",
     "output_type": "stream",
     "text": [
      "100%|████████████████████████████████████████████████████████████████████████████████████| 1/1 [00:00<00:00,  1.00it/s]\n"
     ]
    }
   ],
   "source": [
    "import hana_ml.dataframe as dataframe\n",
    "df_remote = dataframe.create_dataframe_from_pandas(connection_context=conn, \n",
    "                                                   pandas_df=df_data, \n",
    "                                                   table_name='OVERNIGHTSTAYS',\n",
    "                                                   force=True,\n",
    "                                                   replace=False)"
   ]
  },
  {
   "cell_type": "markdown",
   "id": "3d6840db-ef12-418d-8dcb-7bfcf8b67507",
   "metadata": {},
   "source": [
    "Peak at a few rows of the data that has just been uploaded"
   ]
  },
  {
   "cell_type": "code",
   "execution_count": 5,
   "id": "87753150-0dfa-427d-a4f1-35ff5c3a1afc",
   "metadata": {},
   "outputs": [
    {
     "data": {
      "text/html": [
       "<div>\n",
       "<style scoped>\n",
       "    .dataframe tbody tr th:only-of-type {\n",
       "        vertical-align: middle;\n",
       "    }\n",
       "\n",
       "    .dataframe tbody tr th {\n",
       "        vertical-align: top;\n",
       "    }\n",
       "\n",
       "    .dataframe thead th {\n",
       "        text-align: right;\n",
       "    }\n",
       "</style>\n",
       "<table border=\"1\" class=\"dataframe\">\n",
       "  <thead>\n",
       "    <tr style=\"text-align: right;\">\n",
       "      <th></th>\n",
       "      <th>MONTH</th>\n",
       "      <th>REGION</th>\n",
       "      <th>COUNTRYOFRESIDENCE</th>\n",
       "      <th>OVERNIGHTSTAYS</th>\n",
       "    </tr>\n",
       "  </thead>\n",
       "  <tbody>\n",
       "    <tr>\n",
       "      <th>0</th>\n",
       "      <td>2022-01-01</td>\n",
       "      <td>Graubünden</td>\n",
       "      <td>Switzerland</td>\n",
       "      <td>392805</td>\n",
       "    </tr>\n",
       "    <tr>\n",
       "      <th>1</th>\n",
       "      <td>2022-01-01</td>\n",
       "      <td>Graubünden</td>\n",
       "      <td>Baltic States</td>\n",
       "      <td>0</td>\n",
       "    </tr>\n",
       "    <tr>\n",
       "      <th>2</th>\n",
       "      <td>2022-01-01</td>\n",
       "      <td>Graubünden</td>\n",
       "      <td>Germany</td>\n",
       "      <td>80648</td>\n",
       "    </tr>\n",
       "    <tr>\n",
       "      <th>3</th>\n",
       "      <td>2022-01-01</td>\n",
       "      <td>Graubünden</td>\n",
       "      <td>France</td>\n",
       "      <td>4229</td>\n",
       "    </tr>\n",
       "    <tr>\n",
       "      <th>4</th>\n",
       "      <td>2022-01-01</td>\n",
       "      <td>Graubünden</td>\n",
       "      <td>Italy</td>\n",
       "      <td>10083</td>\n",
       "    </tr>\n",
       "  </tbody>\n",
       "</table>\n",
       "</div>"
      ],
      "text/plain": [
       "       MONTH      REGION COUNTRYOFRESIDENCE  OVERNIGHTSTAYS\n",
       "0 2022-01-01  Graubünden        Switzerland          392805\n",
       "1 2022-01-01  Graubünden      Baltic States               0\n",
       "2 2022-01-01  Graubünden            Germany           80648\n",
       "3 2022-01-01  Graubünden             France            4229\n",
       "4 2022-01-01  Graubünden              Italy           10083"
      ]
     },
     "execution_count": 5,
     "metadata": {},
     "output_type": "execute_result"
    }
   ],
   "source": [
    "df_remote.head(5).collect()"
   ]
  },
  {
   "cell_type": "markdown",
   "id": "2a16edf0-ddc2-4cfd-8bf9-489cb06e4bed",
   "metadata": {},
   "source": [
    "Structure of the table that was created"
   ]
  },
  {
   "cell_type": "code",
   "execution_count": 6,
   "id": "b0bcef2a-bb5e-432e-9af1-773a26b76e21",
   "metadata": {},
   "outputs": [
    {
     "data": {
      "text/plain": [
       "[('MONTH', 'TIMESTAMP', 27, 27, 27, 0),\n",
       " ('REGION', 'NVARCHAR', 5000, 5000, 5000, 0),\n",
       " ('COUNTRYOFRESIDENCE', 'NVARCHAR', 5000, 5000, 5000, 0),\n",
       " ('OVERNIGHTSTAYS', 'INT', 10, 10, 10, 0)]"
      ]
     },
     "execution_count": 6,
     "metadata": {},
     "output_type": "execute_result"
    }
   ],
   "source": [
    "df_remote.dtypes()"
   ]
  },
  {
   "cell_type": "code",
   "execution_count": null,
   "id": "4d745103-0526-4372-8900-04656760f92e",
   "metadata": {},
   "outputs": [],
   "source": []
  }
 ],
 "metadata": {
  "kernelspec": {
   "display_name": "sandbox_blogupdate",
   "language": "python",
   "name": "sandbox_blogupdate"
  },
  "language_info": {
   "codemirror_mode": {
    "name": "ipython",
    "version": 3
   },
   "file_extension": ".py",
   "mimetype": "text/x-python",
   "name": "python",
   "nbconvert_exporter": "python",
   "pygments_lexer": "ipython3",
   "version": "3.12.5"
  }
 },
 "nbformat": 4,
 "nbformat_minor": 5
}
